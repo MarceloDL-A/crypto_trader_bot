{
 "cells": [
  {
   "cell_type": "code",
   "execution_count": 1,
   "metadata": {},
   "outputs": [],
   "source": [
    "import pandas as pd\n",
    "import numpy as np\n",
    "\n",
    "# Data Wrangling Imports\n",
    "from datetime import datetime\n",
    "\n",
    "# Data Analysis Imports\n",
    "import statistics\n",
    "import seaborn as sns\n",
    "from scipy import linalg\n",
    "from matplotlib import style\n",
    "from matplotlib import ticker\n",
    "from scipy import stats\n",
    "from statsmodels.graphics.tsaplots import plot_acf, plot_pacf\n",
    "from statsmodels.tsa.statespace.sarimax import SARIMAX\n",
    "from statsmodels.tsa.stattools import adfuller\n",
    "\n",
    "# Data Visualization Imports\n",
    "#import cufflinks as cf\n",
    "#import chart_studio.plotly as py\n",
    "#import plotly.graph_objects as go\n",
    "import matplotlib.pyplot as plt\n",
    "import matplotlib.patches as mpatches\n",
    "import matplotlib.lines as mlines\n",
    "from matplotlib.gridspec import GridSpec\n",
    "\n",
    "# Econometry Imports\n",
    "import pandas_ta as ta\n",
    "\n",
    "# Other Imports\n",
    "import os\n",
    "from itertools import product\n",
    "import warnings\n",
    "import talib\n",
    "warnings.filterwarnings('ignore')\n",
    "pd.options.display.float_format = \"{:.10f}\".format"
   ]
  },
  {
   "cell_type": "markdown",
   "metadata": {},
   "source": [
    "### 2- Depois de cadastrar uma conta na [Binance](https://www.binance.com/pt-BR) é necessário inserir os parâmetros key e secret da API"
   ]
  },
  {
   "cell_type": "code",
   "execution_count": 2,
   "metadata": {},
   "outputs": [],
   "source": [
    "from binance.client import Client\n",
    "%run chaves02.ipynb\n",
    "client = Client(key,secret)"
   ]
  },
  {
   "cell_type": "code",
   "execution_count": 3,
   "metadata": {
    "scrolled": true
   },
   "outputs": [],
   "source": [
    "# Escolhe o par\n",
    "TRADING_PAIR = 'BTCBRL'\n",
    "# Data de Inicio da Captura dos Dados\n",
    "STARTING_DATE = \"5 Mar, 2021\"\n",
    "# Data Final da Captura dos Dados\n",
    "END_DATE = \"12 Mar, 2021\""
   ]
  },
  {
   "cell_type": "code",
   "execution_count": 4,
   "metadata": {},
   "outputs": [],
   "source": [
    "def process_message(msg):\n",
    "    if msg['e'] == 'error':\n",
    "        bm.stop_socket(conn_key)\n",
    "        bm.close()\n",
    "    else:\n",
    "        pass"
   ]
  },
  {
   "cell_type": "code",
   "execution_count": 5,
   "metadata": {},
   "outputs": [
    {
     "data": {
      "text/plain": [
       "{'serverTime': 1617506797285}"
      ]
     },
     "execution_count": 5,
     "metadata": {},
     "output_type": "execute_result"
    }
   ],
   "source": [
    "time_res = client.get_server_time()\n",
    "time_res"
   ]
  },
  {
   "cell_type": "markdown",
   "metadata": {},
   "source": [
    "### 3- Obtenção de informações via API da Binance e construção do dataframe __data__"
   ]
  },
  {
   "cell_type": "markdown",
   "metadata": {},
   "source": [
    "### [Binance Websockets API](https://python-binance.readthedocs.io/en/latest/websockets.html)"
   ]
  },
  {
   "cell_type": "code",
   "execution_count": 6,
   "metadata": {},
   "outputs": [
    {
     "data": {
      "text/plain": [
       "<bound method Thread.start of <BinanceSocketManager(Thread-6, initial)>>"
      ]
     },
     "execution_count": 6,
     "metadata": {},
     "output_type": "execute_result"
    }
   ],
   "source": [
    "# Importing Binance Websockets API\n",
    "from binance.client import *\n",
    "from binance.websockets import BinanceSocketManager\n",
    "from twisted.internet import reactor\n",
    "\n",
    "# Initialize Binance Socket Manager\n",
    "bm = BinanceSocketManager(client, user_timeout=60)\n",
    "list_messages = []\n",
    "conn_key = bm.start_trade_socket(TRADING_PAIR, process_message)\n",
    "bm.start\n"
   ]
  },
  {
   "cell_type": "code",
   "execution_count": 7,
   "metadata": {},
   "outputs": [],
   "source": [
    "candles = client.get_klines(symbol=TRADING_PAIR, interval=Client.KLINE_INTERVAL_1MINUTE)"
   ]
  },
  {
   "cell_type": "code",
   "execution_count": 8,
   "metadata": {},
   "outputs": [],
   "source": [
    "# Old Get klines from Binance Python API\n",
    "#klines = client.get_historical_klines(\"ONEBNB\", Client.KLINE_INTERVAL_1MINUTE, STARTING_DATE, END_DATE)"
   ]
  },
  {
   "cell_type": "code",
   "execution_count": 9,
   "metadata": {},
   "outputs": [],
   "source": [
    "indexes = ['Open Time', 'Open', 'High','Low', 'Close', 'Volume', 'Close Time', 'QAV', 'No. Trades', 'Taker BBAV', 'Taker BQAV', 'Ignore']\n",
    "data = pd.DataFrame(columns=indexes,data=candles)"
   ]
  },
  {
   "cell_type": "code",
   "execution_count": 10,
   "metadata": {},
   "outputs": [
    {
     "data": {
      "text/plain": [
       "500"
      ]
     },
     "execution_count": 10,
     "metadata": {},
     "output_type": "execute_result"
    }
   ],
   "source": [
    "len(data)"
   ]
  },
  {
   "cell_type": "code",
   "execution_count": 11,
   "metadata": {},
   "outputs": [],
   "source": [
    "data.to_csv(\"CryptoBot_202103006Mv001.csv\", index = False)"
   ]
  },
  {
   "cell_type": "code",
   "execution_count": 12,
   "metadata": {},
   "outputs": [],
   "source": [
    "data = pd.read_csv(\"CryptoBot_202103006Mv001.csv\")"
   ]
  },
  {
   "cell_type": "code",
   "execution_count": 13,
   "metadata": {},
   "outputs": [
    {
     "data": {
      "text/html": [
       "<div>\n",
       "<style scoped>\n",
       "    .dataframe tbody tr th:only-of-type {\n",
       "        vertical-align: middle;\n",
       "    }\n",
       "\n",
       "    .dataframe tbody tr th {\n",
       "        vertical-align: top;\n",
       "    }\n",
       "\n",
       "    .dataframe thead th {\n",
       "        text-align: right;\n",
       "    }\n",
       "</style>\n",
       "<table border=\"1\" class=\"dataframe\">\n",
       "  <thead>\n",
       "    <tr style=\"text-align: right;\">\n",
       "      <th></th>\n",
       "      <th>Open Time</th>\n",
       "      <th>Open</th>\n",
       "      <th>High</th>\n",
       "      <th>Low</th>\n",
       "      <th>Close</th>\n",
       "      <th>Volume</th>\n",
       "      <th>Close Time</th>\n",
       "      <th>QAV</th>\n",
       "      <th>No. Trades</th>\n",
       "      <th>Taker BBAV</th>\n",
       "      <th>Taker BQAV</th>\n",
       "      <th>Ignore</th>\n",
       "    </tr>\n",
       "  </thead>\n",
       "  <tbody>\n",
       "    <tr>\n",
       "      <th>0</th>\n",
       "      <td>1617476820000</td>\n",
       "      <td>338755.0000000000</td>\n",
       "      <td>339000.0000000000</td>\n",
       "      <td>338755.0000000000</td>\n",
       "      <td>339000.0000000000</td>\n",
       "      <td>0.0556840000</td>\n",
       "      <td>1617476879999</td>\n",
       "      <td>18868.9730060000</td>\n",
       "      <td>29</td>\n",
       "      <td>0.0486270000</td>\n",
       "      <td>16478.3335330000</td>\n",
       "      <td>0</td>\n",
       "    </tr>\n",
       "    <tr>\n",
       "      <th>1</th>\n",
       "      <td>1617476880000</td>\n",
       "      <td>339000.0000000000</td>\n",
       "      <td>339850.0000000000</td>\n",
       "      <td>339000.0000000000</td>\n",
       "      <td>339546.0000000000</td>\n",
       "      <td>0.0464710000</td>\n",
       "      <td>1617476939999</td>\n",
       "      <td>15777.6100720000</td>\n",
       "      <td>40</td>\n",
       "      <td>0.0266150000</td>\n",
       "      <td>9039.2937230000</td>\n",
       "      <td>0</td>\n",
       "    </tr>\n",
       "    <tr>\n",
       "      <th>2</th>\n",
       "      <td>1617476940000</td>\n",
       "      <td>339348.0000000000</td>\n",
       "      <td>339844.0000000000</td>\n",
       "      <td>339348.0000000000</td>\n",
       "      <td>339546.0000000000</td>\n",
       "      <td>0.0066590000</td>\n",
       "      <td>1617476999999</td>\n",
       "      <td>2261.2176340000</td>\n",
       "      <td>15</td>\n",
       "      <td>0.0017940000</td>\n",
       "      <td>609.5430170000</td>\n",
       "      <td>0</td>\n",
       "    </tr>\n",
       "    <tr>\n",
       "      <th>3</th>\n",
       "      <td>1617477000000</td>\n",
       "      <td>339366.0000000000</td>\n",
       "      <td>339842.0000000000</td>\n",
       "      <td>339191.0000000000</td>\n",
       "      <td>339546.0000000000</td>\n",
       "      <td>0.0048520000</td>\n",
       "      <td>1617477059999</td>\n",
       "      <td>1646.8587910000</td>\n",
       "      <td>22</td>\n",
       "      <td>0.0008650000</td>\n",
       "      <td>293.8803050000</td>\n",
       "      <td>0</td>\n",
       "    </tr>\n",
       "    <tr>\n",
       "      <th>4</th>\n",
       "      <td>1617477060000</td>\n",
       "      <td>339740.0000000000</td>\n",
       "      <td>339740.0000000000</td>\n",
       "      <td>339150.0000000000</td>\n",
       "      <td>339150.0000000000</td>\n",
       "      <td>0.0162030000</td>\n",
       "      <td>1617477119999</td>\n",
       "      <td>5501.8775480000</td>\n",
       "      <td>16</td>\n",
       "      <td>0.0155200000</td>\n",
       "      <td>5270.2021000000</td>\n",
       "      <td>0</td>\n",
       "    </tr>\n",
       "  </tbody>\n",
       "</table>\n",
       "</div>"
      ],
      "text/plain": [
       "       Open Time              Open              High               Low  \\\n",
       "0  1617476820000 338755.0000000000 339000.0000000000 338755.0000000000   \n",
       "1  1617476880000 339000.0000000000 339850.0000000000 339000.0000000000   \n",
       "2  1617476940000 339348.0000000000 339844.0000000000 339348.0000000000   \n",
       "3  1617477000000 339366.0000000000 339842.0000000000 339191.0000000000   \n",
       "4  1617477060000 339740.0000000000 339740.0000000000 339150.0000000000   \n",
       "\n",
       "              Close       Volume     Close Time              QAV  No. Trades  \\\n",
       "0 339000.0000000000 0.0556840000  1617476879999 18868.9730060000          29   \n",
       "1 339546.0000000000 0.0464710000  1617476939999 15777.6100720000          40   \n",
       "2 339546.0000000000 0.0066590000  1617476999999  2261.2176340000          15   \n",
       "3 339546.0000000000 0.0048520000  1617477059999  1646.8587910000          22   \n",
       "4 339150.0000000000 0.0162030000  1617477119999  5501.8775480000          16   \n",
       "\n",
       "    Taker BBAV       Taker BQAV  Ignore  \n",
       "0 0.0486270000 16478.3335330000       0  \n",
       "1 0.0266150000  9039.2937230000       0  \n",
       "2 0.0017940000   609.5430170000       0  \n",
       "3 0.0008650000   293.8803050000       0  \n",
       "4 0.0155200000  5270.2021000000       0  "
      ]
     },
     "execution_count": 13,
     "metadata": {},
     "output_type": "execute_result"
    }
   ],
   "source": [
    "data.head()"
   ]
  },
  {
   "cell_type": "code",
   "execution_count": 14,
   "metadata": {},
   "outputs": [],
   "source": [
    "data.dtypes\n",
    "data['Open Time'] = data['Open Time'].apply(lambda x: datetime.fromtimestamp(int(x)/1000))\n",
    "data.set_index(['Open Time'], inplace=True)\n",
    "# data['Open'] = data['Open'].astype(float)\n",
    "# data['High'] = data['High'].astype(float)\n",
    "# data['Low'] = data['Low'].astype(float)\n",
    "data['Close'] = data['Close'].astype(float)\n",
    "data['Volume'] = data['Volume'].astype(float)\n",
    "# data['QAV'] = data['QAV'].astype(float)\n",
    "# data['Taker BBAV'] = data['Taker BBAV'].astype(float)\n",
    "# data['Taker BQAV'] = data['Taker BQAV'].astype(float)\n",
    "open_ = data['Open']\n",
    "high = data['High']\n",
    "low = data['Low']\n",
    "close = data['Close']\n",
    "volume = data['Volume']"
   ]
  },
  {
   "cell_type": "code",
   "execution_count": null,
   "metadata": {},
   "outputs": [],
   "source": []
  }
 ],
 "metadata": {
  "kernelspec": {
   "display_name": "Python 3",
   "language": "python",
   "name": "python3"
  },
  "language_info": {
   "codemirror_mode": {
    "name": "ipython",
    "version": 3
   },
   "file_extension": ".py",
   "mimetype": "text/x-python",
   "name": "python",
   "nbconvert_exporter": "python",
   "pygments_lexer": "ipython3",
   "version": "3.8.8"
  }
 },
 "nbformat": 4,
 "nbformat_minor": 4
}
