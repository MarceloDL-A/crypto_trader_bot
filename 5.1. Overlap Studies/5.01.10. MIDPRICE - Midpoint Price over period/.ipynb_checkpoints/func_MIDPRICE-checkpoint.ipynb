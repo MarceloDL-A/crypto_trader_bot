{
 "cells": [
  {
   "cell_type": "markdown",
   "id": "prime-video",
   "metadata": {},
   "source": [
    "#### Carregamento de dados"
   ]
  },
  {
   "cell_type": "code",
   "execution_count": null,
   "id": "considered-saskatchewan",
   "metadata": {},
   "outputs": [],
   "source": [
    "%run bot_libraries.ipynb"
   ]
  },
  {
   "cell_type": "raw",
   "id": "binding-belle",
   "metadata": {},
   "source": [
    "%run data_download.ipynb"
   ]
  },
  {
   "cell_type": "code",
   "execution_count": null,
   "id": "sublime-headset",
   "metadata": {},
   "outputs": [],
   "source": [
    "data = pd.read_csv(\"CryptoBot_202103006Mv001.csv\")"
   ]
  },
  {
   "cell_type": "code",
   "execution_count": null,
   "id": "worldwide-adult",
   "metadata": {},
   "outputs": [],
   "source": [
    "%run tratamento_de_dados.ipynb"
   ]
  },
  {
   "cell_type": "markdown",
   "id": "clean-reward",
   "metadata": {},
   "source": [
    "#### Gráfico 'Open', 'High', 'Low', 'Close'"
   ]
  },
  {
   "cell_type": "code",
   "execution_count": null,
   "id": "ordered-sodium",
   "metadata": {},
   "outputs": [],
   "source": [
    "from matplotlib.pyplot import legend\n",
    "from matplotlib import pylab\n",
    "data_0 = data[['Open', 'High', 'Low', 'Close']]\n",
    "plt.figure(figsize=(12,5), dpi=100)\n",
    "line = plt.plot(data.index, data_0)\n",
    "plt.legend(line, data_0.columns)"
   ]
  },
  {
   "cell_type": "markdown",
   "id": "unlimited-exposure",
   "metadata": {},
   "source": [
    "##### 5.1.10. MIDPRICE - Midpoint Price over period"
   ]
  },
  {
   "cell_type": "code",
   "execution_count": null,
   "id": "selected-salem",
   "metadata": {},
   "outputs": [],
   "source": [
    "real = talib.MIDPRICE(high, low, timeperiod=14)\n",
    "plt.figure(figsize=(12,5), dpi=100)\n",
    "line = plt.plot(data.index, real)\n",
    "plt.legend(line, data_0.columns)"
   ]
  },
  {
   "cell_type": "code",
   "execution_count": null,
   "id": "pointed-princeton",
   "metadata": {},
   "outputs": [],
   "source": [
    "data_metric = pd.DataFrame({\"MIDPRICE\": real})\n",
    "\n",
    "data_0 = data_metric[[\"MIDPRICE\"]]\n",
    "plt.figure(figsize=(12,5), dpi=100)\n",
    "\n",
    "\n",
    "\n",
    "#Preço\n",
    "data_p = pd.DataFrame()\n",
    "data_p['Close'] = data['Close']\n",
    "line_p = plt.plot(data_p.index, data_p)\n",
    "# plt.legend(line_p, data_p.columns)\n",
    "\n",
    "\n",
    "line = plt.plot(data_0.index, data_0)\n",
    "plt.legend((*line_p, *line), (*data_p.columns, *data_0.columns))\n",
    "plt.show()"
   ]
  },
  {
   "cell_type": "markdown",
   "id": "specific-liechtenstein",
   "metadata": {},
   "source": [
    "#### Dataframe"
   ]
  },
  {
   "cell_type": "code",
   "execution_count": null,
   "id": "crucial-silicon",
   "metadata": {},
   "outputs": [],
   "source": [
    "data_metric = pd.DataFrame()\n",
    "for i in range(len(data)):\n",
    "    data_metric = data_metric.append({\"Close\": data['Close'][i], \"MIDPRICE\": real[i]}, ignore_index = True)"
   ]
  },
  {
   "cell_type": "code",
   "execution_count": null,
   "id": "associate-scottish",
   "metadata": {},
   "outputs": [],
   "source": [
    "data_metric_drop = data_metric.dropna().reset_index(drop = True)\n",
    "data_metric_drop"
   ]
  },
  {
   "cell_type": "markdown",
   "id": "attached-citizenship",
   "metadata": {},
   "source": [
    "#### Loop de descisão de compra com a métrica escolhida"
   ]
  },
  {
   "cell_type": "code",
   "execution_count": null,
   "id": "hundred-arizona",
   "metadata": {},
   "outputs": [],
   "source": []
  }
 ],
 "metadata": {
  "kernelspec": {
   "display_name": "Python 3",
   "language": "python",
   "name": "python3"
  },
  "language_info": {
   "codemirror_mode": {
    "name": "ipython",
    "version": 3
   },
   "file_extension": ".py",
   "mimetype": "text/x-python",
   "name": "python",
   "nbconvert_exporter": "python",
   "pygments_lexer": "ipython3",
   "version": "3.8.8"
  }
 },
 "nbformat": 4,
 "nbformat_minor": 5
}
