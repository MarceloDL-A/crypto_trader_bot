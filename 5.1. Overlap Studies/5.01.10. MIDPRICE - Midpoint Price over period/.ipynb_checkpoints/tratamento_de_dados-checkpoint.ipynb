{
 "cells": [
  {
   "cell_type": "code",
   "execution_count": null,
   "id": "illegal-floor",
   "metadata": {},
   "outputs": [],
   "source": [
    "data.dtypes\n",
    "data['Open Time'] = data['Open Time'].apply(lambda x: datetime.fromtimestamp(int(x)/1000))\n",
    "data.set_index(['Open Time'], inplace=True)\n",
    "# data['Open'] = data['Open'].astype(float)\n",
    "# data['High'] = data['High'].astype(float)\n",
    "# data['Low'] = data['Low'].astype(float)\n",
    "data['Close'] = data['Close'].astype(float)\n",
    "data['Volume'] = data['Volume'].astype(float)\n",
    "# data['QAV'] = data['QAV'].astype(float)\n",
    "# data['Taker BBAV'] = data['Taker BBAV'].astype(float)\n",
    "# data['Taker BQAV'] = data['Taker BQAV'].astype(float)\n",
    "open_ = data['Open']\n",
    "high = data['High']\n",
    "low = data['Low']\n",
    "close = data['Close']\n",
    "volume = data['Volume']"
   ]
  }
 ],
 "metadata": {
  "kernelspec": {
   "display_name": "Python 3",
   "language": "python",
   "name": "python3"
  },
  "language_info": {
   "codemirror_mode": {
    "name": "ipython",
    "version": 3
   },
   "file_extension": ".py",
   "mimetype": "text/x-python",
   "name": "python",
   "nbconvert_exporter": "python",
   "pygments_lexer": "ipython3",
   "version": "3.8.8"
  }
 },
 "nbformat": 4,
 "nbformat_minor": 5
}
