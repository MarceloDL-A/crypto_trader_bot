{
 "cells": [
  {
   "cell_type": "code",
   "execution_count": 1,
   "metadata": {},
   "outputs": [],
   "source": [
    "import pandas as pd\n",
    "import numpy as np\n",
    "\n",
    "# Data Wrangling Imports\n",
    "from datetime import datetime\n",
    "\n",
    "# Data Analysis Imports\n",
    "import statistics\n",
    "import seaborn as sns\n",
    "from scipy import linalg\n",
    "from matplotlib import style\n",
    "from matplotlib import ticker\n",
    "from scipy import stats\n",
    "from statsmodels.graphics.tsaplots import plot_acf, plot_pacf\n",
    "from statsmodels.tsa.statespace.sarimax import SARIMAX\n",
    "from statsmodels.tsa.stattools import adfuller\n",
    "\n",
    "# Data Visualization Imports\n",
    "#import cufflinks as cf\n",
    "#import chart_studio.plotly as py\n",
    "#import plotly.graph_objects as go\n",
    "import matplotlib.pyplot as plt\n",
    "import matplotlib.patches as mpatches\n",
    "import matplotlib.lines as mlines\n",
    "from matplotlib.gridspec import GridSpec\n",
    "\n",
    "# Econometry Imports\n",
    "import pandas_ta as ta\n",
    "\n",
    "# Other Imports\n",
    "import os\n",
    "from itertools import product\n",
    "import warnings\n",
    "import talib\n",
    "warnings.filterwarnings('ignore')\n",
    "pd.options.display.float_format = \"{:.10f}\".format"
   ]
  },
  {
   "cell_type": "markdown",
   "metadata": {},
   "source": [
    "### 2- Depois de cadastrar uma conta na [Binance](https://www.binance.com/pt-BR) é necessário inserir os parâmetros key e secret da API"
   ]
  },
  {
   "cell_type": "code",
   "execution_count": 2,
   "metadata": {},
   "outputs": [],
   "source": [
    "from binance.client import Client\n",
    "%run chaves02.ipynb\n",
    "client = Client(key,secret)"
   ]
  },
  {
   "cell_type": "code",
   "execution_count": 3,
   "metadata": {
    "scrolled": true
   },
   "outputs": [],
   "source": [
    "# Escolhe o par\n",
    "TRADING_PAIR = 'BTCBRL'\n",
    "# Data de Inicio da Captura dos Dados\n",
    "STARTING_DATE = \"5 Mar, 2021\"\n",
    "# Data Final da Captura dos Dados\n",
    "END_DATE = \"12 Mar, 2021\""
   ]
  },
  {
   "cell_type": "code",
   "execution_count": 4,
   "metadata": {},
   "outputs": [],
   "source": [
    "def process_message(msg):\n",
    "    if msg['e'] == 'error':\n",
    "        bm.stop_socket(conn_key)\n",
    "        bm.close()\n",
    "    else:\n",
    "        pass"
   ]
  },
  {
   "cell_type": "code",
   "execution_count": 5,
   "metadata": {},
   "outputs": [
    {
     "data": {
      "text/plain": [
       "{'serverTime': 1615745461225}"
      ]
     },
     "execution_count": 5,
     "metadata": {},
     "output_type": "execute_result"
    }
   ],
   "source": [
    "time_res = client.get_server_time()\n",
    "time_res"
   ]
  },
  {
   "cell_type": "markdown",
   "metadata": {},
   "source": [
    "### 3- Obtenção de informações via API da Binance e construção do dataframe __data__"
   ]
  },
  {
   "cell_type": "markdown",
   "metadata": {},
   "source": [
    "### [Binance Websockets API](https://python-binance.readthedocs.io/en/latest/websockets.html)"
   ]
  },
  {
   "cell_type": "code",
   "execution_count": 6,
   "metadata": {},
   "outputs": [
    {
     "data": {
      "text/plain": [
       "<bound method Thread.start of <BinanceSocketManager(Thread-6, initial)>>"
      ]
     },
     "execution_count": 6,
     "metadata": {},
     "output_type": "execute_result"
    }
   ],
   "source": [
    "# Importing Binance Websockets API\n",
    "from binance.client import *\n",
    "from binance.websockets import BinanceSocketManager\n",
    "from twisted.internet import reactor\n",
    "\n",
    "# Initialize Binance Socket Manager\n",
    "bm = BinanceSocketManager(client, user_timeout=60)\n",
    "list_messages = []\n",
    "conn_key = bm.start_trade_socket(TRADING_PAIR, process_message)\n",
    "bm.start\n"
   ]
  },
  {
   "cell_type": "code",
   "execution_count": 7,
   "metadata": {},
   "outputs": [],
   "source": [
    "candles = client.get_klines(symbol=TRADING_PAIR, interval=Client.KLINE_INTERVAL_1MINUTE)"
   ]
  },
  {
   "cell_type": "code",
   "execution_count": 8,
   "metadata": {},
   "outputs": [],
   "source": [
    "# Old Get klines from Binance Python API\n",
    "#klines = client.get_historical_klines(\"ONEBNB\", Client.KLINE_INTERVAL_1MINUTE, STARTING_DATE, END_DATE)"
   ]
  },
  {
   "cell_type": "code",
   "execution_count": 9,
   "metadata": {},
   "outputs": [],
   "source": [
    "indexes = ['Open Time', 'Open', 'High','Low', 'Close', 'Volume', 'Close Time', 'QAV', 'No. Trades', 'Taker BBAV', 'Taker BQAV', 'Ignore']\n",
    "data = pd.DataFrame(columns=indexes,data=candles)"
   ]
  },
  {
   "cell_type": "code",
   "execution_count": 10,
   "metadata": {},
   "outputs": [
    {
     "data": {
      "text/plain": [
       "500"
      ]
     },
     "execution_count": 10,
     "metadata": {},
     "output_type": "execute_result"
    }
   ],
   "source": [
    "len(data)"
   ]
  },
  {
   "cell_type": "code",
   "execution_count": 11,
   "metadata": {},
   "outputs": [],
   "source": [
    "data.to_csv(\"CryptoBot_202103006Mv001.csv\", index = False)"
   ]
  },
  {
   "cell_type": "code",
   "execution_count": 2,
   "metadata": {},
   "outputs": [],
   "source": [
    "data = pd.read_csv(\"CryptoBot_202103006Mv001.csv\")"
   ]
  },
  {
   "cell_type": "code",
   "execution_count": 3,
   "metadata": {},
   "outputs": [],
   "source": [
    "data.dtypes\n",
    "data['Open Time'] = data['Open Time'].apply(lambda x: datetime.fromtimestamp(int(x)/1000))\n",
    "data.set_index(['Open Time'], inplace=True)\n",
    "# data['Open'] = data['Open'].astype(float)\n",
    "# data['High'] = data['High'].astype(float)\n",
    "# data['Low'] = data['Low'].astype(float)\n",
    "data['Close'] = data['Close'].astype(float)\n",
    "data['Volume'] = data['Volume'].astype(float)\n",
    "# data['QAV'] = data['QAV'].astype(float)\n",
    "# data['Taker BBAV'] = data['Taker BBAV'].astype(float)\n",
    "# data['Taker BQAV'] = data['Taker BQAV'].astype(float)"
   ]
  }
 ],
 "metadata": {
  "kernelspec": {
   "display_name": "Python 3",
   "language": "python",
   "name": "python3"
  },
  "language_info": {
   "codemirror_mode": {
    "name": "ipython",
    "version": 3
   },
   "file_extension": ".py",
   "mimetype": "text/x-python",
   "name": "python",
   "nbconvert_exporter": "python",
   "pygments_lexer": "ipython3",
   "version": "3.8.8"
  }
 },
 "nbformat": 4,
 "nbformat_minor": 4
}
