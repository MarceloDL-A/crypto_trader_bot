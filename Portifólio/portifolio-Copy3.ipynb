{
 "cells": [
  {
   "cell_type": "markdown",
   "id": "postal-nelson",
   "metadata": {},
   "source": [
    "[Portfólio][1]\n",
    "\n",
    "[1]: <https://medium.com/turing-talks/teoria-moderna-do-portf%C3%B3lio-em-python-e8bad41ebb8b>"
   ]
  },
  {
   "cell_type": "raw",
   "id": "applied-annual",
   "metadata": {},
   "source": [
    "!pip install pandas_datareader"
   ]
  },
  {
   "cell_type": "code",
   "execution_count": 1,
   "id": "historic-thousand",
   "metadata": {},
   "outputs": [],
   "source": [
    "# Importando as bibliotecas \n",
    "import pandas as pd \n",
    "import numpy as np\n",
    "import matplotlib.pyplot as plt\n",
    "from pandas_datareader import data"
   ]
  },
  {
   "cell_type": "markdown",
   "id": "signed-hunter",
   "metadata": {},
   "source": [
    "#### Par BTCUSDT"
   ]
  },
  {
   "cell_type": "code",
   "execution_count": 2,
   "id": "improving-charity",
   "metadata": {},
   "outputs": [
    {
     "data": {
      "text/html": [
       "<div>\n",
       "<style scoped>\n",
       "    .dataframe tbody tr th:only-of-type {\n",
       "        vertical-align: middle;\n",
       "    }\n",
       "\n",
       "    .dataframe tbody tr th {\n",
       "        vertical-align: top;\n",
       "    }\n",
       "\n",
       "    .dataframe thead th {\n",
       "        text-align: right;\n",
       "    }\n",
       "</style>\n",
       "<table border=\"1\" class=\"dataframe\">\n",
       "  <thead>\n",
       "    <tr style=\"text-align: right;\">\n",
       "      <th></th>\n",
       "      <th>date</th>\n",
       "      <th>close</th>\n",
       "    </tr>\n",
       "  </thead>\n",
       "  <tbody>\n",
       "    <tr>\n",
       "      <th>0</th>\n",
       "      <td>NaN</td>\n",
       "      <td>NaN</td>\n",
       "    </tr>\n",
       "    <tr>\n",
       "      <th>1</th>\n",
       "      <td>date</td>\n",
       "      <td>close</td>\n",
       "    </tr>\n",
       "    <tr>\n",
       "      <th>2</th>\n",
       "      <td>2021-04-18 00:35:00</td>\n",
       "      <td>59773.90000000</td>\n",
       "    </tr>\n",
       "    <tr>\n",
       "      <th>3</th>\n",
       "      <td>2021-04-18 00:34:00</td>\n",
       "      <td>59739.01000000</td>\n",
       "    </tr>\n",
       "    <tr>\n",
       "      <th>4</th>\n",
       "      <td>2021-04-18 00:33:00</td>\n",
       "      <td>59592.47000000</td>\n",
       "    </tr>\n",
       "  </tbody>\n",
       "</table>\n",
       "</div>"
      ],
      "text/plain": [
       "                  date           close\n",
       "0                  NaN             NaN\n",
       "1                 date           close\n",
       "2  2021-04-18 00:35:00  59773.90000000\n",
       "3  2021-04-18 00:34:00  59739.01000000\n",
       "4  2021-04-18 00:33:00  59592.47000000"
      ]
     },
     "execution_count": 2,
     "metadata": {},
     "output_type": "execute_result"
    }
   ],
   "source": [
    "df_BTCUSDT = pd.read_csv(\"Binance_BTCUSDT_minute.csv\", low_memory=False)\n",
    "columnsBTCUSDT = list(df_BTCUSDT.index[0])\n",
    "dfEBTCUSDT = pd.read_csv(\"Binance_BTCUSDT_minute.csv\", names=columnsBTCUSDT, low_memory=False)\n",
    "dfBTCUSDT = dfEBTCUSDT[['date', 'close']]\n",
    "dfBTCUSDT.head()"
   ]
  },
  {
   "cell_type": "markdown",
   "id": "powerful-africa",
   "metadata": {},
   "source": [
    "#### Par ETHUSDT"
   ]
  },
  {
   "cell_type": "code",
   "execution_count": 3,
   "id": "living-rotation",
   "metadata": {},
   "outputs": [
    {
     "data": {
      "text/html": [
       "<div>\n",
       "<style scoped>\n",
       "    .dataframe tbody tr th:only-of-type {\n",
       "        vertical-align: middle;\n",
       "    }\n",
       "\n",
       "    .dataframe tbody tr th {\n",
       "        vertical-align: top;\n",
       "    }\n",
       "\n",
       "    .dataframe thead th {\n",
       "        text-align: right;\n",
       "    }\n",
       "</style>\n",
       "<table border=\"1\" class=\"dataframe\">\n",
       "  <thead>\n",
       "    <tr style=\"text-align: right;\">\n",
       "      <th></th>\n",
       "      <th>date</th>\n",
       "      <th>close</th>\n",
       "    </tr>\n",
       "  </thead>\n",
       "  <tbody>\n",
       "    <tr>\n",
       "      <th>0</th>\n",
       "      <td>NaN</td>\n",
       "      <td>NaN</td>\n",
       "    </tr>\n",
       "    <tr>\n",
       "      <th>1</th>\n",
       "      <td>date</td>\n",
       "      <td>close</td>\n",
       "    </tr>\n",
       "    <tr>\n",
       "      <th>2</th>\n",
       "      <td>2021-04-18 00:35:00</td>\n",
       "      <td>2289.02000000</td>\n",
       "    </tr>\n",
       "    <tr>\n",
       "      <th>3</th>\n",
       "      <td>2021-04-18 00:34:00</td>\n",
       "      <td>2282.59000000</td>\n",
       "    </tr>\n",
       "    <tr>\n",
       "      <th>4</th>\n",
       "      <td>2021-04-18 00:33:00</td>\n",
       "      <td>2271.92000000</td>\n",
       "    </tr>\n",
       "  </tbody>\n",
       "</table>\n",
       "</div>"
      ],
      "text/plain": [
       "                  date          close\n",
       "0                  NaN            NaN\n",
       "1                 date          close\n",
       "2  2021-04-18 00:35:00  2289.02000000\n",
       "3  2021-04-18 00:34:00  2282.59000000\n",
       "4  2021-04-18 00:33:00  2271.92000000"
      ]
     },
     "execution_count": 3,
     "metadata": {},
     "output_type": "execute_result"
    }
   ],
   "source": [
    "df_ETHUSDT = pd.read_csv(\"Binance_ETHUSDT_minute.csv\", low_memory=False)\n",
    "columnsETHUSDT = list(df_ETHUSDT.index[0])\n",
    "dfETHUSDT = pd.read_csv(\"Binance_ETHUSDT_minute.csv\", names=columnsETHUSDT, low_memory=False)\n",
    "dfETHUSDT = dfETHUSDT[['date', 'close']]\n",
    "dfETHUSDT.head()"
   ]
  },
  {
   "cell_type": "markdown",
   "id": "thick-generation",
   "metadata": {},
   "source": [
    "#### Par ADAUSDT"
   ]
  },
  {
   "cell_type": "code",
   "execution_count": 3,
   "id": "prerequisite-links",
   "metadata": {},
   "outputs": [
    {
     "data": {
      "text/html": [
       "<div>\n",
       "<style scoped>\n",
       "    .dataframe tbody tr th:only-of-type {\n",
       "        vertical-align: middle;\n",
       "    }\n",
       "\n",
       "    .dataframe tbody tr th {\n",
       "        vertical-align: top;\n",
       "    }\n",
       "\n",
       "    .dataframe thead th {\n",
       "        text-align: right;\n",
       "    }\n",
       "</style>\n",
       "<table border=\"1\" class=\"dataframe\">\n",
       "  <thead>\n",
       "    <tr style=\"text-align: right;\">\n",
       "      <th></th>\n",
       "      <th>date</th>\n",
       "      <th>close</th>\n",
       "    </tr>\n",
       "  </thead>\n",
       "  <tbody>\n",
       "    <tr>\n",
       "      <th>0</th>\n",
       "      <td>NaN</td>\n",
       "      <td>NaN</td>\n",
       "    </tr>\n",
       "    <tr>\n",
       "      <th>1</th>\n",
       "      <td>date</td>\n",
       "      <td>close</td>\n",
       "    </tr>\n",
       "    <tr>\n",
       "      <th>2</th>\n",
       "      <td>2021-04-18 00:35:00</td>\n",
       "      <td>2289.02000000</td>\n",
       "    </tr>\n",
       "    <tr>\n",
       "      <th>3</th>\n",
       "      <td>2021-04-18 00:34:00</td>\n",
       "      <td>2282.59000000</td>\n",
       "    </tr>\n",
       "    <tr>\n",
       "      <th>4</th>\n",
       "      <td>2021-04-18 00:33:00</td>\n",
       "      <td>2271.92000000</td>\n",
       "    </tr>\n",
       "  </tbody>\n",
       "</table>\n",
       "</div>"
      ],
      "text/plain": [
       "                  date          close\n",
       "0                  NaN            NaN\n",
       "1                 date          close\n",
       "2  2021-04-18 00:35:00  2289.02000000\n",
       "3  2021-04-18 00:34:00  2282.59000000\n",
       "4  2021-04-18 00:33:00  2271.92000000"
      ]
     },
     "execution_count": 3,
     "metadata": {},
     "output_type": "execute_result"
    }
   ],
   "source": [
    "df_ETHUSDT = pd.read_csv(\"Binance_ADAUSDT_d.csv\", low_memory=False)\n",
    "columnsETHUSDT = list(df_ETHUSDT.index[0])\n",
    "dfETHUSDT = pd.read_csv(\"Binance_ADAUSDT_d.csv\", names=columnsETHUSDT, low_memory=False)\n",
    "dfETHUSDT = dfETHUSDT[['date', 'close']]\n",
    "dfETHUSDT.head()"
   ]
  },
  {
   "cell_type": "code",
   "execution_count": 4,
   "id": "surgical-powder",
   "metadata": {},
   "outputs": [],
   "source": [
    "df_merge = dfBTCUSDT.merge(dfETHUSDT, how='inner', on='date',suffixes=('_BTCUSDT','_ETHUSDT'))"
   ]
  },
  {
   "cell_type": "code",
   "execution_count": 5,
   "id": "exposed-target",
   "metadata": {},
   "outputs": [
    {
     "data": {
      "text/html": [
       "<div>\n",
       "<style scoped>\n",
       "    .dataframe tbody tr th:only-of-type {\n",
       "        vertical-align: middle;\n",
       "    }\n",
       "\n",
       "    .dataframe tbody tr th {\n",
       "        vertical-align: top;\n",
       "    }\n",
       "\n",
       "    .dataframe thead th {\n",
       "        text-align: right;\n",
       "    }\n",
       "</style>\n",
       "<table border=\"1\" class=\"dataframe\">\n",
       "  <thead>\n",
       "    <tr style=\"text-align: right;\">\n",
       "      <th></th>\n",
       "      <th>date</th>\n",
       "      <th>close_BTCUSDT</th>\n",
       "      <th>close_ETHUSDT</th>\n",
       "    </tr>\n",
       "  </thead>\n",
       "  <tbody>\n",
       "    <tr>\n",
       "      <th>0</th>\n",
       "      <td>NaN</td>\n",
       "      <td>NaN</td>\n",
       "      <td>NaN</td>\n",
       "    </tr>\n",
       "    <tr>\n",
       "      <th>1</th>\n",
       "      <td>date</td>\n",
       "      <td>close</td>\n",
       "      <td>close</td>\n",
       "    </tr>\n",
       "    <tr>\n",
       "      <th>2</th>\n",
       "      <td>2021-04-18 00:35:00</td>\n",
       "      <td>59773.90000000</td>\n",
       "      <td>2289.02000000</td>\n",
       "    </tr>\n",
       "    <tr>\n",
       "      <th>3</th>\n",
       "      <td>2021-04-18 00:34:00</td>\n",
       "      <td>59739.01000000</td>\n",
       "      <td>2282.59000000</td>\n",
       "    </tr>\n",
       "    <tr>\n",
       "      <th>4</th>\n",
       "      <td>2021-04-18 00:33:00</td>\n",
       "      <td>59592.47000000</td>\n",
       "      <td>2271.92000000</td>\n",
       "    </tr>\n",
       "  </tbody>\n",
       "</table>\n",
       "</div>"
      ],
      "text/plain": [
       "                  date   close_BTCUSDT  close_ETHUSDT\n",
       "0                  NaN             NaN            NaN\n",
       "1                 date           close          close\n",
       "2  2021-04-18 00:35:00  59773.90000000  2289.02000000\n",
       "3  2021-04-18 00:34:00  59739.01000000  2282.59000000\n",
       "4  2021-04-18 00:33:00  59592.47000000  2271.92000000"
      ]
     },
     "execution_count": 5,
     "metadata": {},
     "output_type": "execute_result"
    }
   ],
   "source": [
    "df_merge.head()"
   ]
  },
  {
   "cell_type": "code",
   "execution_count": 6,
   "id": "prepared-apache",
   "metadata": {},
   "outputs": [],
   "source": [
    "df_merge.index = df_merge[\"date\"]"
   ]
  },
  {
   "cell_type": "code",
   "execution_count": 7,
   "id": "sticky-interim",
   "metadata": {},
   "outputs": [],
   "source": [
    "df_merge = df_merge.drop(columns = [\"date\"])"
   ]
  },
  {
   "cell_type": "code",
   "execution_count": 8,
   "id": "helpful-toronto",
   "metadata": {},
   "outputs": [
    {
     "data": {
      "text/html": [
       "<div>\n",
       "<style scoped>\n",
       "    .dataframe tbody tr th:only-of-type {\n",
       "        vertical-align: middle;\n",
       "    }\n",
       "\n",
       "    .dataframe tbody tr th {\n",
       "        vertical-align: top;\n",
       "    }\n",
       "\n",
       "    .dataframe thead th {\n",
       "        text-align: right;\n",
       "    }\n",
       "</style>\n",
       "<table border=\"1\" class=\"dataframe\">\n",
       "  <thead>\n",
       "    <tr style=\"text-align: right;\">\n",
       "      <th></th>\n",
       "      <th>close_BTCUSDT</th>\n",
       "      <th>close_ETHUSDT</th>\n",
       "    </tr>\n",
       "    <tr>\n",
       "      <th>date</th>\n",
       "      <th></th>\n",
       "      <th></th>\n",
       "    </tr>\n",
       "  </thead>\n",
       "  <tbody>\n",
       "    <tr>\n",
       "      <th>2021-04-18 00:35:00</th>\n",
       "      <td>59773.90000000</td>\n",
       "      <td>2289.02000000</td>\n",
       "    </tr>\n",
       "    <tr>\n",
       "      <th>2021-04-18 00:34:00</th>\n",
       "      <td>59739.01000000</td>\n",
       "      <td>2282.59000000</td>\n",
       "    </tr>\n",
       "    <tr>\n",
       "      <th>2021-04-18 00:33:00</th>\n",
       "      <td>59592.47000000</td>\n",
       "      <td>2271.92000000</td>\n",
       "    </tr>\n",
       "    <tr>\n",
       "      <th>2021-04-18 00:32:00</th>\n",
       "      <td>59634.42000000</td>\n",
       "      <td>2273.41000000</td>\n",
       "    </tr>\n",
       "    <tr>\n",
       "      <th>2021-04-18 00:31:00</th>\n",
       "      <td>59561.11000000</td>\n",
       "      <td>2265.60000000</td>\n",
       "    </tr>\n",
       "    <tr>\n",
       "      <th>...</th>\n",
       "      <td>...</td>\n",
       "      <td>...</td>\n",
       "    </tr>\n",
       "    <tr>\n",
       "      <th>2020-09-11 20:44:00</th>\n",
       "      <td>10319.47000000</td>\n",
       "      <td>368.68000000</td>\n",
       "    </tr>\n",
       "    <tr>\n",
       "      <th>2020-09-11 20:43:00</th>\n",
       "      <td>10319.00000000</td>\n",
       "      <td>368.84000000</td>\n",
       "    </tr>\n",
       "    <tr>\n",
       "      <th>2020-09-11 20:42:00</th>\n",
       "      <td>10319.34000000</td>\n",
       "      <td>368.71000000</td>\n",
       "    </tr>\n",
       "    <tr>\n",
       "      <th>2020-09-11 20:41:00</th>\n",
       "      <td>10319.50000000</td>\n",
       "      <td>369.01000000</td>\n",
       "    </tr>\n",
       "    <tr>\n",
       "      <th>2020-09-11 20:40:00</th>\n",
       "      <td>10316.00000000</td>\n",
       "      <td>368.69000000</td>\n",
       "    </tr>\n",
       "  </tbody>\n",
       "</table>\n",
       "<p>313636 rows × 2 columns</p>\n",
       "</div>"
      ],
      "text/plain": [
       "                      close_BTCUSDT  close_ETHUSDT\n",
       "date                                              \n",
       "2021-04-18 00:35:00  59773.90000000  2289.02000000\n",
       "2021-04-18 00:34:00  59739.01000000  2282.59000000\n",
       "2021-04-18 00:33:00  59592.47000000  2271.92000000\n",
       "2021-04-18 00:32:00  59634.42000000  2273.41000000\n",
       "2021-04-18 00:31:00  59561.11000000  2265.60000000\n",
       "...                             ...            ...\n",
       "2020-09-11 20:44:00  10319.47000000   368.68000000\n",
       "2020-09-11 20:43:00  10319.00000000   368.84000000\n",
       "2020-09-11 20:42:00  10319.34000000   368.71000000\n",
       "2020-09-11 20:41:00  10319.50000000   369.01000000\n",
       "2020-09-11 20:40:00  10316.00000000   368.69000000\n",
       "\n",
       "[313636 rows x 2 columns]"
      ]
     },
     "execution_count": 8,
     "metadata": {},
     "output_type": "execute_result"
    }
   ],
   "source": [
    "df_merge1 = df_merge[2:].dropna()\n",
    "df_merge1"
   ]
  },
  {
   "cell_type": "raw",
   "id": "grand-potato",
   "metadata": {},
   "source": [
    "# Montando o nossa carteira com preços de fechamento da Amazon, Google, Microsoft e Netflix\n",
    "df = pd.DataFrame()\n",
    "df['AMZN'] = data.DataReader('AMZN', data_source='yahoo', start='1-1-2010')['Close']\n",
    "df['GOOG'] = data.DataReader('GOOG', data_source='yahoo', start='1-1-2010')['Close']\n",
    "df['MSFT'] = data.DataReader('MSFT', data_source='yahoo', start='1-1-2010')['Close']\n",
    "df['NFLX'] = data.DataReader('NFLX', data_source='yahoo', start='1-1-2010')['Close']\n",
    "\n",
    "df.head()"
   ]
  },
  {
   "cell_type": "code",
   "execution_count": 9,
   "id": "compressed-edition",
   "metadata": {},
   "outputs": [],
   "source": [
    "df = df_merge1"
   ]
  },
  {
   "cell_type": "code",
   "execution_count": 10,
   "id": "polyphonic-river",
   "metadata": {},
   "outputs": [],
   "source": [
    "df[\"close_BTCUSDT\"] = pd.to_numeric(df[\"close_BTCUSDT\"], downcast=\"float\")\n",
    "df[\"close_ETHUSDT\"] = pd.to_numeric(df[\"close_ETHUSDT\"], downcast=\"float\")"
   ]
  },
  {
   "cell_type": "code",
   "execution_count": 11,
   "id": "assumed-slide",
   "metadata": {},
   "outputs": [
    {
     "data": {
      "text/html": [
       "<div>\n",
       "<style scoped>\n",
       "    .dataframe tbody tr th:only-of-type {\n",
       "        vertical-align: middle;\n",
       "    }\n",
       "\n",
       "    .dataframe tbody tr th {\n",
       "        vertical-align: top;\n",
       "    }\n",
       "\n",
       "    .dataframe thead th {\n",
       "        text-align: right;\n",
       "    }\n",
       "</style>\n",
       "<table border=\"1\" class=\"dataframe\">\n",
       "  <thead>\n",
       "    <tr style=\"text-align: right;\">\n",
       "      <th></th>\n",
       "      <th>close_BTCUSDT</th>\n",
       "      <th>close_ETHUSDT</th>\n",
       "    </tr>\n",
       "    <tr>\n",
       "      <th>date</th>\n",
       "      <th></th>\n",
       "      <th></th>\n",
       "    </tr>\n",
       "  </thead>\n",
       "  <tbody>\n",
       "    <tr>\n",
       "      <th>2021-04-18 00:35:00</th>\n",
       "      <td>59773.898438</td>\n",
       "      <td>2289.020020</td>\n",
       "    </tr>\n",
       "    <tr>\n",
       "      <th>2021-04-18 00:34:00</th>\n",
       "      <td>59739.011719</td>\n",
       "      <td>2282.590088</td>\n",
       "    </tr>\n",
       "    <tr>\n",
       "      <th>2021-04-18 00:33:00</th>\n",
       "      <td>59592.468750</td>\n",
       "      <td>2271.919922</td>\n",
       "    </tr>\n",
       "    <tr>\n",
       "      <th>2021-04-18 00:32:00</th>\n",
       "      <td>59634.421875</td>\n",
       "      <td>2273.409912</td>\n",
       "    </tr>\n",
       "    <tr>\n",
       "      <th>2021-04-18 00:31:00</th>\n",
       "      <td>59561.109375</td>\n",
       "      <td>2265.600098</td>\n",
       "    </tr>\n",
       "    <tr>\n",
       "      <th>...</th>\n",
       "      <td>...</td>\n",
       "      <td>...</td>\n",
       "    </tr>\n",
       "    <tr>\n",
       "      <th>2020-09-11 20:44:00</th>\n",
       "      <td>10319.469727</td>\n",
       "      <td>368.679993</td>\n",
       "    </tr>\n",
       "    <tr>\n",
       "      <th>2020-09-11 20:43:00</th>\n",
       "      <td>10319.000000</td>\n",
       "      <td>368.839996</td>\n",
       "    </tr>\n",
       "    <tr>\n",
       "      <th>2020-09-11 20:42:00</th>\n",
       "      <td>10319.339844</td>\n",
       "      <td>368.709991</td>\n",
       "    </tr>\n",
       "    <tr>\n",
       "      <th>2020-09-11 20:41:00</th>\n",
       "      <td>10319.500000</td>\n",
       "      <td>369.010010</td>\n",
       "    </tr>\n",
       "    <tr>\n",
       "      <th>2020-09-11 20:40:00</th>\n",
       "      <td>10316.000000</td>\n",
       "      <td>368.690002</td>\n",
       "    </tr>\n",
       "  </tbody>\n",
       "</table>\n",
       "<p>313636 rows × 2 columns</p>\n",
       "</div>"
      ],
      "text/plain": [
       "                     close_BTCUSDT  close_ETHUSDT\n",
       "date                                             \n",
       "2021-04-18 00:35:00   59773.898438    2289.020020\n",
       "2021-04-18 00:34:00   59739.011719    2282.590088\n",
       "2021-04-18 00:33:00   59592.468750    2271.919922\n",
       "2021-04-18 00:32:00   59634.421875    2273.409912\n",
       "2021-04-18 00:31:00   59561.109375    2265.600098\n",
       "...                            ...            ...\n",
       "2020-09-11 20:44:00   10319.469727     368.679993\n",
       "2020-09-11 20:43:00   10319.000000     368.839996\n",
       "2020-09-11 20:42:00   10319.339844     368.709991\n",
       "2020-09-11 20:41:00   10319.500000     369.010010\n",
       "2020-09-11 20:40:00   10316.000000     368.690002\n",
       "\n",
       "[313636 rows x 2 columns]"
      ]
     },
     "execution_count": 11,
     "metadata": {},
     "output_type": "execute_result"
    }
   ],
   "source": [
    "df"
   ]
  },
  {
   "cell_type": "markdown",
   "id": "appreciated-constraint",
   "metadata": {},
   "source": [
    "### Retorno"
   ]
  },
  {
   "cell_type": "code",
   "execution_count": 12,
   "id": "chemical-temperature",
   "metadata": {},
   "outputs": [
    {
     "data": {
      "text/html": [
       "<div>\n",
       "<style scoped>\n",
       "    .dataframe tbody tr th:only-of-type {\n",
       "        vertical-align: middle;\n",
       "    }\n",
       "\n",
       "    .dataframe tbody tr th {\n",
       "        vertical-align: top;\n",
       "    }\n",
       "\n",
       "    .dataframe thead th {\n",
       "        text-align: right;\n",
       "    }\n",
       "</style>\n",
       "<table border=\"1\" class=\"dataframe\">\n",
       "  <thead>\n",
       "    <tr style=\"text-align: right;\">\n",
       "      <th></th>\n",
       "      <th>close_BTCUSDT</th>\n",
       "      <th>close_ETHUSDT</th>\n",
       "    </tr>\n",
       "    <tr>\n",
       "      <th>date</th>\n",
       "      <th></th>\n",
       "      <th></th>\n",
       "    </tr>\n",
       "  </thead>\n",
       "  <tbody>\n",
       "    <tr>\n",
       "      <th>2021-04-18 00:35:00</th>\n",
       "      <td>NaN</td>\n",
       "      <td>NaN</td>\n",
       "    </tr>\n",
       "    <tr>\n",
       "      <th>2021-04-18 00:34:00</th>\n",
       "      <td>-0.000584</td>\n",
       "      <td>-0.002809</td>\n",
       "    </tr>\n",
       "    <tr>\n",
       "      <th>2021-04-18 00:33:00</th>\n",
       "      <td>-0.002453</td>\n",
       "      <td>-0.004675</td>\n",
       "    </tr>\n",
       "    <tr>\n",
       "      <th>2021-04-18 00:32:00</th>\n",
       "      <td>0.000704</td>\n",
       "      <td>0.000656</td>\n",
       "    </tr>\n",
       "    <tr>\n",
       "      <th>2021-04-18 00:31:00</th>\n",
       "      <td>-0.001229</td>\n",
       "      <td>-0.003435</td>\n",
       "    </tr>\n",
       "  </tbody>\n",
       "</table>\n",
       "</div>"
      ],
      "text/plain": [
       "                     close_BTCUSDT  close_ETHUSDT\n",
       "date                                             \n",
       "2021-04-18 00:35:00            NaN            NaN\n",
       "2021-04-18 00:34:00      -0.000584      -0.002809\n",
       "2021-04-18 00:33:00      -0.002453      -0.004675\n",
       "2021-04-18 00:32:00       0.000704       0.000656\n",
       "2021-04-18 00:31:00      -0.001229      -0.003435"
      ]
     },
     "execution_count": 12,
     "metadata": {},
     "output_type": "execute_result"
    }
   ],
   "source": [
    "# Retorno simples dos ativos\n",
    "df.pct_change().head()"
   ]
  },
  {
   "cell_type": "markdown",
   "id": "typical-internship",
   "metadata": {},
   "source": [
    "#### *** Testes com mais moedas e adicionar valores ao vetor de pesos w"
   ]
  },
  {
   "cell_type": "code",
   "execution_count": 31,
   "id": "cardiovascular-monroe",
   "metadata": {},
   "outputs": [],
   "source": [
    "r = df.pct_change() #retornos do ativo\n",
    "w = [0.3, 0.2] #pesos . Se utilizarmos mais moedas podemos atribuir mais diferentes como w = [0.3, 0.3, 0.2, 0.2]\n",
    "R = np.dot(r, w) #retorno do portfólio"
   ]
  },
  {
   "cell_type": "markdown",
   "id": "satellite-passing",
   "metadata": {},
   "source": [
    "### Risco"
   ]
  },
  {
   "cell_type": "code",
   "execution_count": 14,
   "id": "prompt-lecture",
   "metadata": {},
   "outputs": [],
   "source": [
    "vol = df.std()"
   ]
  },
  {
   "cell_type": "code",
   "execution_count": 15,
   "id": "level-thesis",
   "metadata": {},
   "outputs": [],
   "source": [
    "\n",
    "# retorno simples \n",
    "r = df.pct_change()\n",
    "\n",
    "# média dos retornos anualizados \n",
    "mean_returns = r.mean() * 252\n",
    "\n",
    "# matriz de covariância \n",
    "covariance = np.cov(r[1:].T)"
   ]
  },
  {
   "cell_type": "code",
   "execution_count": 16,
   "id": "integral-shape",
   "metadata": {},
   "outputs": [],
   "source": [
    "w = pd.DataFrame(w)"
   ]
  },
  {
   "cell_type": "code",
   "execution_count": 17,
   "id": "confirmed-night",
   "metadata": {},
   "outputs": [],
   "source": [
    "# Risco do portfólio anualizado\n",
    "vol = np.sqrt(np.dot(w.T, np.dot(covariance, w))) * np.sqrt(252)"
   ]
  },
  {
   "cell_type": "markdown",
   "id": "literary-gallery",
   "metadata": {},
   "source": [
    "### Simulando Portfólios"
   ]
  },
  {
   "cell_type": "code",
   "execution_count": 18,
   "id": "classical-sample",
   "metadata": {},
   "outputs": [],
   "source": [
    "def generate_wallets(df_close, num_portfolios = 10000, risk_free = 0):\n",
    "    # vetores de dados\n",
    "    portfolio_weights = []\n",
    "    portfolio_exp_returns = []\n",
    "    portfolio_vol = []\n",
    "    portfolio_sharpe = []\n",
    "\n",
    "    # retorno simples \n",
    "    r = df.pct_change()\n",
    "    mean_returns = r.mean() * 252\n",
    "\n",
    "    # matriz de covariância \n",
    "    covariance = np.cov(r[1:].T)\n",
    "\n",
    "    for i in range(num_portfolios):\n",
    "        # gerando pesos aleatórios\n",
    "        k = np.random.rand(len(df.columns))\n",
    "        w = k / sum (k)\n",
    "\n",
    "        # retorno\n",
    "        R = np.dot(mean_returns, w)\n",
    "\n",
    "        # risco\n",
    "        vol = np.sqrt(np.dot(w.T, np.dot(covariance, w))) * np.sqrt(252)\n",
    "\n",
    "        # sharpe ratio\n",
    "        sharpe = (R - risk_free)/vol\n",
    "\n",
    "        portfolio_weights.append(w)\n",
    "        portfolio_exp_returns.append(R)\n",
    "        portfolio_vol.append(vol)\n",
    "        portfolio_sharpe.append(sharpe)\n",
    "\n",
    "    wallets = {'weights': portfolio_weights,\n",
    "              'returns': portfolio_exp_returns,\n",
    "              'vol':portfolio_vol,\n",
    "              'sharpe': portfolio_sharpe}\n",
    "\n",
    "    return wallets"
   ]
  },
  {
   "cell_type": "code",
   "execution_count": 19,
   "id": "informational-distance",
   "metadata": {},
   "outputs": [],
   "source": [
    "def best_portfolio(wallets):\n",
    "    sharpe = wallets['sharpe']\n",
    "    weights = wallets['weights']\n",
    "    \n",
    "    indice = np.array(sharpe).argmax()\n",
    "        \n",
    "    return weights[indice]"
   ]
  },
  {
   "cell_type": "code",
   "execution_count": 20,
   "id": "affected-fossil",
   "metadata": {},
   "outputs": [],
   "source": [
    "wallets = generate_wallets(df)"
   ]
  },
  {
   "cell_type": "code",
   "execution_count": 21,
   "id": "personal-quantum",
   "metadata": {},
   "outputs": [
    {
     "data": {
      "text/plain": [
       "array([7.90219760e-05, 9.99920978e-01])"
      ]
     },
     "execution_count": 21,
     "metadata": {},
     "output_type": "execute_result"
    }
   ],
   "source": [
    "best_portfolio(wallets)"
   ]
  },
  {
   "cell_type": "markdown",
   "id": "known-alarm",
   "metadata": {},
   "source": [
    "### A Fronteira Eficiente"
   ]
  },
  {
   "cell_type": "code",
   "execution_count": 22,
   "id": "likely-credit",
   "metadata": {},
   "outputs": [],
   "source": [
    "def plot_efficient_frontier(wallets):\n",
    "    vol = wallets['vol']\n",
    "    returns = wallets['returns']\n",
    "    sharpe = wallets['sharpe']\n",
    "\n",
    "    indice = np.array(sharpe).argmax()\n",
    "    y_axis = returns[indice]\n",
    "    X_axis = vol[indice]\n",
    "\n",
    "    plt.scatter(vol, returns, c = sharpe, cmap = 'viridis')\n",
    "    plt.scatter(X_axis, y_axis, c = 'red', s = 50)\n",
    "    plt.title(\"Efficient Frontier\")\n",
    "    plt.xlabel(\"Volatility\")\n",
    "    plt.ylabel(\"Expected return\")\n",
    "    plt.show()"
   ]
  },
  {
   "cell_type": "markdown",
   "id": "agreed-satisfaction",
   "metadata": {},
   "source": [
    "### A Fronteira Eficiente"
   ]
  },
  {
   "cell_type": "code",
   "execution_count": 23,
   "id": "convinced-lotus",
   "metadata": {},
   "outputs": [
    {
     "data": {
      "image/png": "[encoded data removed]",
      "text/plain": [
       "<Figure size 432x288 with 1 Axes>"
      ]
     },
     "metadata": {
      "needs_background": "light"
     },
     "output_type": "display_data"
    }
   ],
   "source": [
    "plot_efficient_frontier(wallets)"
   ]
  },
  {
   "cell_type": "markdown",
   "id": "tracked-letters",
   "metadata": {},
   "source": [
    "### O que é um bom portfólio?"
   ]
  },
  {
   "cell_type": "code",
   "execution_count": 24,
   "id": "expensive-racing",
   "metadata": {},
   "outputs": [],
   "source": [
    "def best_portfolio(wallets, method = 'sharpe_ratio'):\n",
    "    vol = wallets['vol']\n",
    "    sharpe = wallets['sharpe']\n",
    "    weights = wallets['weights']\n",
    "    returns = wallets['returns']\n",
    "    \n",
    "    if method == 'sharpe_ratio':\n",
    "\n",
    "        indice = np.array(sharpe).argmax()\n",
    "\n",
    "    elif method == 'volatility':\n",
    "\n",
    "        indice = np.array(vol).argmin()\n",
    "\n",
    "    elif method == 'return':\n",
    "\n",
    "        indice = np.array(returns).argmax()\n",
    "\n",
    "    return weights[indice]"
   ]
  },
  {
   "cell_type": "code",
   "execution_count": null,
   "id": "alternate-favor",
   "metadata": {},
   "outputs": [],
   "source": []
  },
  {
   "cell_type": "code",
   "execution_count": 25,
   "id": "textile-cover",
   "metadata": {},
   "outputs": [],
   "source": [
    "def plot_efficient_frontier(wallets, method = 'sharpe_ratio'):\n",
    "    vol = wallets['vol']\n",
    "    returns = wallets['returns']\n",
    "    sharpe = wallets['sharpe']\n",
    "\n",
    "    if method == 'sharpe_ratio':\n",
    "\n",
    "        indice = np.array(sharpe).argmax()\n",
    "        y_axis = returns[indice]\n",
    "        X_axis = vol[indice]\n",
    "\n",
    "    elif method == 'volatility':\n",
    "\n",
    "        indice = np.array(vol).argmin()\n",
    "        y_axis = returns[indice]\n",
    "        X_axis = vol[indice]\n",
    "\n",
    "    elif method == 'return': \n",
    "\n",
    "        indice = np.array(returns).argmax()\n",
    "        y_axis = returns[indice]\n",
    "        X_axis = vol[indice]\n",
    "\n",
    "    plt.scatter(vol, returns, c = sharpe, cmap = 'viridis')\n",
    "    plt.scatter(X_axis, y_axis, c = 'red', s = 50)\n",
    "    plt.title(\"Efficient Frontier\")\n",
    "    plt.xlabel(\"Volatility\")\n",
    "    plt.ylabel(\"Expected return\")\n",
    "    plt.show()"
   ]
  },
  {
   "cell_type": "code",
   "execution_count": 26,
   "id": "visible-india",
   "metadata": {},
   "outputs": [],
   "source": [
    "wallets = generate_wallets(df)"
   ]
  },
  {
   "cell_type": "code",
   "execution_count": 27,
   "id": "figured-airplane",
   "metadata": {},
   "outputs": [
    {
     "data": {
      "text/plain": [
       "array([0.95919641, 0.04080359])"
      ]
     },
     "execution_count": 27,
     "metadata": {},
     "output_type": "execute_result"
    }
   ],
   "source": [
    "best_portfolio(wallets, method = 'volatility')"
   ]
  },
  {
   "cell_type": "code",
   "execution_count": 28,
   "id": "brave-subcommittee",
   "metadata": {},
   "outputs": [
    {
     "data": {
      "image/png": "[encoded data removed]",
      "text/plain": [
       "<Figure size 432x288 with 1 Axes>"
      ]
     },
     "metadata": {
      "needs_background": "light"
     },
     "output_type": "display_data"
    }
   ],
   "source": [
    "plot_efficient_frontier(wallets, method = 'volatility')"
   ]
  },
  {
   "cell_type": "code",
   "execution_count": 29,
   "id": "organized-sequence",
   "metadata": {},
   "outputs": [
    {
     "data": {
      "text/plain": [
       "array([7.93360862e-08, 9.99999921e-01])"
      ]
     },
     "execution_count": 29,
     "metadata": {},
     "output_type": "execute_result"
    }
   ],
   "source": [
    "best_portfolio(wallets, method = 'return')"
   ]
  },
  {
   "cell_type": "code",
   "execution_count": 30,
   "id": "distant-integrity",
   "metadata": {},
   "outputs": [
    {
     "data": {
      "image/png": "[encoded data removed]",
      "text/plain": [
       "<Figure size 432x288 with 1 Axes>"
      ]
     },
     "metadata": {
      "needs_background": "light"
     },
     "output_type": "display_data"
    }
   ],
   "source": [
    "plot_efficient_frontier(wallets, method = 'return')"
   ]
  },
  {
   "cell_type": "code",
   "execution_count": null,
   "id": "extended-ground",
   "metadata": {},
   "outputs": [],
   "source": []
  }
 ],
 "metadata": {
  "kernelspec": {
   "display_name": "Python 3",
   "language": "python",
   "name": "python3"
  },
  "language_info": {
   "codemirror_mode": {
    "name": "ipython",
    "version": 3
   },
   "file_extension": ".py",
   "mimetype": "text/x-python",
   "name": "python",
   "nbconvert_exporter": "python",
   "pygments_lexer": "ipython3",
   "version": "3.8.8"
  }
 },
 "nbformat": 4,
 "nbformat_minor": 5
}
