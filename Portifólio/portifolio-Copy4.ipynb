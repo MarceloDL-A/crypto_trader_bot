{
 "cells": [
  {
   "cell_type": "markdown",
   "id": "adult-miracle",
   "metadata": {},
   "source": [
    "[Portfólio][1] \\\n",
    "[Base de dados][2]\n",
    "\n",
    "[1]: <https://medium.com/turing-talks/teoria-moderna-do-portf%C3%B3lio-em-python-e8bad41ebb8b>\n",
    "[2]: <https://www.cryptodatadownload.com/data/binance/>"
   ]
  },
  {
   "cell_type": "raw",
   "id": "blank-packing",
   "metadata": {},
   "source": [
    "!pip install pandas_datareader"
   ]
  },
  {
   "cell_type": "code",
   "execution_count": 1,
   "id": "medium-fisher",
   "metadata": {},
   "outputs": [],
   "source": [
    "# Importando as bibliotecas \n",
    "import pandas as pd \n",
    "import numpy as np\n",
    "import matplotlib.pyplot as plt\n",
    "from pandas_datareader import data"
   ]
  },
  {
   "cell_type": "markdown",
   "id": "prospective-walker",
   "metadata": {},
   "source": [
    "#### 1- Par ADAUSDT"
   ]
  },
  {
   "cell_type": "code",
   "execution_count": 2,
   "id": "french-classics",
   "metadata": {
    "tags": []
   },
   "outputs": [
    {
     "data": {
      "text/html": [
       "<div>\n",
       "<style scoped>\n",
       "    .dataframe tbody tr th:only-of-type {\n",
       "        vertical-align: middle;\n",
       "    }\n",
       "\n",
       "    .dataframe tbody tr th {\n",
       "        vertical-align: top;\n",
       "    }\n",
       "\n",
       "    .dataframe thead th {\n",
       "        text-align: right;\n",
       "    }\n",
       "</style>\n",
       "<table border=\"1\" class=\"dataframe\">\n",
       "  <thead>\n",
       "    <tr style=\"text-align: right;\">\n",
       "      <th></th>\n",
       "      <th>date</th>\n",
       "      <th>close</th>\n",
       "    </tr>\n",
       "  </thead>\n",
       "  <tbody>\n",
       "    <tr>\n",
       "      <th>0</th>\n",
       "      <td>NaN</td>\n",
       "      <td>NaN</td>\n",
       "    </tr>\n",
       "    <tr>\n",
       "      <th>1</th>\n",
       "      <td>date</td>\n",
       "      <td>close</td>\n",
       "    </tr>\n",
       "    <tr>\n",
       "      <th>2</th>\n",
       "      <td>2021-04-18 00:00:00</td>\n",
       "      <td>1.36649000</td>\n",
       "    </tr>\n",
       "    <tr>\n",
       "      <th>3</th>\n",
       "      <td>2021-04-17 00:00:00</td>\n",
       "      <td>1.36802000</td>\n",
       "    </tr>\n",
       "    <tr>\n",
       "      <th>4</th>\n",
       "      <td>2021-04-16 00:00:00</td>\n",
       "      <td>1.40989000</td>\n",
       "    </tr>\n",
       "  </tbody>\n",
       "</table>\n",
       "</div>"
      ],
      "text/plain": [
       "                  date       close\n",
       "0                  NaN         NaN\n",
       "1                 date       close\n",
       "2  2021-04-18 00:00:00  1.36649000\n",
       "3  2021-04-17 00:00:00  1.36802000\n",
       "4  2021-04-16 00:00:00  1.40989000"
      ]
     },
     "execution_count": 2,
     "metadata": {},
     "output_type": "execute_result"
    }
   ],
   "source": [
    "df_ADAUSDT = pd.read_csv(\"Binance_ADAUSDT_d.csv\", low_memory=False)\n",
    "columnsADAUSDT = list(df_ADAUSDT.index[0])\n",
    "dfADAUSDT = pd.read_csv(\"Binance_ADAUSDT_d.csv\", names=columnsADAUSDT, low_memory=False)\n",
    "dfADAUSDT = dfADAUSDT[['date', 'close']]\n",
    "dfADAUSDT.head()"
   ]
  },
  {
   "cell_type": "markdown",
   "id": "limited-parcel",
   "metadata": {},
   "source": [
    "#### 2- Par BNBUSDT"
   ]
  },
  {
   "cell_type": "code",
   "execution_count": 3,
   "id": "blond-collection",
   "metadata": {},
   "outputs": [
    {
     "data": {
      "text/html": [
       "<div>\n",
       "<style scoped>\n",
       "    .dataframe tbody tr th:only-of-type {\n",
       "        vertical-align: middle;\n",
       "    }\n",
       "\n",
       "    .dataframe tbody tr th {\n",
       "        vertical-align: top;\n",
       "    }\n",
       "\n",
       "    .dataframe thead th {\n",
       "        text-align: right;\n",
       "    }\n",
       "</style>\n",
       "<table border=\"1\" class=\"dataframe\">\n",
       "  <thead>\n",
       "    <tr style=\"text-align: right;\">\n",
       "      <th></th>\n",
       "      <th>date</th>\n",
       "      <th>close</th>\n",
       "    </tr>\n",
       "  </thead>\n",
       "  <tbody>\n",
       "    <tr>\n",
       "      <th>0</th>\n",
       "      <td>NaN</td>\n",
       "      <td>NaN</td>\n",
       "    </tr>\n",
       "    <tr>\n",
       "      <th>1</th>\n",
       "      <td>date</td>\n",
       "      <td>close</td>\n",
       "    </tr>\n",
       "    <tr>\n",
       "      <th>2</th>\n",
       "      <td>2021-04-18 00:00:00</td>\n",
       "      <td>513.82940000</td>\n",
       "    </tr>\n",
       "    <tr>\n",
       "      <th>3</th>\n",
       "      <td>2021-04-17 00:00:00</td>\n",
       "      <td>514.68610000</td>\n",
       "    </tr>\n",
       "    <tr>\n",
       "      <th>4</th>\n",
       "      <td>2021-04-16 00:00:00</td>\n",
       "      <td>508.27430000</td>\n",
       "    </tr>\n",
       "  </tbody>\n",
       "</table>\n",
       "</div>"
      ],
      "text/plain": [
       "                  date         close\n",
       "0                  NaN           NaN\n",
       "1                 date         close\n",
       "2  2021-04-18 00:00:00  513.82940000\n",
       "3  2021-04-17 00:00:00  514.68610000\n",
       "4  2021-04-16 00:00:00  508.27430000"
      ]
     },
     "execution_count": 3,
     "metadata": {},
     "output_type": "execute_result"
    }
   ],
   "source": [
    "df_BNBUSDT = pd.read_csv(\"Binance_BNBUSDT_d.csv\", low_memory=False)\n",
    "columnsBNBUSDT = list(df_BNBUSDT.index[0])\n",
    "dfBNBUSDT = pd.read_csv(\"Binance_BNBUSDT_d.csv\", names=columnsBNBUSDT, low_memory=False)\n",
    "dfBNBUSDT = dfBNBUSDT[['date', 'close']]\n",
    "dfBNBUSDT.head()"
   ]
  },
  {
   "cell_type": "markdown",
   "id": "periodic-puzzle",
   "metadata": {},
   "source": [
    "#### 3- Par BTCUSDT"
   ]
  },
  {
   "cell_type": "code",
   "execution_count": 4,
   "id": "proved-officer",
   "metadata": {},
   "outputs": [
    {
     "data": {
      "text/html": [
       "<div>\n",
       "<style scoped>\n",
       "    .dataframe tbody tr th:only-of-type {\n",
       "        vertical-align: middle;\n",
       "    }\n",
       "\n",
       "    .dataframe tbody tr th {\n",
       "        vertical-align: top;\n",
       "    }\n",
       "\n",
       "    .dataframe thead th {\n",
       "        text-align: right;\n",
       "    }\n",
       "</style>\n",
       "<table border=\"1\" class=\"dataframe\">\n",
       "  <thead>\n",
       "    <tr style=\"text-align: right;\">\n",
       "      <th></th>\n",
       "      <th>date</th>\n",
       "      <th>close</th>\n",
       "    </tr>\n",
       "  </thead>\n",
       "  <tbody>\n",
       "    <tr>\n",
       "      <th>0</th>\n",
       "      <td>NaN</td>\n",
       "      <td>NaN</td>\n",
       "    </tr>\n",
       "    <tr>\n",
       "      <th>1</th>\n",
       "      <td>date</td>\n",
       "      <td>close</td>\n",
       "    </tr>\n",
       "    <tr>\n",
       "      <th>2</th>\n",
       "      <td>2021-05-02 00:00:00</td>\n",
       "      <td>57861.01000000</td>\n",
       "    </tr>\n",
       "    <tr>\n",
       "      <th>3</th>\n",
       "      <td>2021-05-01 00:00:00</td>\n",
       "      <td>57800.37000000</td>\n",
       "    </tr>\n",
       "    <tr>\n",
       "      <th>4</th>\n",
       "      <td>2021-04-30 00:00:00</td>\n",
       "      <td>57694.27000000</td>\n",
       "    </tr>\n",
       "  </tbody>\n",
       "</table>\n",
       "</div>"
      ],
      "text/plain": [
       "                  date           close\n",
       "0                  NaN             NaN\n",
       "1                 date           close\n",
       "2  2021-05-02 00:00:00  57861.01000000\n",
       "3  2021-05-01 00:00:00  57800.37000000\n",
       "4  2021-04-30 00:00:00  57694.27000000"
      ]
     },
     "execution_count": 4,
     "metadata": {},
     "output_type": "execute_result"
    }
   ],
   "source": [
    "df_BTCUSDT = pd.read_csv(\"Binance_BTCUSDT_d.csv\", low_memory=False)\n",
    "columnsBTCUSDT = list(df_BTCUSDT.index[0])\n",
    "dfEBTCUSDT = pd.read_csv(\"Binance_BTCUSDT_d.csv\", names=columnsBTCUSDT, low_memory=False)\n",
    "dfBTCUSDT = dfEBTCUSDT[['date', 'close']]\n",
    "dfBTCUSDT.head()"
   ]
  },
  {
   "cell_type": "markdown",
   "id": "little-smell",
   "metadata": {},
   "source": [
    "#### 4- Par ETHUSDT"
   ]
  },
  {
   "cell_type": "code",
   "execution_count": 5,
   "id": "homeless-implement",
   "metadata": {},
   "outputs": [
    {
     "data": {
      "text/html": [
       "<div>\n",
       "<style scoped>\n",
       "    .dataframe tbody tr th:only-of-type {\n",
       "        vertical-align: middle;\n",
       "    }\n",
       "\n",
       "    .dataframe tbody tr th {\n",
       "        vertical-align: top;\n",
       "    }\n",
       "\n",
       "    .dataframe thead th {\n",
       "        text-align: right;\n",
       "    }\n",
       "</style>\n",
       "<table border=\"1\" class=\"dataframe\">\n",
       "  <thead>\n",
       "    <tr style=\"text-align: right;\">\n",
       "      <th></th>\n",
       "      <th>date</th>\n",
       "      <th>close</th>\n",
       "    </tr>\n",
       "  </thead>\n",
       "  <tbody>\n",
       "    <tr>\n",
       "      <th>0</th>\n",
       "      <td>NaN</td>\n",
       "      <td>NaN</td>\n",
       "    </tr>\n",
       "    <tr>\n",
       "      <th>1</th>\n",
       "      <td>date</td>\n",
       "      <td>close</td>\n",
       "    </tr>\n",
       "    <tr>\n",
       "      <th>2</th>\n",
       "      <td>2021-05-02 00:00:00</td>\n",
       "      <td>2948.65000000</td>\n",
       "    </tr>\n",
       "    <tr>\n",
       "      <th>3</th>\n",
       "      <td>2021-05-01 00:00:00</td>\n",
       "      <td>2944.77000000</td>\n",
       "    </tr>\n",
       "    <tr>\n",
       "      <th>4</th>\n",
       "      <td>2021-04-30 00:00:00</td>\n",
       "      <td>2772.42000000</td>\n",
       "    </tr>\n",
       "  </tbody>\n",
       "</table>\n",
       "</div>"
      ],
      "text/plain": [
       "                  date          close\n",
       "0                  NaN            NaN\n",
       "1                 date          close\n",
       "2  2021-05-02 00:00:00  2948.65000000\n",
       "3  2021-05-01 00:00:00  2944.77000000\n",
       "4  2021-04-30 00:00:00  2772.42000000"
      ]
     },
     "execution_count": 5,
     "metadata": {},
     "output_type": "execute_result"
    }
   ],
   "source": [
    "df_ETHUSDT = pd.read_csv(\"Binance_ETHUSDT_d.csv\", low_memory=False)\n",
    "columnsETHUSDT = list(df_ETHUSDT.index[0])\n",
    "dfETHUSDT = pd.read_csv(\"Binance_ETHUSDT_d.csv\", names=columnsETHUSDT, low_memory=False)\n",
    "dfETHUSDT = dfETHUSDT[['date', 'close']]\n",
    "dfETHUSDT.head()"
   ]
  },
  {
   "cell_type": "code",
   "execution_count": 6,
   "id": "potential-regulation",
   "metadata": {},
   "outputs": [
    {
     "data": {
      "text/html": [
       "<div>\n",
       "<style scoped>\n",
       "    .dataframe tbody tr th:only-of-type {\n",
       "        vertical-align: middle;\n",
       "    }\n",
       "\n",
       "    .dataframe tbody tr th {\n",
       "        vertical-align: top;\n",
       "    }\n",
       "\n",
       "    .dataframe thead th {\n",
       "        text-align: right;\n",
       "    }\n",
       "</style>\n",
       "<table border=\"1\" class=\"dataframe\">\n",
       "  <thead>\n",
       "    <tr style=\"text-align: right;\">\n",
       "      <th></th>\n",
       "      <th>date</th>\n",
       "      <th>close_ADAUSDT</th>\n",
       "      <th>close_BNBUSDT</th>\n",
       "    </tr>\n",
       "  </thead>\n",
       "  <tbody>\n",
       "    <tr>\n",
       "      <th>0</th>\n",
       "      <td>NaN</td>\n",
       "      <td>NaN</td>\n",
       "      <td>NaN</td>\n",
       "    </tr>\n",
       "    <tr>\n",
       "      <th>1</th>\n",
       "      <td>date</td>\n",
       "      <td>close</td>\n",
       "      <td>close</td>\n",
       "    </tr>\n",
       "    <tr>\n",
       "      <th>2</th>\n",
       "      <td>2021-04-18 00:00:00</td>\n",
       "      <td>1.36649000</td>\n",
       "      <td>513.82940000</td>\n",
       "    </tr>\n",
       "    <tr>\n",
       "      <th>3</th>\n",
       "      <td>2021-04-17 00:00:00</td>\n",
       "      <td>1.36802000</td>\n",
       "      <td>514.68610000</td>\n",
       "    </tr>\n",
       "    <tr>\n",
       "      <th>4</th>\n",
       "      <td>2021-04-16 00:00:00</td>\n",
       "      <td>1.40989000</td>\n",
       "      <td>508.27430000</td>\n",
       "    </tr>\n",
       "  </tbody>\n",
       "</table>\n",
       "</div>"
      ],
      "text/plain": [
       "                  date close_ADAUSDT close_BNBUSDT\n",
       "0                  NaN           NaN           NaN\n",
       "1                 date         close         close\n",
       "2  2021-04-18 00:00:00    1.36649000  513.82940000\n",
       "3  2021-04-17 00:00:00    1.36802000  514.68610000\n",
       "4  2021-04-16 00:00:00    1.40989000  508.27430000"
      ]
     },
     "execution_count": 6,
     "metadata": {},
     "output_type": "execute_result"
    }
   ],
   "source": [
    "df_merge2 = dfADAUSDT.merge(dfBNBUSDT, how='inner', on='date',suffixes=('_ADAUSDT','_BNBUSDT'))\n",
    "df_merge2.head()"
   ]
  },
  {
   "cell_type": "code",
   "execution_count": 7,
   "id": "checked-hometown",
   "metadata": {},
   "outputs": [
    {
     "data": {
      "text/html": [
       "<div>\n",
       "<style scoped>\n",
       "    .dataframe tbody tr th:only-of-type {\n",
       "        vertical-align: middle;\n",
       "    }\n",
       "\n",
       "    .dataframe tbody tr th {\n",
       "        vertical-align: top;\n",
       "    }\n",
       "\n",
       "    .dataframe thead th {\n",
       "        text-align: right;\n",
       "    }\n",
       "</style>\n",
       "<table border=\"1\" class=\"dataframe\">\n",
       "  <thead>\n",
       "    <tr style=\"text-align: right;\">\n",
       "      <th></th>\n",
       "      <th>date</th>\n",
       "      <th>close_ADAUSDT</th>\n",
       "      <th>close_BNBUSDT</th>\n",
       "      <th>close_BTCUSDT</th>\n",
       "    </tr>\n",
       "  </thead>\n",
       "  <tbody>\n",
       "    <tr>\n",
       "      <th>0</th>\n",
       "      <td>NaN</td>\n",
       "      <td>NaN</td>\n",
       "      <td>NaN</td>\n",
       "      <td>NaN</td>\n",
       "    </tr>\n",
       "    <tr>\n",
       "      <th>1</th>\n",
       "      <td>date</td>\n",
       "      <td>close</td>\n",
       "      <td>close</td>\n",
       "      <td>close</td>\n",
       "    </tr>\n",
       "    <tr>\n",
       "      <th>2</th>\n",
       "      <td>2021-04-18 00:00:00</td>\n",
       "      <td>1.36649000</td>\n",
       "      <td>513.82940000</td>\n",
       "      <td>56150.01000000</td>\n",
       "    </tr>\n",
       "    <tr>\n",
       "      <th>3</th>\n",
       "      <td>2021-04-17 00:00:00</td>\n",
       "      <td>1.36802000</td>\n",
       "      <td>514.68610000</td>\n",
       "      <td>60006.66000000</td>\n",
       "    </tr>\n",
       "    <tr>\n",
       "      <th>4</th>\n",
       "      <td>2021-04-16 00:00:00</td>\n",
       "      <td>1.40989000</td>\n",
       "      <td>508.27430000</td>\n",
       "      <td>61334.80000000</td>\n",
       "    </tr>\n",
       "  </tbody>\n",
       "</table>\n",
       "</div>"
      ],
      "text/plain": [
       "                  date close_ADAUSDT close_BNBUSDT   close_BTCUSDT\n",
       "0                  NaN           NaN           NaN             NaN\n",
       "1                 date         close         close           close\n",
       "2  2021-04-18 00:00:00    1.36649000  513.82940000  56150.01000000\n",
       "3  2021-04-17 00:00:00    1.36802000  514.68610000  60006.66000000\n",
       "4  2021-04-16 00:00:00    1.40989000  508.27430000  61334.80000000"
      ]
     },
     "execution_count": 7,
     "metadata": {},
     "output_type": "execute_result"
    }
   ],
   "source": [
    "df_merge3 = df_merge2.merge(dfBTCUSDT, how='inner', on='date')\n",
    "df_merge3 = df_merge3.rename(columns = {'close': 'close_BTCUSDT'})\n",
    "df_merge3.head()"
   ]
  },
  {
   "cell_type": "code",
   "execution_count": 8,
   "id": "korean-riding",
   "metadata": {},
   "outputs": [
    {
     "data": {
      "text/html": [
       "<div>\n",
       "<style scoped>\n",
       "    .dataframe tbody tr th:only-of-type {\n",
       "        vertical-align: middle;\n",
       "    }\n",
       "\n",
       "    .dataframe tbody tr th {\n",
       "        vertical-align: top;\n",
       "    }\n",
       "\n",
       "    .dataframe thead th {\n",
       "        text-align: right;\n",
       "    }\n",
       "</style>\n",
       "<table border=\"1\" class=\"dataframe\">\n",
       "  <thead>\n",
       "    <tr style=\"text-align: right;\">\n",
       "      <th></th>\n",
       "      <th>date</th>\n",
       "      <th>close_ADAUSDT</th>\n",
       "      <th>close_BNBUSDT</th>\n",
       "      <th>close_BTCUSDT</th>\n",
       "      <th>close_ETHUSDT</th>\n",
       "    </tr>\n",
       "  </thead>\n",
       "  <tbody>\n",
       "    <tr>\n",
       "      <th>2</th>\n",
       "      <td>2021-04-18 00:00:00</td>\n",
       "      <td>1.36649000</td>\n",
       "      <td>513.82940000</td>\n",
       "      <td>56150.01000000</td>\n",
       "      <td>2235.64000000</td>\n",
       "    </tr>\n",
       "    <tr>\n",
       "      <th>3</th>\n",
       "      <td>2021-04-17 00:00:00</td>\n",
       "      <td>1.36802000</td>\n",
       "      <td>514.68610000</td>\n",
       "      <td>60006.66000000</td>\n",
       "      <td>2317.60000000</td>\n",
       "    </tr>\n",
       "    <tr>\n",
       "      <th>4</th>\n",
       "      <td>2021-04-16 00:00:00</td>\n",
       "      <td>1.40989000</td>\n",
       "      <td>508.27430000</td>\n",
       "      <td>61334.80000000</td>\n",
       "      <td>2422.67000000</td>\n",
       "    </tr>\n",
       "    <tr>\n",
       "      <th>5</th>\n",
       "      <td>2021-04-15 00:00:00</td>\n",
       "      <td>1.47820000</td>\n",
       "      <td>541.88240000</td>\n",
       "      <td>63159.98000000</td>\n",
       "      <td>2514.04000000</td>\n",
       "    </tr>\n",
       "    <tr>\n",
       "      <th>6</th>\n",
       "      <td>2021-04-14 00:00:00</td>\n",
       "      <td>1.45092000</td>\n",
       "      <td>550.01820000</td>\n",
       "      <td>62959.53000000</td>\n",
       "      <td>2432.60000000</td>\n",
       "    </tr>\n",
       "  </tbody>\n",
       "</table>\n",
       "</div>"
      ],
      "text/plain": [
       "                  date close_ADAUSDT close_BNBUSDT   close_BTCUSDT  \\\n",
       "2  2021-04-18 00:00:00    1.36649000  513.82940000  56150.01000000   \n",
       "3  2021-04-17 00:00:00    1.36802000  514.68610000  60006.66000000   \n",
       "4  2021-04-16 00:00:00    1.40989000  508.27430000  61334.80000000   \n",
       "5  2021-04-15 00:00:00    1.47820000  541.88240000  63159.98000000   \n",
       "6  2021-04-14 00:00:00    1.45092000  550.01820000  62959.53000000   \n",
       "\n",
       "   close_ETHUSDT  \n",
       "2  2235.64000000  \n",
       "3  2317.60000000  \n",
       "4  2422.67000000  \n",
       "5  2514.04000000  \n",
       "6  2432.60000000  "
      ]
     },
     "execution_count": 8,
     "metadata": {},
     "output_type": "execute_result"
    }
   ],
   "source": [
    "df_merge4 = df_merge3.merge(dfETHUSDT, how='inner', on='date')\n",
    "df_merge4 = df_merge4.rename(columns = {'close': 'close_ETHUSDT'})\n",
    "df_merge4 = df_merge4.dropna()\n",
    "df_merge4 = df_merge4[1:]\n",
    "df_merge4.head()"
   ]
  },
  {
   "cell_type": "code",
   "execution_count": 9,
   "id": "dressed-mounting",
   "metadata": {},
   "outputs": [
    {
     "data": {
      "text/html": [
       "<div>\n",
       "<style scoped>\n",
       "    .dataframe tbody tr th:only-of-type {\n",
       "        vertical-align: middle;\n",
       "    }\n",
       "\n",
       "    .dataframe tbody tr th {\n",
       "        vertical-align: top;\n",
       "    }\n",
       "\n",
       "    .dataframe thead th {\n",
       "        text-align: right;\n",
       "    }\n",
       "</style>\n",
       "<table border=\"1\" class=\"dataframe\">\n",
       "  <thead>\n",
       "    <tr style=\"text-align: right;\">\n",
       "      <th></th>\n",
       "      <th>date</th>\n",
       "      <th>close_ADAUSDT</th>\n",
       "      <th>close_BNBUSDT</th>\n",
       "      <th>close_BTCUSDT</th>\n",
       "      <th>close_ETHUSDT</th>\n",
       "    </tr>\n",
       "  </thead>\n",
       "  <tbody>\n",
       "    <tr>\n",
       "      <th>2</th>\n",
       "      <td>2021-04-18 00:00:00</td>\n",
       "      <td>1.36649000</td>\n",
       "      <td>513.82940000</td>\n",
       "      <td>56150.01000000</td>\n",
       "      <td>2235.64000000</td>\n",
       "    </tr>\n",
       "    <tr>\n",
       "      <th>3</th>\n",
       "      <td>2021-04-17 00:00:00</td>\n",
       "      <td>1.36802000</td>\n",
       "      <td>514.68610000</td>\n",
       "      <td>60006.66000000</td>\n",
       "      <td>2317.60000000</td>\n",
       "    </tr>\n",
       "    <tr>\n",
       "      <th>4</th>\n",
       "      <td>2021-04-16 00:00:00</td>\n",
       "      <td>1.40989000</td>\n",
       "      <td>508.27430000</td>\n",
       "      <td>61334.80000000</td>\n",
       "      <td>2422.67000000</td>\n",
       "    </tr>\n",
       "    <tr>\n",
       "      <th>5</th>\n",
       "      <td>2021-04-15 00:00:00</td>\n",
       "      <td>1.47820000</td>\n",
       "      <td>541.88240000</td>\n",
       "      <td>63159.98000000</td>\n",
       "      <td>2514.04000000</td>\n",
       "    </tr>\n",
       "    <tr>\n",
       "      <th>6</th>\n",
       "      <td>2021-04-14 00:00:00</td>\n",
       "      <td>1.45092000</td>\n",
       "      <td>550.01820000</td>\n",
       "      <td>62959.53000000</td>\n",
       "      <td>2432.60000000</td>\n",
       "    </tr>\n",
       "  </tbody>\n",
       "</table>\n",
       "</div>"
      ],
      "text/plain": [
       "                  date close_ADAUSDT close_BNBUSDT   close_BTCUSDT  \\\n",
       "2  2021-04-18 00:00:00    1.36649000  513.82940000  56150.01000000   \n",
       "3  2021-04-17 00:00:00    1.36802000  514.68610000  60006.66000000   \n",
       "4  2021-04-16 00:00:00    1.40989000  508.27430000  61334.80000000   \n",
       "5  2021-04-15 00:00:00    1.47820000  541.88240000  63159.98000000   \n",
       "6  2021-04-14 00:00:00    1.45092000  550.01820000  62959.53000000   \n",
       "\n",
       "   close_ETHUSDT  \n",
       "2  2235.64000000  \n",
       "3  2317.60000000  \n",
       "4  2422.67000000  \n",
       "5  2514.04000000  \n",
       "6  2432.60000000  "
      ]
     },
     "execution_count": 9,
     "metadata": {},
     "output_type": "execute_result"
    }
   ],
   "source": [
    "df = df_merge4\n",
    "df.head()"
   ]
  },
  {
   "cell_type": "code",
   "execution_count": 10,
   "id": "surprising-longer",
   "metadata": {},
   "outputs": [],
   "source": [
    "df[\"close_ADAUSDT\"] = pd.to_numeric(df[\"close_ADAUSDT\"], downcast=\"float\")\n",
    "df[\"close_BNBUSDT\"] = pd.to_numeric(df[\"close_BNBUSDT\"], downcast=\"float\")\n",
    "df[\"close_BTCUSDT\"] = pd.to_numeric(df[\"close_BTCUSDT\"], downcast=\"float\")\n",
    "df[\"close_ETHUSDT\"] = pd.to_numeric(df[\"close_ETHUSDT\"], downcast=\"float\")"
   ]
  },
  {
   "cell_type": "code",
   "execution_count": 11,
   "id": "regional-province",
   "metadata": {},
   "outputs": [],
   "source": [
    "df.index = df[\"date\"]"
   ]
  },
  {
   "cell_type": "code",
   "execution_count": 12,
   "id": "happy-observer",
   "metadata": {},
   "outputs": [],
   "source": [
    "df = df.drop(columns = [\"date\"])"
   ]
  },
  {
   "cell_type": "raw",
   "id": "secure-bloom",
   "metadata": {},
   "source": [
    "df = df[2:].dropna()\n",
    "df"
   ]
  },
  {
   "cell_type": "code",
   "execution_count": 13,
   "id": "victorian-planning",
   "metadata": {},
   "outputs": [
    {
     "name": "stdout",
     "output_type": "stream",
     "text": [
      "<class 'pandas.core.frame.DataFrame'>\n",
      "Index: 1098 entries, 2021-04-18 00:00:00 to 2018-04-17 00:00:00\n",
      "Data columns (total 4 columns):\n",
      " #   Column         Non-Null Count  Dtype  \n",
      "---  ------         --------------  -----  \n",
      " 0   close_ADAUSDT  1098 non-null   float32\n",
      " 1   close_BNBUSDT  1098 non-null   float32\n",
      " 2   close_BTCUSDT  1098 non-null   float32\n",
      " 3   close_ETHUSDT  1098 non-null   float32\n",
      "dtypes: float32(4)\n",
      "memory usage: 25.7+ KB\n"
     ]
    }
   ],
   "source": [
    "df.info()"
   ]
  },
  {
   "cell_type": "markdown",
   "id": "rocky-stationery",
   "metadata": {},
   "source": [
    "### Retorno"
   ]
  },
  {
   "cell_type": "code",
   "execution_count": 14,
   "id": "trained-volunteer",
   "metadata": {},
   "outputs": [
    {
     "data": {
      "text/html": [
       "<div>\n",
       "<style scoped>\n",
       "    .dataframe tbody tr th:only-of-type {\n",
       "        vertical-align: middle;\n",
       "    }\n",
       "\n",
       "    .dataframe tbody tr th {\n",
       "        vertical-align: top;\n",
       "    }\n",
       "\n",
       "    .dataframe thead th {\n",
       "        text-align: right;\n",
       "    }\n",
       "</style>\n",
       "<table border=\"1\" class=\"dataframe\">\n",
       "  <thead>\n",
       "    <tr style=\"text-align: right;\">\n",
       "      <th></th>\n",
       "      <th>close_ADAUSDT</th>\n",
       "      <th>close_BNBUSDT</th>\n",
       "      <th>close_BTCUSDT</th>\n",
       "      <th>close_ETHUSDT</th>\n",
       "    </tr>\n",
       "    <tr>\n",
       "      <th>date</th>\n",
       "      <th></th>\n",
       "      <th></th>\n",
       "      <th></th>\n",
       "      <th></th>\n",
       "    </tr>\n",
       "  </thead>\n",
       "  <tbody>\n",
       "    <tr>\n",
       "      <th>2021-04-18 00:00:00</th>\n",
       "      <td>NaN</td>\n",
       "      <td>NaN</td>\n",
       "      <td>NaN</td>\n",
       "      <td>NaN</td>\n",
       "    </tr>\n",
       "    <tr>\n",
       "      <th>2021-04-17 00:00:00</th>\n",
       "      <td>0.001120</td>\n",
       "      <td>0.001667</td>\n",
       "      <td>0.068685</td>\n",
       "      <td>0.036661</td>\n",
       "    </tr>\n",
       "    <tr>\n",
       "      <th>2021-04-16 00:00:00</th>\n",
       "      <td>0.030606</td>\n",
       "      <td>-0.012458</td>\n",
       "      <td>0.022133</td>\n",
       "      <td>0.045336</td>\n",
       "    </tr>\n",
       "    <tr>\n",
       "      <th>2021-04-15 00:00:00</th>\n",
       "      <td>0.048450</td>\n",
       "      <td>0.066122</td>\n",
       "      <td>0.029758</td>\n",
       "      <td>0.037715</td>\n",
       "    </tr>\n",
       "    <tr>\n",
       "      <th>2021-04-14 00:00:00</th>\n",
       "      <td>-0.018455</td>\n",
       "      <td>0.015014</td>\n",
       "      <td>-0.003174</td>\n",
       "      <td>-0.032394</td>\n",
       "    </tr>\n",
       "  </tbody>\n",
       "</table>\n",
       "</div>"
      ],
      "text/plain": [
       "                     close_ADAUSDT  close_BNBUSDT  close_BTCUSDT  \\\n",
       "date                                                               \n",
       "2021-04-18 00:00:00            NaN            NaN            NaN   \n",
       "2021-04-17 00:00:00       0.001120       0.001667       0.068685   \n",
       "2021-04-16 00:00:00       0.030606      -0.012458       0.022133   \n",
       "2021-04-15 00:00:00       0.048450       0.066122       0.029758   \n",
       "2021-04-14 00:00:00      -0.018455       0.015014      -0.003174   \n",
       "\n",
       "                     close_ETHUSDT  \n",
       "date                                \n",
       "2021-04-18 00:00:00            NaN  \n",
       "2021-04-17 00:00:00       0.036661  \n",
       "2021-04-16 00:00:00       0.045336  \n",
       "2021-04-15 00:00:00       0.037715  \n",
       "2021-04-14 00:00:00      -0.032394  "
      ]
     },
     "execution_count": 14,
     "metadata": {},
     "output_type": "execute_result"
    }
   ],
   "source": [
    "# Retorno simples dos ativos\n",
    "df.pct_change().head()"
   ]
  },
  {
   "cell_type": "markdown",
   "id": "affiliated-faith",
   "metadata": {},
   "source": [
    "#### *** Testes com mais moedas e adicionar valores ao vetor de pesos w"
   ]
  },
  {
   "cell_type": "code",
   "execution_count": 15,
   "id": "coordinated-parish",
   "metadata": {},
   "outputs": [],
   "source": [
    "r = df.pct_change() #retornos do ativo\n",
    "w = [0.3, 0.3, 0.2, 0.2] #pesos . Se utilizarmos mais moedas podemos atribuir mais diferentes como w = [0.3, 0.3, 0.2, 0.2]\n",
    "R = np.dot(r, w) #retorno do portfólio"
   ]
  },
  {
   "cell_type": "markdown",
   "id": "surprising-fellow",
   "metadata": {},
   "source": [
    "### Risco"
   ]
  },
  {
   "cell_type": "code",
   "execution_count": 16,
   "id": "coupled-angola",
   "metadata": {},
   "outputs": [],
   "source": [
    "vol = df.std()"
   ]
  },
  {
   "cell_type": "code",
   "execution_count": 17,
   "id": "documentary-programmer",
   "metadata": {},
   "outputs": [],
   "source": [
    "\n",
    "# retorno simples \n",
    "r = df.pct_change()\n",
    "\n",
    "# média dos retornos anualizados \n",
    "mean_returns = r.mean() * 252\n",
    "\n",
    "# matriz de covariância \n",
    "covariance = np.cov(r[1:].T)"
   ]
  },
  {
   "cell_type": "code",
   "execution_count": 18,
   "id": "checked-retrieval",
   "metadata": {},
   "outputs": [],
   "source": [
    "w = pd.DataFrame(w)"
   ]
  },
  {
   "cell_type": "code",
   "execution_count": 19,
   "id": "chief-president",
   "metadata": {},
   "outputs": [],
   "source": [
    "# Risco do portfólio anualizado\n",
    "vol = np.sqrt(np.dot(w.T, np.dot(covariance, w))) * np.sqrt(252)"
   ]
  },
  {
   "cell_type": "markdown",
   "id": "super-jungle",
   "metadata": {},
   "source": [
    "### Simulando Portfólios"
   ]
  },
  {
   "cell_type": "code",
   "execution_count": 20,
   "id": "advance-primary",
   "metadata": {},
   "outputs": [],
   "source": [
    "def generate_wallets(df_close, num_portfolios = 10000, risk_free = 0):\n",
    "    # vetores de dados\n",
    "    portfolio_weights = []\n",
    "    portfolio_exp_returns = []\n",
    "    portfolio_vol = []\n",
    "    portfolio_sharpe = []\n",
    "\n",
    "    # retorno simples \n",
    "    r = df.pct_change()\n",
    "    mean_returns = r.mean() * 252\n",
    "\n",
    "    # matriz de covariância \n",
    "    covariance = np.cov(r[1:].T)\n",
    "\n",
    "    for i in range(num_portfolios):\n",
    "        # gerando pesos aleatórios\n",
    "        k = np.random.rand(len(df.columns))\n",
    "        w = k / sum (k)\n",
    "\n",
    "        # retorno\n",
    "        R = np.dot(mean_returns, w)\n",
    "\n",
    "        # risco\n",
    "        vol = np.sqrt(np.dot(w.T, np.dot(covariance, w))) * np.sqrt(252)\n",
    "\n",
    "        # sharpe ratio\n",
    "        sharpe = (R - risk_free)/vol\n",
    "\n",
    "        portfolio_weights.append(w)\n",
    "        portfolio_exp_returns.append(R)\n",
    "        portfolio_vol.append(vol)\n",
    "        portfolio_sharpe.append(sharpe)\n",
    "\n",
    "    wallets = {'weights': portfolio_weights,\n",
    "              'returns': portfolio_exp_returns,\n",
    "              'vol':portfolio_vol,\n",
    "              'sharpe': portfolio_sharpe}\n",
    "\n",
    "    return wallets"
   ]
  },
  {
   "cell_type": "code",
   "execution_count": 21,
   "id": "remarkable-infrastructure",
   "metadata": {},
   "outputs": [],
   "source": [
    "def best_portfolio(wallets):\n",
    "    sharpe = wallets['sharpe']\n",
    "    weights = wallets['weights']\n",
    "    \n",
    "    indice = np.array(sharpe).argmax()\n",
    "        \n",
    "    return weights[indice]"
   ]
  },
  {
   "cell_type": "code",
   "execution_count": 22,
   "id": "assured-anime",
   "metadata": {},
   "outputs": [],
   "source": [
    "wallets = generate_wallets(df)"
   ]
  },
  {
   "cell_type": "code",
   "execution_count": 23,
   "id": "offensive-aerospace",
   "metadata": {},
   "outputs": [
    {
     "data": {
      "text/plain": [
       "array([0.89818071, 0.00492451, 0.01586181, 0.08103297])"
      ]
     },
     "execution_count": 23,
     "metadata": {},
     "output_type": "execute_result"
    }
   ],
   "source": [
    "best_portfolio(wallets)"
   ]
  },
  {
   "cell_type": "markdown",
   "id": "german-prototype",
   "metadata": {},
   "source": [
    "### A Fronteira Eficiente"
   ]
  },
  {
   "cell_type": "code",
   "execution_count": 24,
   "id": "wrong-evening",
   "metadata": {},
   "outputs": [],
   "source": [
    "def plot_efficient_frontier(wallets):\n",
    "    vol = wallets['vol']\n",
    "    returns = wallets['returns']\n",
    "    sharpe = wallets['sharpe']\n",
    "\n",
    "    indice = np.array(sharpe).argmax()\n",
    "    y_axis = returns[indice]\n",
    "    X_axis = vol[indice]\n",
    "\n",
    "    plt.scatter(vol, returns, c = sharpe, cmap = 'viridis')\n",
    "    plt.scatter(X_axis, y_axis, c = 'red', s = 50)\n",
    "    plt.title(\"Efficient Frontier\")\n",
    "    plt.xlabel(\"Volatility\")\n",
    "    plt.ylabel(\"Expected return\")\n",
    "    plt.show()"
   ]
  },
  {
   "cell_type": "markdown",
   "id": "executive-pursuit",
   "metadata": {},
   "source": [
    "### A Fronteira Eficiente"
   ]
  },
  {
   "cell_type": "code",
   "execution_count": 25,
   "id": "traditional-transmission",
   "metadata": {},
   "outputs": [
    {
     "data": {
      "image/png": "[encoded data removed]",
      "text/plain": [
       "<Figure size 432x288 with 1 Axes>"
      ]
     },
     "metadata": {
      "needs_background": "light"
     },
     "output_type": "display_data"
    }
   ],
   "source": [
    "plot_efficient_frontier(wallets)"
   ]
  },
  {
   "cell_type": "markdown",
   "id": "sunset-steal",
   "metadata": {},
   "source": [
    "### O que é um bom portfólio?"
   ]
  },
  {
   "cell_type": "code",
   "execution_count": 26,
   "id": "promising-comparative",
   "metadata": {},
   "outputs": [],
   "source": [
    "def best_portfolio(wallets, method = 'sharpe_ratio'):\n",
    "    vol = wallets['vol']\n",
    "    sharpe = wallets['sharpe']\n",
    "    weights = wallets['weights']\n",
    "    returns = wallets['returns']\n",
    "    \n",
    "    if method == 'sharpe_ratio':\n",
    "\n",
    "        indice = np.array(sharpe).argmax()\n",
    "\n",
    "    elif method == 'volatility':\n",
    "\n",
    "        indice = np.array(vol).argmin()\n",
    "\n",
    "    elif method == 'return':\n",
    "\n",
    "        indice = np.array(returns).argmax()\n",
    "\n",
    "    return weights[indice]"
   ]
  },
  {
   "cell_type": "code",
   "execution_count": null,
   "id": "binding-fortune",
   "metadata": {},
   "outputs": [],
   "source": []
  },
  {
   "cell_type": "code",
   "execution_count": 27,
   "id": "floral-album",
   "metadata": {},
   "outputs": [],
   "source": [
    "def plot_efficient_frontier(wallets, method = 'sharpe_ratio'):\n",
    "    vol = wallets['vol']\n",
    "    returns = wallets['returns']\n",
    "    sharpe = wallets['sharpe']\n",
    "\n",
    "    if method == 'sharpe_ratio':\n",
    "\n",
    "        indice = np.array(sharpe).argmax()\n",
    "        y_axis = returns[indice]\n",
    "        X_axis = vol[indice]\n",
    "\n",
    "    elif method == 'volatility':\n",
    "\n",
    "        indice = np.array(vol).argmin()\n",
    "        y_axis = returns[indice]\n",
    "        X_axis = vol[indice]\n",
    "\n",
    "    elif method == 'return': \n",
    "\n",
    "        indice = np.array(returns).argmax()\n",
    "        y_axis = returns[indice]\n",
    "        X_axis = vol[indice]\n",
    "\n",
    "    plt.scatter(vol, returns, c = sharpe, cmap = 'viridis')\n",
    "    plt.scatter(X_axis, y_axis, c = 'red', s = 50)\n",
    "    plt.title(\"Efficient Frontier\")\n",
    "    plt.xlabel(\"Volatility\")\n",
    "    plt.ylabel(\"Expected return\")\n",
    "    plt.show()"
   ]
  },
  {
   "cell_type": "code",
   "execution_count": 28,
   "id": "incredible-hospital",
   "metadata": {},
   "outputs": [],
   "source": [
    "wallets = generate_wallets(df)"
   ]
  },
  {
   "cell_type": "code",
   "execution_count": 29,
   "id": "ordered-disposal",
   "metadata": {},
   "outputs": [
    {
     "data": {
      "text/plain": [
       "array([0.02868404, 0.02813327, 0.92959414, 0.01358855])"
      ]
     },
     "execution_count": 29,
     "metadata": {},
     "output_type": "execute_result"
    }
   ],
   "source": [
    "best_portfolio(wallets, method = 'volatility')"
   ]
  },
  {
   "cell_type": "code",
   "execution_count": 30,
   "id": "double-sender",
   "metadata": {},
   "outputs": [
    {
     "data": {
      "image/png": "[encoded data removed]",
      "text/plain": [
       "<Figure size 432x288 with 1 Axes>"
      ]
     },
     "metadata": {
      "needs_background": "light"
     },
     "output_type": "display_data"
    }
   ],
   "source": [
    "plot_efficient_frontier(wallets, method = 'volatility')"
   ]
  },
  {
   "cell_type": "code",
   "execution_count": 31,
   "id": "threatened-armstrong",
   "metadata": {},
   "outputs": [
    {
     "data": {
      "text/plain": [
       "array([0.92552723, 0.00990354, 0.0034831 , 0.06108612])"
      ]
     },
     "execution_count": 31,
     "metadata": {},
     "output_type": "execute_result"
    }
   ],
   "source": [
    "best_portfolio(wallets, method = 'return')"
   ]
  },
  {
   "cell_type": "code",
   "execution_count": 32,
   "id": "fantastic-teddy",
   "metadata": {},
   "outputs": [
    {
     "data": {
      "image/png": "[encoded data removed]",
      "text/plain": [
       "<Figure size 432x288 with 1 Axes>"
      ]
     },
     "metadata": {
      "needs_background": "light"
     },
     "output_type": "display_data"
    }
   ],
   "source": [
    "plot_efficient_frontier(wallets, method = 'return')"
   ]
  },
  {
   "cell_type": "code",
   "execution_count": null,
   "id": "searching-suspect",
   "metadata": {},
   "outputs": [],
   "source": []
  }
 ],
 "metadata": {
  "kernelspec": {
   "display_name": "Python 3",
   "language": "python",
   "name": "python3"
  },
  "language_info": {
   "codemirror_mode": {
    "name": "ipython",
    "version": 3
   },
   "file_extension": ".py",
   "mimetype": "text/x-python",
   "name": "python",
   "nbconvert_exporter": "python",
   "pygments_lexer": "ipython3",
   "version": "3.8.8"
  }
 },
 "nbformat": 4,
 "nbformat_minor": 5
}
