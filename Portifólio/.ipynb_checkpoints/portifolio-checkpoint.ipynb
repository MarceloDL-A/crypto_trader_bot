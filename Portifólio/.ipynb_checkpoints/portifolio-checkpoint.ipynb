{
 "cells": [
  {
   "cell_type": "markdown",
   "id": "retained-darkness",
   "metadata": {},
   "source": [
    "[Portfólio][1]\n",
    "\n",
    "[1]: <https://medium.com/turing-talks/teoria-moderna-do-portf%C3%B3lio-em-python-e8bad41ebb8b>"
   ]
  },
  {
   "cell_type": "raw",
   "id": "shared-lambda",
   "metadata": {},
   "source": [
    "!pip install pandas_datareader"
   ]
  },
  {
   "cell_type": "code",
   "execution_count": 11,
   "id": "colonial-grove",
   "metadata": {},
   "outputs": [],
   "source": [
    "# Importando as bibliotecas \n",
    "import pandas as pd \n",
    "import numpy as np\n",
    "import matplotlib.pyplot as plt\n",
    "from pandas_datareader import data"
   ]
  },
  {
   "cell_type": "code",
   "execution_count": 12,
   "id": "forward-consolidation",
   "metadata": {},
   "outputs": [],
   "source": [
    "df_ETHUSDT = pd.read_csv(\"Binance_XMRUSDT_d.csv\")"
   ]
  },
  {
   "cell_type": "code",
   "execution_count": 13,
   "id": "ready-professor",
   "metadata": {},
   "outputs": [],
   "source": [
    "columnsETHUSDT = list(df_ETHUSDT.index[0])"
   ]
  },
  {
   "cell_type": "code",
   "execution_count": 14,
   "id": "circular-calendar",
   "metadata": {},
   "outputs": [],
   "source": [
    "dfETHUSDT = pd.read_csv(\"Binance_XMRUSDT_d.csv\", names=columnsETHUSDT)"
   ]
  },
  {
   "cell_type": "code",
   "execution_count": 16,
   "id": "canadian-romania",
   "metadata": {},
   "outputs": [
    {
     "data": {
      "text/html": [
       "<div>\n",
       "<style scoped>\n",
       "    .dataframe tbody tr th:only-of-type {\n",
       "        vertical-align: middle;\n",
       "    }\n",
       "\n",
       "    .dataframe tbody tr th {\n",
       "        vertical-align: top;\n",
       "    }\n",
       "\n",
       "    .dataframe thead th {\n",
       "        text-align: right;\n",
       "    }\n",
       "</style>\n",
       "<table border=\"1\" class=\"dataframe\">\n",
       "  <thead>\n",
       "    <tr style=\"text-align: right;\">\n",
       "      <th></th>\n",
       "      <th>date</th>\n",
       "      <th>close</th>\n",
       "    </tr>\n",
       "  </thead>\n",
       "  <tbody>\n",
       "    <tr>\n",
       "      <th>0</th>\n",
       "      <td>NaN</td>\n",
       "      <td>NaN</td>\n",
       "    </tr>\n",
       "    <tr>\n",
       "      <th>1</th>\n",
       "      <td>date</td>\n",
       "      <td>close</td>\n",
       "    </tr>\n",
       "    <tr>\n",
       "      <th>2</th>\n",
       "      <td>2021-04-18 00:00:00</td>\n",
       "      <td>368.92000000</td>\n",
       "    </tr>\n",
       "    <tr>\n",
       "      <th>3</th>\n",
       "      <td>2021-04-17 00:00:00</td>\n",
       "      <td>363.77000000</td>\n",
       "    </tr>\n",
       "    <tr>\n",
       "      <th>4</th>\n",
       "      <td>2021-04-16 00:00:00</td>\n",
       "      <td>340.66000000</td>\n",
       "    </tr>\n",
       "  </tbody>\n",
       "</table>\n",
       "</div>"
      ],
      "text/plain": [
       "                  date         close\n",
       "0                  NaN           NaN\n",
       "1                 date         close\n",
       "2  2021-04-18 00:00:00  368.92000000\n",
       "3  2021-04-17 00:00:00  363.77000000\n",
       "4  2021-04-16 00:00:00  340.66000000"
      ]
     },
     "execution_count": 16,
     "metadata": {},
     "output_type": "execute_result"
    }
   ],
   "source": [
    "dfETHUSDT = dfETHUSDT[['date', 'close']]\n",
    "dfETHUSDT.head()"
   ]
  },
  {
   "cell_type": "code",
   "execution_count": 6,
   "id": "contrary-engineer",
   "metadata": {},
   "outputs": [
    {
     "data": {
      "text/plain": [
       "'close'"
      ]
     },
     "execution_count": 6,
     "metadata": {},
     "output_type": "execute_result"
    }
   ],
   "source": [
    "df_ETHUSDT.index[0][6]"
   ]
  },
  {
   "cell_type": "code",
   "execution_count": 7,
   "id": "framed-consultation",
   "metadata": {},
   "outputs": [
    {
     "ename": "KeyError",
     "evalue": "('date', 'close')",
     "output_type": "error",
     "traceback": [
      "\u001b[1;31m---------------------------------------------------------------------------\u001b[0m",
      "\u001b[1;31mKeyError\u001b[0m                                  Traceback (most recent call last)",
      "\u001b[1;32m~\\AppData\\Roaming\\Python\\Python38\\site-packages\\pandas\\core\\indexes\\base.py\u001b[0m in \u001b[0;36mget_loc\u001b[1;34m(self, key, method, tolerance)\u001b[0m\n\u001b[0;32m   2897\u001b[0m             \u001b[1;32mtry\u001b[0m\u001b[1;33m:\u001b[0m\u001b[1;33m\u001b[0m\u001b[1;33m\u001b[0m\u001b[0m\n\u001b[1;32m-> 2898\u001b[1;33m                 \u001b[1;32mreturn\u001b[0m \u001b[0mself\u001b[0m\u001b[1;33m.\u001b[0m\u001b[0m_engine\u001b[0m\u001b[1;33m.\u001b[0m\u001b[0mget_loc\u001b[0m\u001b[1;33m(\u001b[0m\u001b[0mcasted_key\u001b[0m\u001b[1;33m)\u001b[0m\u001b[1;33m\u001b[0m\u001b[1;33m\u001b[0m\u001b[0m\n\u001b[0m\u001b[0;32m   2899\u001b[0m             \u001b[1;32mexcept\u001b[0m \u001b[0mKeyError\u001b[0m \u001b[1;32mas\u001b[0m \u001b[0merr\u001b[0m\u001b[1;33m:\u001b[0m\u001b[1;33m\u001b[0m\u001b[1;33m\u001b[0m\u001b[0m\n",
      "\u001b[1;32mpandas\\_libs\\index.pyx\u001b[0m in \u001b[0;36mpandas._libs.index.IndexEngine.get_loc\u001b[1;34m()\u001b[0m\n",
      "\u001b[1;32mpandas\\_libs\\index.pyx\u001b[0m in \u001b[0;36mpandas._libs.index.IndexEngine.get_loc\u001b[1;34m()\u001b[0m\n",
      "\u001b[1;32mpandas\\_libs\\hashtable_class_helper.pxi\u001b[0m in \u001b[0;36mpandas._libs.hashtable.PyObjectHashTable.get_item\u001b[1;34m()\u001b[0m\n",
      "\u001b[1;32mpandas\\_libs\\hashtable_class_helper.pxi\u001b[0m in \u001b[0;36mpandas._libs.hashtable.PyObjectHashTable.get_item\u001b[1;34m()\u001b[0m\n",
      "\u001b[1;31mKeyError\u001b[0m: ('date', 'close')",
      "\nThe above exception was the direct cause of the following exception:\n",
      "\u001b[1;31mKeyError\u001b[0m                                  Traceback (most recent call last)",
      "\u001b[1;32m<ipython-input-7-0051a19375e2>\u001b[0m in \u001b[0;36m<module>\u001b[1;34m\u001b[0m\n\u001b[1;32m----> 1\u001b[1;33m \u001b[0mETHUSDT\u001b[0m \u001b[1;33m=\u001b[0m \u001b[0mdf_ETHUSDT\u001b[0m\u001b[1;33m[\u001b[0m\u001b[0mdf_ETHUSDT\u001b[0m\u001b[1;33m[\u001b[0m\u001b[1;34m\"date\"\u001b[0m\u001b[1;33m,\u001b[0m \u001b[1;34m\"close\"\u001b[0m\u001b[1;33m]\u001b[0m\u001b[1;33m]\u001b[0m\u001b[1;33m\u001b[0m\u001b[1;33m\u001b[0m\u001b[0m\n\u001b[0m",
      "\u001b[1;32m~\\AppData\\Roaming\\Python\\Python38\\site-packages\\pandas\\core\\frame.py\u001b[0m in \u001b[0;36m__getitem__\u001b[1;34m(self, key)\u001b[0m\n\u001b[0;32m   2904\u001b[0m             \u001b[1;32mif\u001b[0m \u001b[0mself\u001b[0m\u001b[1;33m.\u001b[0m\u001b[0mcolumns\u001b[0m\u001b[1;33m.\u001b[0m\u001b[0mnlevels\u001b[0m \u001b[1;33m>\u001b[0m \u001b[1;36m1\u001b[0m\u001b[1;33m:\u001b[0m\u001b[1;33m\u001b[0m\u001b[1;33m\u001b[0m\u001b[0m\n\u001b[0;32m   2905\u001b[0m                 \u001b[1;32mreturn\u001b[0m \u001b[0mself\u001b[0m\u001b[1;33m.\u001b[0m\u001b[0m_getitem_multilevel\u001b[0m\u001b[1;33m(\u001b[0m\u001b[0mkey\u001b[0m\u001b[1;33m)\u001b[0m\u001b[1;33m\u001b[0m\u001b[1;33m\u001b[0m\u001b[0m\n\u001b[1;32m-> 2906\u001b[1;33m             \u001b[0mindexer\u001b[0m \u001b[1;33m=\u001b[0m \u001b[0mself\u001b[0m\u001b[1;33m.\u001b[0m\u001b[0mcolumns\u001b[0m\u001b[1;33m.\u001b[0m\u001b[0mget_loc\u001b[0m\u001b[1;33m(\u001b[0m\u001b[0mkey\u001b[0m\u001b[1;33m)\u001b[0m\u001b[1;33m\u001b[0m\u001b[1;33m\u001b[0m\u001b[0m\n\u001b[0m\u001b[0;32m   2907\u001b[0m             \u001b[1;32mif\u001b[0m \u001b[0mis_integer\u001b[0m\u001b[1;33m(\u001b[0m\u001b[0mindexer\u001b[0m\u001b[1;33m)\u001b[0m\u001b[1;33m:\u001b[0m\u001b[1;33m\u001b[0m\u001b[1;33m\u001b[0m\u001b[0m\n\u001b[0;32m   2908\u001b[0m                 \u001b[0mindexer\u001b[0m \u001b[1;33m=\u001b[0m \u001b[1;33m[\u001b[0m\u001b[0mindexer\u001b[0m\u001b[1;33m]\u001b[0m\u001b[1;33m\u001b[0m\u001b[1;33m\u001b[0m\u001b[0m\n",
      "\u001b[1;32m~\\AppData\\Roaming\\Python\\Python38\\site-packages\\pandas\\core\\indexes\\base.py\u001b[0m in \u001b[0;36mget_loc\u001b[1;34m(self, key, method, tolerance)\u001b[0m\n\u001b[0;32m   2898\u001b[0m                 \u001b[1;32mreturn\u001b[0m \u001b[0mself\u001b[0m\u001b[1;33m.\u001b[0m\u001b[0m_engine\u001b[0m\u001b[1;33m.\u001b[0m\u001b[0mget_loc\u001b[0m\u001b[1;33m(\u001b[0m\u001b[0mcasted_key\u001b[0m\u001b[1;33m)\u001b[0m\u001b[1;33m\u001b[0m\u001b[1;33m\u001b[0m\u001b[0m\n\u001b[0;32m   2899\u001b[0m             \u001b[1;32mexcept\u001b[0m \u001b[0mKeyError\u001b[0m \u001b[1;32mas\u001b[0m \u001b[0merr\u001b[0m\u001b[1;33m:\u001b[0m\u001b[1;33m\u001b[0m\u001b[1;33m\u001b[0m\u001b[0m\n\u001b[1;32m-> 2900\u001b[1;33m                 \u001b[1;32mraise\u001b[0m \u001b[0mKeyError\u001b[0m\u001b[1;33m(\u001b[0m\u001b[0mkey\u001b[0m\u001b[1;33m)\u001b[0m \u001b[1;32mfrom\u001b[0m \u001b[0merr\u001b[0m\u001b[1;33m\u001b[0m\u001b[1;33m\u001b[0m\u001b[0m\n\u001b[0m\u001b[0;32m   2901\u001b[0m \u001b[1;33m\u001b[0m\u001b[0m\n\u001b[0;32m   2902\u001b[0m         \u001b[1;32mif\u001b[0m \u001b[0mtolerance\u001b[0m \u001b[1;32mis\u001b[0m \u001b[1;32mnot\u001b[0m \u001b[1;32mNone\u001b[0m\u001b[1;33m:\u001b[0m\u001b[1;33m\u001b[0m\u001b[1;33m\u001b[0m\u001b[0m\n",
      "\u001b[1;31mKeyError\u001b[0m: ('date', 'close')"
     ]
    }
   ],
   "source": [
    "ETHUSDT = df_ETHUSDT[df_ETHUSDT[\"date\", \"close\"]]"
   ]
  },
  {
   "cell_type": "code",
   "execution_count": null,
   "id": "contrary-parent",
   "metadata": {},
   "outputs": [],
   "source": [
    "ETHUSDT"
   ]
  },
  {
   "cell_type": "code",
   "execution_count": null,
   "id": "beautiful-timber",
   "metadata": {},
   "outputs": [],
   "source": [
    "# Montando o nossa carteira com preços de fechamento da Amazon, Google, Microsoft e Netflix\n",
    "df = pd.DataFrame()\n",
    "df['AMZN'] = data.DataReader('AMZN', data_source='yahoo', start='1-1-2010')['Close']\n",
    "df['GOOG'] = data.DataReader('GOOG', data_source='yahoo', start='1-1-2010')['Close']\n",
    "df['MSFT'] = data.DataReader('MSFT', data_source='yahoo', start='1-1-2010')['Close']\n",
    "df['NFLX'] = data.DataReader('NFLX', data_source='yahoo', start='1-1-2010')['Close']\n",
    "\n",
    "df.head()"
   ]
  },
  {
   "cell_type": "markdown",
   "id": "immediate-ability",
   "metadata": {},
   "source": [
    "### Retorno"
   ]
  },
  {
   "cell_type": "code",
   "execution_count": null,
   "id": "logical-bangladesh",
   "metadata": {},
   "outputs": [],
   "source": [
    "# Retorno simples dos ativos\n",
    "df.pct_change().head()"
   ]
  },
  {
   "cell_type": "code",
   "execution_count": null,
   "id": "hidden-credit",
   "metadata": {},
   "outputs": [],
   "source": [
    "r = df.pct_change() #retornos do ativo\n",
    "w = [0.3, 0.3, 0.2, 0.2] #pesos\n",
    "R = np.dot(r, w) #retorno do portfólio"
   ]
  },
  {
   "cell_type": "markdown",
   "id": "necessary-integrity",
   "metadata": {},
   "source": [
    "### Risco"
   ]
  },
  {
   "cell_type": "code",
   "execution_count": null,
   "id": "thrown-rotation",
   "metadata": {},
   "outputs": [],
   "source": [
    "vol = df.std()"
   ]
  },
  {
   "cell_type": "code",
   "execution_count": null,
   "id": "mechanical-theta",
   "metadata": {},
   "outputs": [],
   "source": [
    "\n",
    "# retorno simples \n",
    "r = df.pct_change()\n",
    "\n",
    "# média dos retornos anualizados \n",
    "mean_returns = r.mean() * 252\n",
    "\n",
    "# matriz de covariância \n",
    "covariance = np.cov(r[1:].T)"
   ]
  },
  {
   "cell_type": "code",
   "execution_count": null,
   "id": "million-fetish",
   "metadata": {},
   "outputs": [],
   "source": [
    "w = pd.DataFrame(w)"
   ]
  },
  {
   "cell_type": "code",
   "execution_count": null,
   "id": "sacred-humidity",
   "metadata": {},
   "outputs": [],
   "source": [
    "# Risco do portfólio anualizado\n",
    "vol = np.sqrt(np.dot(w.T, np.dot(covariance, w))) * np.sqrt(252)"
   ]
  },
  {
   "cell_type": "markdown",
   "id": "introductory-purpose",
   "metadata": {},
   "source": [
    "### Simulando Portfólios"
   ]
  },
  {
   "cell_type": "code",
   "execution_count": null,
   "id": "inner-deposit",
   "metadata": {},
   "outputs": [],
   "source": [
    "def generate_wallets(df_close, num_portfolios = 10000, risk_free = 0):\n",
    "    # vetores de dados\n",
    "    portfolio_weights = []\n",
    "    portfolio_exp_returns = []\n",
    "    portfolio_vol = []\n",
    "    portfolio_sharpe = []\n",
    "\n",
    "    # retorno simples \n",
    "    r = df.pct_change()\n",
    "    mean_returns = r.mean() * 252\n",
    "\n",
    "    # matriz de covariância \n",
    "    covariance = np.cov(r[1:].T)\n",
    "\n",
    "    for i in range(num_portfolios):\n",
    "        # gerando pesos aleatórios\n",
    "        k = np.random.rand(len(df.columns))\n",
    "        w = k / sum (k)\n",
    "\n",
    "        # retorno\n",
    "        R = np.dot(mean_returns, w)\n",
    "\n",
    "        # risco\n",
    "        vol = np.sqrt(np.dot(w.T, np.dot(covariance, w))) * np.sqrt(252)\n",
    "\n",
    "        # sharpe ratio\n",
    "        sharpe = (R - risk_free)/vol\n",
    "\n",
    "        portfolio_weights.append(w)\n",
    "        portfolio_exp_returns.append(R)\n",
    "        portfolio_vol.append(vol)\n",
    "        portfolio_sharpe.append(sharpe)\n",
    "\n",
    "    wallets = {'weights': portfolio_weights,\n",
    "              'returns': portfolio_exp_returns,\n",
    "              'vol':portfolio_vol,\n",
    "              'sharpe': portfolio_sharpe}\n",
    "\n",
    "    return wallets"
   ]
  },
  {
   "cell_type": "code",
   "execution_count": null,
   "id": "offensive-effects",
   "metadata": {},
   "outputs": [],
   "source": [
    "def best_portfolio(wallets):\n",
    "    sharpe = wallets['sharpe']\n",
    "    weights = wallets['weights']\n",
    "    \n",
    "    indice = np.array(sharpe).argmax()\n",
    "        \n",
    "    return weights[indice]"
   ]
  },
  {
   "cell_type": "code",
   "execution_count": null,
   "id": "secret-advertising",
   "metadata": {},
   "outputs": [],
   "source": [
    "wallets = generate_wallets(df)"
   ]
  },
  {
   "cell_type": "code",
   "execution_count": null,
   "id": "sitting-traveler",
   "metadata": {},
   "outputs": [],
   "source": [
    "best_portfolio(wallets)"
   ]
  },
  {
   "cell_type": "markdown",
   "id": "behavioral-queens",
   "metadata": {},
   "source": [
    "### A Fronteira Eficiente"
   ]
  },
  {
   "cell_type": "code",
   "execution_count": null,
   "id": "paperback-browse",
   "metadata": {},
   "outputs": [],
   "source": [
    "def plot_efficient_frontier(wallets):\n",
    "    vol = wallets['vol']\n",
    "    returns = wallets['returns']\n",
    "    sharpe = wallets['sharpe']\n",
    "\n",
    "    indice = np.array(sharpe).argmax()\n",
    "    y_axis = returns[indice]\n",
    "    X_axis = vol[indice]\n",
    "\n",
    "    plt.scatter(vol, returns, c = sharpe, cmap = 'viridis')\n",
    "    plt.scatter(X_axis, y_axis, c = 'red', s = 50)\n",
    "    plt.title(\"Efficient Frontier\")\n",
    "    plt.xlabel(\"Volatility\")\n",
    "    plt.ylabel(\"Expected return\")\n",
    "    plt.show()"
   ]
  },
  {
   "cell_type": "markdown",
   "id": "natural-florence",
   "metadata": {},
   "source": [
    "### A Fronteira Eficiente"
   ]
  },
  {
   "cell_type": "code",
   "execution_count": null,
   "id": "nominated-eugene",
   "metadata": {},
   "outputs": [],
   "source": [
    "plot_efficient_frontier(wallets)"
   ]
  },
  {
   "cell_type": "markdown",
   "id": "contemporary-smart",
   "metadata": {},
   "source": [
    "### O que é um bom portfólio?"
   ]
  },
  {
   "cell_type": "code",
   "execution_count": null,
   "id": "convertible-december",
   "metadata": {},
   "outputs": [],
   "source": [
    "def best_portfolio(wallets, method = 'sharpe_ratio'):\n",
    "    vol = wallets['vol']\n",
    "    sharpe = wallets['sharpe']\n",
    "    weights = wallets['weights']\n",
    "    returns = wallets['returns']\n",
    "    \n",
    "    if method == 'sharpe_ratio':\n",
    "\n",
    "        indice = np.array(sharpe).argmax()\n",
    "\n",
    "    elif method == 'volatility':\n",
    "\n",
    "        indice = np.array(vol).argmin()\n",
    "\n",
    "    elif method == 'return':\n",
    "\n",
    "        indice = np.array(returns).argmax()\n",
    "\n",
    "    return weights[indice]"
   ]
  },
  {
   "cell_type": "code",
   "execution_count": null,
   "id": "vocational-album",
   "metadata": {},
   "outputs": [],
   "source": []
  },
  {
   "cell_type": "code",
   "execution_count": null,
   "id": "confidential-amateur",
   "metadata": {},
   "outputs": [],
   "source": [
    "def plot_efficient_frontier(wallets, method = 'sharpe_ratio'):\n",
    "    vol = wallets['vol']\n",
    "    returns = wallets['returns']\n",
    "    sharpe = wallets['sharpe']\n",
    "\n",
    "    if method == 'sharpe_ratio':\n",
    "\n",
    "        indice = np.array(sharpe).argmax()\n",
    "        y_axis = returns[indice]\n",
    "        X_axis = vol[indice]\n",
    "\n",
    "    elif method == 'volatility':\n",
    "\n",
    "        indice = np.array(vol).argmin()\n",
    "        y_axis = returns[indice]\n",
    "        X_axis = vol[indice]\n",
    "\n",
    "    elif method == 'return': \n",
    "\n",
    "        indice = np.array(returns).argmax()\n",
    "        y_axis = returns[indice]\n",
    "        X_axis = vol[indice]\n",
    "\n",
    "    plt.scatter(vol, returns, c = sharpe, cmap = 'viridis')\n",
    "    plt.scatter(X_axis, y_axis, c = 'red', s = 50)\n",
    "    plt.title(\"Efficient Frontier\")\n",
    "    plt.xlabel(\"Volatility\")\n",
    "    plt.ylabel(\"Expected return\")\n",
    "    plt.show()"
   ]
  },
  {
   "cell_type": "code",
   "execution_count": null,
   "id": "marked-aircraft",
   "metadata": {},
   "outputs": [],
   "source": [
    "wallets = generate_wallets(df)"
   ]
  },
  {
   "cell_type": "code",
   "execution_count": null,
   "id": "responsible-cooper",
   "metadata": {},
   "outputs": [],
   "source": [
    "best_portfolio(wallets, method = 'volatility')"
   ]
  },
  {
   "cell_type": "code",
   "execution_count": null,
   "id": "pending-devil",
   "metadata": {},
   "outputs": [],
   "source": [
    "plot_efficient_frontier(wallets, method = 'volatility')"
   ]
  },
  {
   "cell_type": "code",
   "execution_count": null,
   "id": "secondary-tackle",
   "metadata": {},
   "outputs": [],
   "source": [
    "best_portfolio(wallets, method = 'return')"
   ]
  },
  {
   "cell_type": "code",
   "execution_count": null,
   "id": "wrapped-helen",
   "metadata": {},
   "outputs": [],
   "source": [
    "plot_efficient_frontier(wallets, method = 'return')"
   ]
  }
 ],
 "metadata": {
  "kernelspec": {
   "display_name": "Python 3",
   "language": "python",
   "name": "python3"
  },
  "language_info": {
   "codemirror_mode": {
    "name": "ipython",
    "version": 3
   },
   "file_extension": ".py",
   "mimetype": "text/x-python",
   "name": "python",
   "nbconvert_exporter": "python",
   "pygments_lexer": "ipython3",
   "version": "3.8.8"
  }
 },
 "nbformat": 4,
 "nbformat_minor": 5
}
