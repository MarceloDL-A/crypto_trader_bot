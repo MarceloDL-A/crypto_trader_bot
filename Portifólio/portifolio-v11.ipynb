{
 "cells": [
  {
   "cell_type": "markdown",
   "id": "burning-diamond",
   "metadata": {},
   "source": [
    "[Base de dados][1]\n",
    "\n",
    "[1]: <https://www.cryptodatadownload.com/data/binance/>"
   ]
  },
  {
   "cell_type": "markdown",
   "id": "technological-present",
   "metadata": {},
   "source": [
    "<div style=\"text-align: justify\"> \n",
    "<strong>Potifólio</strong> (ou carteira de investimento), no mundo do mercado financeiro, é o conjunto de investimentos em que é alocado um montante (ou ativos) do capital do investidor de modo que a cada investimento é alocada uma fração desse montante, de acordo com preferências e estratégias do investidor.\n",
    "Quando falamos sobre \"Otimização de Portifólios\", estamos em busca de estratégias para selecionarmos a melhor distribuição dos ativos em uma carteira a fim de atingirmos um objetivo comum. Objetivo esse que pode variar de acordo com o perfil de cada tipo de investidor, pode ser que para um seja preferível maximizar o retorno esperado de seu portfóli,o mesmo com alto risco, enquanto, para outro, o objetivo seria investir em uma carteira com o menor risco possível, por exemplo.\n",
    "A seguir serão discutidos esses conceitos e modos de otimização de portfólios utilizando a chamada <strong>Teoria Moderna do Portfólio</strong>, do laureado <strong>Harry Markowitz</strong> com o prêmio Nobel de Economia. \n",
    "    \n",
    "<h3>1. Introdução</h3>\n",
    "A essência da Teoria Moderna do Portfólio está ligada ao trade off existente entre o <strong>retorno</strong> e <strong>risco</strong>. Segundo Markowitz, os investidores seriam avessos ao risco, e, por isso, só estariam dispostos a aumentar o risco caso isso torne possível alcançar um retorno esperado mais alto.</div>\n",
    "\n",
    "<div>Então a pergunta a ser respondida é: </div>\n",
    "<div>\"Considerando um certo nível de risco, de qual carteira séra obtida o maior retorno?\".\n",
    "Para isso, vamos antes entender melhor como calcular o <strong>retorno</strong> e <strong>risco</strong> de um portfólio.</div>\n",
    "\n"
   ]
  },
  {
   "cell_type": "markdown",
   "id": "loving-verification",
   "metadata": {},
   "source": [
    "<h3>2. Retorno</h3>\n",
    "<div style=\"text-align: justify\"> Para calcularmos os retornos simples dos nossos ativos em python, podemos utilizar a função pct_change() da biblioteca pandas. Aqui, para exemplificar o nosso portfólio, utilizaremos uma carteira composta por pelos seguintes criptoativos:</div>\n",
    "\"ADA\", \"BNB\", \"BTC\", \"BTT\", \"DASH\", \"EOS\", \"ETC\", \"ETH\", \"LINK\", \"LTC\" cotados na base da stablecoin USDT."
   ]
  },
  {
   "cell_type": "raw",
   "id": "330adc8c-b526-4405-9f00-e35e047f710c",
   "metadata": {},
   "source": [
    "!pip install pandas_datareader"
   ]
  },
  {
   "cell_type": "code",
   "execution_count": 1,
   "id": "protecting-hacker",
   "metadata": {},
   "outputs": [],
   "source": [
    "# Importando as bibliotecas \n",
    "import pandas as pd \n",
    "import numpy as np"
   ]
  },
  {
   "cell_type": "code",
   "execution_count": 2,
   "id": "nominated-corps",
   "metadata": {},
   "outputs": [],
   "source": [
    "from matplotlib import interactive"
   ]
  },
  {
   "cell_type": "code",
   "execution_count": 3,
   "id": "valued-structure",
   "metadata": {},
   "outputs": [],
   "source": [
    "import matplotlib.pyplot as plt"
   ]
  },
  {
   "cell_type": "code",
   "execution_count": 4,
   "id": "small-auditor",
   "metadata": {},
   "outputs": [],
   "source": [
    "from pandas_datareader import data"
   ]
  },
  {
   "cell_type": "markdown",
   "id": "outer-context",
   "metadata": {},
   "source": [
    "<h4>2.1. Montando o nossa carteira com preços de fechamento \"ADA\", \"BNB\", \"BTC\", \"BTT\", \"DASH\", \"EOS\", \"ETC\", \"ETH\", \"LINK\", \"LTC\"</h4>"
   ]
  },
  {
   "cell_type": "markdown",
   "id": "hundred-tender",
   "metadata": {},
   "source": [
    "#### Lista de criptoativo cotados na base da stablecoin [USD Tether (Dólar Tether ou USDT))][1]\n",
    "##### *Por ser uma stablecoin para cada 1 USDT criado, a empresa gestora da Tether USDT precisa ter US$ 1 em suas reservas bancárias, garantindo que há os recursos necessários para os investidores da moeda.\n",
    "[1]: <https://coinext.com.br/o-que-e-tether-usdt>"
   ]
  },
  {
   "cell_type": "code",
   "execution_count": 5,
   "id": "choice-spectrum",
   "metadata": {},
   "outputs": [
    {
     "data": {
      "text/plain": [
       "4"
      ]
     },
     "execution_count": 5,
     "metadata": {},
     "output_type": "execute_result"
    }
   ],
   "source": [
    "cryptos = 4\n",
    "# ls_first_crypto = [\"ADA\", \"BNB\", \"BTC\", \"BTT\", \"DASH\", \"EOS\", \"ETC\", \"ETH\", \"LINK\", \"LTC\"][:cryptos]\n",
    "ls_first_crypto = [\"BNB\", \"BTC\", \"ETH\", \"LTC\"][:cryptos]\n",
    "\n",
    "len(ls_first_crypto)"
   ]
  },
  {
   "cell_type": "markdown",
   "id": "sudden-spider",
   "metadata": {},
   "source": [
    "#### É composto um dataframe **result** com os valores de fechamento de cada criptoativo."
   ]
  },
  {
   "cell_type": "code",
   "execution_count": 6,
   "id": "genuine-karma",
   "metadata": {},
   "outputs": [],
   "source": [
    "frames = []\n",
    "dataframes_names = []\n",
    "for i, first_crypto in enumerate(ls_first_crypto):\n",
    "    second_crypto = \"USDT\"\n",
    "    par = \"\"\"\\\\\n",
    "def f():\n",
    "    df_{0}{1} = pd.read_csv(\"Binance_{0}{1}_d.csv\", low_memory=False)\n",
    "    columns{0}{1} = list(df_{0}{1}.index[0])\n",
    "    df_{0}{1} = pd.read_csv(\"Binance_{0}{1}_d.csv\", names=columns{0}{1}, low_memory=False)\n",
    "    df_{0}{1} = df_{0}{1}[['date', 'close']]\n",
    "    return df_{0}{1}\"\"\".format(first_crypto, second_crypto)\n",
    "    exec(par)\n",
    "    frames += [f()]\n",
    "    dataframes_names += [first_crypto]\n",
    "    if len(frames) > 1:\n",
    "        if len(frames) == 2:\n",
    "            result = pd.merge(frames[0], frames[1], on=\"date\", suffixes=(\"_\" + dataframes_names[0], \"_\" + dataframes_names[1]))\n",
    "        else:\n",
    "            result = pd.merge(result, frames[i], on=\"date\")\n",
    "            result = result.rename(columns = {'close': 'close_' + dataframes_names[i]})"
   ]
  },
  {
   "cell_type": "code",
   "execution_count": 7,
   "id": "exempt-score",
   "metadata": {},
   "outputs": [],
   "source": [
    "df = result\n",
    "df.index = df[\"date\"]\n",
    "df = df.drop(columns = [\"date\"])"
   ]
  },
  {
   "cell_type": "code",
   "execution_count": 8,
   "id": "useful-reducing",
   "metadata": {},
   "outputs": [],
   "source": [
    "df = df[2:].dropna()\n",
    "for column in df.columns:\n",
    "    df[column] = pd.to_numeric(df[column], downcast=\"float\")"
   ]
  },
  {
   "cell_type": "code",
   "execution_count": 9,
   "id": "identical-casting",
   "metadata": {},
   "outputs": [
    {
     "data": {
      "text/html": [
       "<div>\n",
       "<style scoped>\n",
       "    .dataframe tbody tr th:only-of-type {\n",
       "        vertical-align: middle;\n",
       "    }\n",
       "\n",
       "    .dataframe tbody tr th {\n",
       "        vertical-align: top;\n",
       "    }\n",
       "\n",
       "    .dataframe thead th {\n",
       "        text-align: right;\n",
       "    }\n",
       "</style>\n",
       "<table border=\"1\" class=\"dataframe\">\n",
       "  <thead>\n",
       "    <tr style=\"text-align: right;\">\n",
       "      <th></th>\n",
       "      <th>close_BNB</th>\n",
       "      <th>close_BTC</th>\n",
       "      <th>close_ETH</th>\n",
       "      <th>close_LTC</th>\n",
       "    </tr>\n",
       "    <tr>\n",
       "      <th>date</th>\n",
       "      <th></th>\n",
       "      <th></th>\n",
       "      <th></th>\n",
       "      <th></th>\n",
       "    </tr>\n",
       "  </thead>\n",
       "  <tbody>\n",
       "    <tr>\n",
       "      <th>2021-04-18 00:00:00</th>\n",
       "      <td>513.829407</td>\n",
       "      <td>56150.011719</td>\n",
       "      <td>2235.639893</td>\n",
       "      <td>301.339996</td>\n",
       "    </tr>\n",
       "    <tr>\n",
       "      <th>2021-04-17 00:00:00</th>\n",
       "      <td>514.686096</td>\n",
       "      <td>60006.660156</td>\n",
       "      <td>2317.600098</td>\n",
       "      <td>300.859985</td>\n",
       "    </tr>\n",
       "    <tr>\n",
       "      <th>2021-04-16 00:00:00</th>\n",
       "      <td>508.274292</td>\n",
       "      <td>61334.800781</td>\n",
       "      <td>2422.669922</td>\n",
       "      <td>308.429993</td>\n",
       "    </tr>\n",
       "    <tr>\n",
       "      <th>2021-04-15 00:00:00</th>\n",
       "      <td>541.882385</td>\n",
       "      <td>63159.980469</td>\n",
       "      <td>2514.040039</td>\n",
       "      <td>285.630005</td>\n",
       "    </tr>\n",
       "    <tr>\n",
       "      <th>2021-04-14 00:00:00</th>\n",
       "      <td>550.018188</td>\n",
       "      <td>62959.531250</td>\n",
       "      <td>2432.600098</td>\n",
       "      <td>278.859985</td>\n",
       "    </tr>\n",
       "    <tr>\n",
       "      <th>...</th>\n",
       "      <td>...</td>\n",
       "      <td>...</td>\n",
       "      <td>...</td>\n",
       "      <td>...</td>\n",
       "    </tr>\n",
       "    <tr>\n",
       "      <th>2017-12-22 00:00:00</th>\n",
       "      <td>4.291200</td>\n",
       "      <td>13326.610352</td>\n",
       "      <td>635.969971</td>\n",
       "      <td>250.990005</td>\n",
       "    </tr>\n",
       "    <tr>\n",
       "      <th>2017-12-21 00:00:00</th>\n",
       "      <td>5.159600</td>\n",
       "      <td>15492.639648</td>\n",
       "      <td>782.409973</td>\n",
       "      <td>302.000000</td>\n",
       "    </tr>\n",
       "    <tr>\n",
       "      <th>2017-12-20 00:00:00</th>\n",
       "      <td>5.150200</td>\n",
       "      <td>16488.980469</td>\n",
       "      <td>790.210022</td>\n",
       "      <td>302.700012</td>\n",
       "    </tr>\n",
       "    <tr>\n",
       "      <th>2017-12-19 00:00:00</th>\n",
       "      <td>5.699900</td>\n",
       "      <td>17295.199219</td>\n",
       "      <td>798.000000</td>\n",
       "      <td>338.480011</td>\n",
       "    </tr>\n",
       "    <tr>\n",
       "      <th>2017-12-18 00:00:00</th>\n",
       "      <td>6.000000</td>\n",
       "      <td>18856.250000</td>\n",
       "      <td>784.000000</td>\n",
       "      <td>352.000000</td>\n",
       "    </tr>\n",
       "  </tbody>\n",
       "</table>\n",
       "<p>1218 rows × 4 columns</p>\n",
       "</div>"
      ],
      "text/plain": [
       "                      close_BNB     close_BTC    close_ETH   close_LTC\n",
       "date                                                                  \n",
       "2021-04-18 00:00:00  513.829407  56150.011719  2235.639893  301.339996\n",
       "2021-04-17 00:00:00  514.686096  60006.660156  2317.600098  300.859985\n",
       "2021-04-16 00:00:00  508.274292  61334.800781  2422.669922  308.429993\n",
       "2021-04-15 00:00:00  541.882385  63159.980469  2514.040039  285.630005\n",
       "2021-04-14 00:00:00  550.018188  62959.531250  2432.600098  278.859985\n",
       "...                         ...           ...          ...         ...\n",
       "2017-12-22 00:00:00    4.291200  13326.610352   635.969971  250.990005\n",
       "2017-12-21 00:00:00    5.159600  15492.639648   782.409973  302.000000\n",
       "2017-12-20 00:00:00    5.150200  16488.980469   790.210022  302.700012\n",
       "2017-12-19 00:00:00    5.699900  17295.199219   798.000000  338.480011\n",
       "2017-12-18 00:00:00    6.000000  18856.250000   784.000000  352.000000\n",
       "\n",
       "[1218 rows x 4 columns]"
      ]
     },
     "execution_count": 9,
     "metadata": {},
     "output_type": "execute_result"
    }
   ],
   "source": [
    "df"
   ]
  },
  {
   "cell_type": "code",
   "execution_count": 10,
   "id": "labeled-converter",
   "metadata": {},
   "outputs": [
    {
     "name": "stdout",
     "output_type": "stream",
     "text": [
      "<class 'pandas.core.frame.DataFrame'>\n",
      "Index: 1218 entries, 2021-04-18 00:00:00 to 2017-12-18 00:00:00\n",
      "Data columns (total 4 columns):\n",
      " #   Column     Non-Null Count  Dtype  \n",
      "---  ------     --------------  -----  \n",
      " 0   close_BNB  1218 non-null   float32\n",
      " 1   close_BTC  1218 non-null   float32\n",
      " 2   close_ETH  1218 non-null   float32\n",
      " 3   close_LTC  1218 non-null   float32\n",
      "dtypes: float32(4)\n",
      "memory usage: 28.5+ KB\n"
     ]
    }
   ],
   "source": [
    "df.info()"
   ]
  },
  {
   "cell_type": "markdown",
   "id": "noticed-warren",
   "metadata": {},
   "source": [
    "<h4>2.2. Retorno simples dos ativos</h4>"
   ]
  },
  {
   "cell_type": "code",
   "execution_count": 11,
   "id": "underlying-democrat",
   "metadata": {},
   "outputs": [
    {
     "data": {
      "text/html": [
       "<div>\n",
       "<style scoped>\n",
       "    .dataframe tbody tr th:only-of-type {\n",
       "        vertical-align: middle;\n",
       "    }\n",
       "\n",
       "    .dataframe tbody tr th {\n",
       "        vertical-align: top;\n",
       "    }\n",
       "\n",
       "    .dataframe thead th {\n",
       "        text-align: right;\n",
       "    }\n",
       "</style>\n",
       "<table border=\"1\" class=\"dataframe\">\n",
       "  <thead>\n",
       "    <tr style=\"text-align: right;\">\n",
       "      <th></th>\n",
       "      <th>close_BNB</th>\n",
       "      <th>close_BTC</th>\n",
       "      <th>close_ETH</th>\n",
       "      <th>close_LTC</th>\n",
       "    </tr>\n",
       "    <tr>\n",
       "      <th>date</th>\n",
       "      <th></th>\n",
       "      <th></th>\n",
       "      <th></th>\n",
       "      <th></th>\n",
       "    </tr>\n",
       "  </thead>\n",
       "  <tbody>\n",
       "    <tr>\n",
       "      <th>2021-04-18 00:00:00</th>\n",
       "      <td>NaN</td>\n",
       "      <td>NaN</td>\n",
       "      <td>NaN</td>\n",
       "      <td>NaN</td>\n",
       "    </tr>\n",
       "    <tr>\n",
       "      <th>2021-04-17 00:00:00</th>\n",
       "      <td>0.001667</td>\n",
       "      <td>0.068685</td>\n",
       "      <td>0.036661</td>\n",
       "      <td>-0.001593</td>\n",
       "    </tr>\n",
       "    <tr>\n",
       "      <th>2021-04-16 00:00:00</th>\n",
       "      <td>-0.012458</td>\n",
       "      <td>0.022133</td>\n",
       "      <td>0.045336</td>\n",
       "      <td>0.025161</td>\n",
       "    </tr>\n",
       "    <tr>\n",
       "      <th>2021-04-15 00:00:00</th>\n",
       "      <td>0.066122</td>\n",
       "      <td>0.029758</td>\n",
       "      <td>0.037715</td>\n",
       "      <td>-0.073923</td>\n",
       "    </tr>\n",
       "    <tr>\n",
       "      <th>2021-04-14 00:00:00</th>\n",
       "      <td>0.015014</td>\n",
       "      <td>-0.003174</td>\n",
       "      <td>-0.032394</td>\n",
       "      <td>-0.023702</td>\n",
       "    </tr>\n",
       "  </tbody>\n",
       "</table>\n",
       "</div>"
      ],
      "text/plain": [
       "                     close_BNB  close_BTC  close_ETH  close_LTC\n",
       "date                                                           \n",
       "2021-04-18 00:00:00        NaN        NaN        NaN        NaN\n",
       "2021-04-17 00:00:00   0.001667   0.068685   0.036661  -0.001593\n",
       "2021-04-16 00:00:00  -0.012458   0.022133   0.045336   0.025161\n",
       "2021-04-15 00:00:00   0.066122   0.029758   0.037715  -0.073923\n",
       "2021-04-14 00:00:00   0.015014  -0.003174  -0.032394  -0.023702"
      ]
     },
     "execution_count": 11,
     "metadata": {},
     "output_type": "execute_result"
    }
   ],
   "source": [
    "df.pct_change().head()"
   ]
  },
  {
   "cell_type": "markdown",
   "id": "similar-funds",
   "metadata": {},
   "source": [
    "<h4>2.3. vetor de pesos w</h4>"
   ]
  },
  {
   "cell_type": "markdown",
   "id": "pointed-conjunction",
   "metadata": {},
   "source": [
    "Precisamos calcular o retorno do portfólio como um todo. Para isso, distribui-se a porcentagem que cada ativo receberá na nossa carteira criando um vetor de pesos w e multiplicando-o pelos retornos simples dos ativos:"
   ]
  },
  {
   "cell_type": "code",
   "execution_count": 12,
   "id": "dense-supplier",
   "metadata": {},
   "outputs": [],
   "source": [
    "r = df.pct_change() # retorno do portfólio\n",
    "w = [0.1, 0.1, 0.2, 0.2, 0.05, 0.05, 0.1, 0.1, 0.2, 0.2][:cryptos] # pesos de cada ativo na ordem dos nomes das colunas do dataframe de retorno r (ou df.pct_change())\n",
    "R = np.dot(r, w) # retorno do portfólio, poderado pelo vetor de pesos w"
   ]
  },
  {
   "cell_type": "markdown",
   "id": "compound-mortality",
   "metadata": {},
   "source": [
    "<div style=\"text-align: justify\"> <h3>3. Risco vol (de volatividade)</h3>\n",
    "Existem várias formas diferentes para se calcular o risco do investimento, mas no geral, essas métricas estarão relacionadas a quão volátil é um ativo. Ativos muitos voláteis, ou seja, que variam muito, não são muito seguros. Assim, a forma mais comum de se obter esse tipo de métrica para uma ação é através do cálculo de seu desvio padrão:</div>"
   ]
  },
  {
   "cell_type": "code",
   "execution_count": 13,
   "id": "charitable-madagascar",
   "metadata": {},
   "outputs": [
    {
     "data": {
      "text/plain": [
       "close_BNB       69.475433\n",
       "close_BTC    11990.398438\n",
       "close_ETH      447.880707\n",
       "close_LTC       57.814102\n",
       "dtype: float32"
      ]
     },
     "execution_count": 13,
     "metadata": {},
     "output_type": "execute_result"
    }
   ],
   "source": [
    "vol = df.std()\n",
    "vol"
   ]
  },
  {
   "cell_type": "markdown",
   "id": "adopted-meditation",
   "metadata": {},
   "source": [
    "<div style=\"text-align: justify\">Intuitivamente, poderíamos pensar que para calcular o risco de uma carteira, bastaria multiplicar o risco de cada uma de suas ações pelo vetor de pesos de seu portfólio, mas segundo Markowitz, em um portfólio, o seu risco não será igual à média do risco de cada um de seus ativos, pois deve se levar em conta como todas as ações estão se movimentando em conjunto. Para refletir esse aspecto, precisamos antes calcular a matriz de covariância das médias dos retornos:</div>"
   ]
  },
  {
   "cell_type": "code",
   "execution_count": 14,
   "id": "overall-heart",
   "metadata": {},
   "outputs": [
    {
     "data": {
      "text/plain": [
       "close_BNB   -0.409385\n",
       "close_BTC    0.002361\n",
       "close_ETH    0.151776\n",
       "close_LTC    0.413437\n",
       "dtype: float32"
      ]
     },
     "execution_count": 14,
     "metadata": {},
     "output_type": "execute_result"
    }
   ],
   "source": [
    "# retorno simples \n",
    "r = df.pct_change()\n",
    "\n",
    "# média dos retornos anualizados \n",
    "mean_returns = r.mean() * 252\n",
    "mean_returns"
   ]
  },
  {
   "cell_type": "code",
   "execution_count": 15,
   "id": "liberal-movement",
   "metadata": {},
   "outputs": [
    {
     "data": {
      "text/plain": [
       "array([[0.00411689, 0.00196931, 0.00247972, 0.00242481],\n",
       "       [0.00196931, 0.00192642, 0.00207897, 0.00203292],\n",
       "       [0.00247972, 0.00207897, 0.00314688, 0.00267084],\n",
       "       [0.00242481, 0.00203292, 0.00267084, 0.00312597]])"
      ]
     },
     "execution_count": 15,
     "metadata": {},
     "output_type": "execute_result"
    }
   ],
   "source": [
    "# matriz de covariância \n",
    "covariance = np.cov(r[1:].T)\n",
    "covariance"
   ]
  },
  {
   "cell_type": "markdown",
   "id": "disturbed-philadelphia",
   "metadata": {},
   "source": [
    "Tendo calculado a matriz de covariância ( C ), e com os nossos vetores de pesos (w), em seguida, vamos utilizar esta fórmula para calcular o risco do portfólio:"
   ]
  },
  {
   "cell_type": "code",
   "execution_count": 16,
   "id": "concrete-afternoon",
   "metadata": {},
   "outputs": [
    {
     "data": {
      "text/html": [
       "<div>\n",
       "<style scoped>\n",
       "    .dataframe tbody tr th:only-of-type {\n",
       "        vertical-align: middle;\n",
       "    }\n",
       "\n",
       "    .dataframe tbody tr th {\n",
       "        vertical-align: top;\n",
       "    }\n",
       "\n",
       "    .dataframe thead th {\n",
       "        text-align: right;\n",
       "    }\n",
       "</style>\n",
       "<table border=\"1\" class=\"dataframe\">\n",
       "  <thead>\n",
       "    <tr style=\"text-align: right;\">\n",
       "      <th></th>\n",
       "      <th>0</th>\n",
       "    </tr>\n",
       "  </thead>\n",
       "  <tbody>\n",
       "    <tr>\n",
       "      <th>0</th>\n",
       "      <td>0.1</td>\n",
       "    </tr>\n",
       "    <tr>\n",
       "      <th>1</th>\n",
       "      <td>0.1</td>\n",
       "    </tr>\n",
       "    <tr>\n",
       "      <th>2</th>\n",
       "      <td>0.2</td>\n",
       "    </tr>\n",
       "    <tr>\n",
       "      <th>3</th>\n",
       "      <td>0.2</td>\n",
       "    </tr>\n",
       "  </tbody>\n",
       "</table>\n",
       "</div>"
      ],
      "text/plain": [
       "     0\n",
       "0  0.1\n",
       "1  0.1\n",
       "2  0.2\n",
       "3  0.2"
      ]
     },
     "execution_count": 16,
     "metadata": {},
     "output_type": "execute_result"
    }
   ],
   "source": [
    "w = pd.DataFrame(w)\n",
    "w"
   ]
  },
  {
   "cell_type": "markdown",
   "id": "hollow-nightmare",
   "metadata": {},
   "source": [
    "Risco do portfólio anualizado"
   ]
  },
  {
   "cell_type": "code",
   "execution_count": 17,
   "id": "bored-crawford",
   "metadata": {},
   "outputs": [
    {
     "data": {
      "text/plain": [
       "array([[0.48281927]])"
      ]
     },
     "execution_count": 17,
     "metadata": {},
     "output_type": "execute_result"
    }
   ],
   "source": [
    "vol = np.sqrt(np.dot(w.T, np.dot(covariance, w))) * np.sqrt(252) # o risco é de aproximadamente 1 USDT\n",
    "vol"
   ]
  },
  {
   "cell_type": "markdown",
   "id": "designed-orlando",
   "metadata": {},
   "source": [
    "<div style=\"text-align: justify\"> <h3>3. Sharpe Ratio</h3>\n",
    "Todo investimento possui uma certa taxa de risco associada a ele, mas é certo que alguns investimentos são mais seguros do que outros, certo?\n",
    "O Sharpe Ratio é uma métrica utilizada para nos ajudar a analisar se estamos sendo devidamente recompensados por uma taxa adicional de risco assumido. Para isso, ele <strong>compara o retorno de um investimento que possui um risco associado com um outro de \"risco livre\"</strong>. No caso de uma carteira de ações na bolsa brasileira, ele poderia comparar o retorno dela com um o retorno de um investimento em renda fixa, por exemplo.\n",
    "Para calcular o sharpe ratio subtraimos o taxa de risco livre do retorno do portfólio e dividimos esse valor pelo risco do portfólio:</div>\n",
    "<center><img src=\"shape_ratio.png\"/></center>\n",
    "\n",
    "Quanto maior for o valor do Sharpe Ratio, mais atraente será esse investimento dado o risco associado. Porém, um valor negativo significa que a taxa livre de risco é maior que o retorno do portfólio. De maneira geral, um sharpe ratio maior que 1 é considerado bom."
   ]
  },
  {
   "cell_type": "markdown",
   "id": "specified-morgan",
   "metadata": {},
   "source": [
    "### Simulando Portfólios\n",
    "Agora que já entendemos como calcular o retorno e o risco de um portfólio, vamos simular várias carteiras com pesos diferentes e observar qual delas irá nos retornar o portfólio com o maior Sharpe Ratio."
   ]
  },
  {
   "cell_type": "code",
   "execution_count": 18,
   "id": "charged-temperature",
   "metadata": {},
   "outputs": [],
   "source": [
    "def generate_wallets(df_close, num_portfolios = 10000, risk_free = 0):\n",
    "    # vetores de dados\n",
    "    portfolio_weights = []\n",
    "    portfolio_exp_returns = []\n",
    "    portfolio_vol = []\n",
    "    portfolio_sharpe = []\n",
    "\n",
    "    # retorno simples \n",
    "    r = df.pct_change()\n",
    "    mean_returns = r.mean() * 252\n",
    "\n",
    "    # matriz de covariância \n",
    "    covariance = np.cov(r[1:].T)\n",
    "\n",
    "    for i in range(num_portfolios):\n",
    "        # gerando pesos aleatórios\n",
    "        k = np.random.rand(len(df.columns))\n",
    "        w = k / sum (k)\n",
    "\n",
    "        # retorno\n",
    "        R = np.dot(mean_returns, w)\n",
    "\n",
    "        # risco\n",
    "        vol = np.sqrt(np.dot(w.T, np.dot(covariance, w))) * np.sqrt(252)\n",
    "\n",
    "        # sharpe ratio\n",
    "        sharpe = (R - risk_free)/vol\n",
    "\n",
    "        portfolio_weights.append(w)\n",
    "        portfolio_exp_returns.append(R)\n",
    "        portfolio_vol.append(vol)\n",
    "        portfolio_sharpe.append(sharpe)\n",
    "\n",
    "    wallets = {'weights': portfolio_weights,\n",
    "              'returns': portfolio_exp_returns,\n",
    "              'vol':portfolio_vol,\n",
    "              'sharpe': portfolio_sharpe}\n",
    "\n",
    "    return wallets"
   ]
  },
  {
   "cell_type": "raw",
   "id": "2efcc622-c165-4aed-b675-f81eb5b25130",
   "metadata": {},
   "source": [
    "Com o código acima estamos gerando várias carteiras com vetores de pesos diferentes. Nessa função, ela retorna um dicionário com todos os pesos, retornos, riscos e sharpe ratios de todos os portfólios. "
   ]
  },
  {
   "cell_type": "markdown",
   "id": "8ddcbbf9-9eef-4455-8864-6547b6904d9e",
   "metadata": {},
   "source": [
    "### Para descobrirmos qual carteira obteve o melhor Sharpe Ratio, utilizamos a seguinte função:"
   ]
  },
  {
   "cell_type": "code",
   "execution_count": 19,
   "id": "catholic-bacon",
   "metadata": {},
   "outputs": [],
   "source": [
    "def best_portfolio(wallets):\n",
    "    sharpe = wallets['sharpe']\n",
    "    weights = wallets['weights']\n",
    "    \n",
    "    indice = np.array(sharpe).argmax()\n",
    "        \n",
    "    return weights[indice]"
   ]
  },
  {
   "cell_type": "markdown",
   "id": "78658699-5479-4420-aeea-054cd45583e5",
   "metadata": {},
   "source": [
    "#### Fazendo uma simulação com as funções que descrevemos acima, a carteira que nos retornaria o maior Sharpe Ratio seria a com a seguinte distribuição de pesos:"
   ]
  },
  {
   "cell_type": "code",
   "execution_count": 20,
   "id": "outside-faculty",
   "metadata": {},
   "outputs": [],
   "source": [
    "wallets = generate_wallets(df)"
   ]
  },
  {
   "cell_type": "code",
   "execution_count": 21,
   "id": "derived-reliance",
   "metadata": {},
   "outputs": [
    {
     "data": {
      "text/plain": [
       "array([0.00818011, 0.00247626, 0.11522876, 0.87411487])"
      ]
     },
     "execution_count": 21,
     "metadata": {},
     "output_type": "execute_result"
    }
   ],
   "source": [
    "best_portfolio(wallets)"
   ]
  },
  {
   "cell_type": "raw",
   "id": "76148e32-182a-401e-88cf-f9442943655a",
   "metadata": {},
   "source": [
    "A simulação dos pesos que estamos utilizando é aleatória! Então se alguém tentar reproduzir esse código, os resultados dos pesos podem ser diferentes!"
   ]
  },
  {
   "cell_type": "markdown",
   "id": "interpreted-sixth",
   "metadata": {},
   "source": [
    "### A Fronteira Eficiente\n",
    "Se pegarmos todos os portfólios que foram gerados e plotarmos em um gráfico, tendo como referência os __retornos no eixo y, e os riscos no eixo x,__ temos um esquema que é conhecido como a \"Fronteira Eficiente\". "
   ]
  },
  {
   "cell_type": "code",
   "execution_count": 22,
   "id": "concrete-nevada",
   "metadata": {},
   "outputs": [],
   "source": [
    "def plot_efficient_frontier(wallets):\n",
    "    vol = wallets['vol']\n",
    "    returns = wallets['returns']\n",
    "    sharpe = wallets['sharpe']\n",
    "\n",
    "    indice = np.array(sharpe).argmax()\n",
    "    y_axis = returns[indice]\n",
    "    X_axis = vol[indice]\n",
    "\n",
    "    plt.scatter(vol, returns, c = sharpe, cmap = 'viridis')\n",
    "    plt.scatter(X_axis, y_axis, c = 'red', s = 50)\n",
    "    plt.title(\"Efficient Frontier\")\n",
    "    plt.xlabel(\"Volatility\")\n",
    "    plt.ylabel(\"Expected return\")\n",
    "    plt.show()"
   ]
  },
  {
   "cell_type": "markdown",
   "id": "respective-safety",
   "metadata": {},
   "source": [
    "### A Fronteira Eficiente"
   ]
  },
  {
   "cell_type": "raw",
   "id": "13c07f38-7c36-4699-84ca-61af682ce4eb",
   "metadata": {},
   "source": [
    "Utilizando a função com a carteira que estamos usando de exemplo até agora, temos o seguinte gráfico:"
   ]
  },
  {
   "cell_type": "code",
   "execution_count": 23,
   "id": "capable-heritage",
   "metadata": {},
   "outputs": [
    {
     "data": {
      "image/png": "[encoded data removed]",
      "text/plain": [
       "<Figure size 432x288 with 1 Axes>"
      ]
     },
     "metadata": {
      "needs_background": "light"
     },
     "output_type": "display_data"
    }
   ],
   "source": [
    "plot_efficient_frontier(wallets)"
   ]
  },
  {
   "cell_type": "markdown",
   "id": "broad-collect",
   "metadata": {},
   "source": [
    "__O que é um bom portfólio?__\n",
    "\n",
    "Mas afinal, o que é a fronteira eficiente?\n",
    "A fronteira eficiente nada mais é do que a linha que representa os retornos máximos que podemos obter com um portfólio dado um certo nível de risco. Portfólios ótimos sempre devem estar na linha da fronteira, pois, para qualquer portfólio abaixo da linha, há uma carteira disponível com o mesmo risco associado, porém com um retorno maior. Qualquer portfólio acima da fronteira é impossível."
   ]
  },
  {
   "cell_type": "markdown",
   "id": "f2015e9b-fffd-44fa-9aaa-53230f17f9f4",
   "metadata": {},
   "source": [
    "### Afinal, o que é um bom portfólio?\n",
    "\n",
    "Para calcular o nosso melhor portfólio, utilizamos como métrica o maior Sharpe Ratio, porém, analisando o que acabamos de ver sobre a fronteira eficiente, você pode estar se perguntando o que constituiria um bom portfólio no final das contas, e a resposta é: depende!\n",
    "Um bom portfólio vai depender do tipo de investidor e o que ele espera ganhar com os seus investimentos. Para uma pessoa que está próxima da aposentadoria, talvez seja preferível um portfólio que oferece um risco menor, já para uma pessoa mais jovem, talvez aumentar seus retornos com um portfólio um pouco mais arriscado seja uma opção mais atraente.\n",
    "Independente do nível de risco que o investidor estará disponível a aceitar, o importante é estar na linha da fronteira.\n",
    "Tendo isso em mente, podemos __modificar o nosso código para adicionar métodos para retornar a carteira com o menor risco e o maior retorno:__"
   ]
  },
  {
   "cell_type": "code",
   "execution_count": 24,
   "id": "welsh-series",
   "metadata": {},
   "outputs": [],
   "source": [
    "def best_portfolio(wallets, method = 'sharpe_ratio'):\n",
    "    vol = wallets['vol']\n",
    "    sharpe = wallets['sharpe']\n",
    "    weights = wallets['weights']\n",
    "    returns = wallets['returns']\n",
    "    \n",
    "    if method == 'sharpe_ratio':\n",
    "\n",
    "        indice = np.array(sharpe).argmax()\n",
    "\n",
    "    elif method == 'volatility':\n",
    "\n",
    "        indice = np.array(vol).argmin()\n",
    "\n",
    "    elif method == 'return':\n",
    "\n",
    "        indice = np.array(returns).argmax()\n",
    "\n",
    "    return weights[indice]"
   ]
  },
  {
   "cell_type": "code",
   "execution_count": null,
   "id": "similar-concert",
   "metadata": {},
   "outputs": [],
   "source": []
  },
  {
   "cell_type": "code",
   "execution_count": 25,
   "id": "married-burns",
   "metadata": {},
   "outputs": [],
   "source": [
    "def plot_efficient_frontier(wallets, method = 'sharpe_ratio'):\n",
    "    vol = wallets['vol']\n",
    "    returns = wallets['returns']\n",
    "    sharpe = wallets['sharpe']\n",
    "\n",
    "    if method == 'sharpe_ratio':\n",
    "\n",
    "        indice = np.array(sharpe).argmax()\n",
    "        y_axis = returns[indice]\n",
    "        X_axis = vol[indice]\n",
    "\n",
    "    elif method == 'volatility':\n",
    "\n",
    "        indice = np.array(vol).argmin()\n",
    "        y_axis = returns[indice]\n",
    "        X_axis = vol[indice]\n",
    "\n",
    "    elif method == 'return': \n",
    "\n",
    "        indice = np.array(returns).argmax()\n",
    "        y_axis = returns[indice]\n",
    "        X_axis = vol[indice]\n",
    "\n",
    "    plt.scatter(vol, returns, c = sharpe, cmap = 'viridis')\n",
    "    plt.scatter(X_axis, y_axis, c = 'red', s = 50)\n",
    "    plt.title(\"Efficient Frontier\")\n",
    "    plt.xlabel(\"Volatility\")\n",
    "    plt.ylabel(\"Expected return\")\n",
    "    plt.show()"
   ]
  },
  {
   "cell_type": "code",
   "execution_count": 26,
   "id": "final-comedy",
   "metadata": {},
   "outputs": [],
   "source": [
    "wallets = generate_wallets(df)"
   ]
  },
  {
   "cell_type": "code",
   "execution_count": 27,
   "id": "interracial-round",
   "metadata": {},
   "outputs": [
    {
     "data": {
      "text/plain": [
       "array([0.01789229, 0.02232115, 0.02124075, 0.93854581])"
      ]
     },
     "execution_count": 27,
     "metadata": {},
     "output_type": "execute_result"
    }
   ],
   "source": [
    "best_portfolio(wallets, method = 'sharpe_ratio')"
   ]
  },
  {
   "cell_type": "code",
   "execution_count": 28,
   "id": "18205b3f-5dba-4de5-b85f-e1ebb1e6b665",
   "metadata": {},
   "outputs": [
    {
     "name": "stdout",
     "output_type": "stream",
     "text": [
      "BNB 1.7892 %\n",
      "BTC 2.2321 %\n",
      "ETH 2.1241 %\n",
      "LTC 93.8546 %\n"
     ]
    }
   ],
   "source": [
    "for i in range(len(ls_first_crypto)):\n",
    "    print(ls_first_crypto[i], str(round(best_portfolio(wallets, method = 'sharpe_ratio')[i]*100,4)) + \" %\")"
   ]
  },
  {
   "cell_type": "markdown",
   "id": "69afe8f3-c52e-42bf-a191-b22db0178b36",
   "metadata": {},
   "source": [
    "### Risco Moderado"
   ]
  },
  {
   "cell_type": "code",
   "execution_count": 29,
   "id": "crazy-apollo",
   "metadata": {},
   "outputs": [
    {
     "data": {
      "image/png": "[encoded data removed]",
      "text/plain": [
       "<Figure size 432x288 with 1 Axes>"
      ]
     },
     "metadata": {
      "needs_background": "light"
     },
     "output_type": "display_data"
    }
   ],
   "source": [
    "plot_efficient_frontier(wallets, method = 'sharpe_ratio')"
   ]
  },
  {
   "cell_type": "code",
   "execution_count": 30,
   "id": "alpha-velvet",
   "metadata": {},
   "outputs": [
    {
     "data": {
      "text/plain": [
       "array([0.02595889, 0.95091078, 0.01332936, 0.00980097])"
      ]
     },
     "execution_count": 30,
     "metadata": {},
     "output_type": "execute_result"
    }
   ],
   "source": [
    "best_portfolio(wallets, method = 'volatility')"
   ]
  },
  {
   "cell_type": "code",
   "execution_count": 31,
   "id": "8ac157fa-41d8-42d5-9237-af6adb39f135",
   "metadata": {},
   "outputs": [
    {
     "name": "stdout",
     "output_type": "stream",
     "text": [
      "BNB 2.5959 %\n",
      "BTC 95.0911 %\n",
      "ETH 1.3329 %\n",
      "LTC 0.9801 %\n"
     ]
    }
   ],
   "source": [
    "for i in range(len(ls_first_crypto)):\n",
    "    print(ls_first_crypto[i], str(round(best_portfolio(wallets, method = 'volatility')[i]*100, 4)) + \" %\")"
   ]
  },
  {
   "cell_type": "markdown",
   "id": "bf5129b5-f962-4ebe-b4be-2b9a6b6f99ca",
   "metadata": {},
   "source": [
    "### Baixo Risco com retorno mais baixo"
   ]
  },
  {
   "cell_type": "code",
   "execution_count": 32,
   "id": "indirect-details",
   "metadata": {},
   "outputs": [
    {
     "data": {
      "image/png": "[encoded data removed]",
      "text/plain": [
       "<Figure size 432x288 with 1 Axes>"
      ]
     },
     "metadata": {
      "needs_background": "light"
     },
     "output_type": "display_data"
    }
   ],
   "source": [
    "plot_efficient_frontier(wallets, method = 'volatility')"
   ]
  },
  {
   "cell_type": "code",
   "execution_count": 33,
   "id": "caring-quantity",
   "metadata": {},
   "outputs": [
    {
     "data": {
      "text/plain": [
       "array([0.01789229, 0.02232115, 0.02124075, 0.93854581])"
      ]
     },
     "execution_count": 33,
     "metadata": {},
     "output_type": "execute_result"
    }
   ],
   "source": [
    "best_portfolio(wallets, method = 'return')"
   ]
  },
  {
   "cell_type": "code",
   "execution_count": 34,
   "id": "95333bdc-1bff-427a-90c7-d7b0a0180f49",
   "metadata": {},
   "outputs": [
    {
     "name": "stdout",
     "output_type": "stream",
     "text": [
      "BNB 1.7892 %\n",
      "BTC 2.2321 %\n",
      "ETH 2.1241 %\n",
      "LTC 93.8546 %\n"
     ]
    }
   ],
   "source": [
    "for i in range(len(ls_first_crypto)):\n",
    "    print(ls_first_crypto[i], str(round(best_portfolio(wallets, method = 'return')[i]*100, 4)) + \" %\")"
   ]
  },
  {
   "cell_type": "markdown",
   "id": "af61c0e1-0388-45ef-96ab-3e8b7ec26c3d",
   "metadata": {},
   "source": [
    "### Maior risco com chances de retornos maiores"
   ]
  },
  {
   "cell_type": "code",
   "execution_count": 35,
   "id": "initial-corporation",
   "metadata": {},
   "outputs": [
    {
     "data": {
      "image/png": "[encoded data removed]",
      "text/plain": [
       "<Figure size 432x288 with 1 Axes>"
      ]
     },
     "metadata": {
      "needs_background": "light"
     },
     "output_type": "display_data"
    }
   ],
   "source": [
    "plot_efficient_frontier(wallets, method = 'return')"
   ]
  }
 ],
 "metadata": {
  "kernelspec": {
   "display_name": "Python 3",
   "language": "python",
   "name": "python3"
  },
  "language_info": {
   "codemirror_mode": {
    "name": "ipython",
    "version": 3
   },
   "file_extension": ".py",
   "mimetype": "text/x-python",
   "name": "python",
   "nbconvert_exporter": "python",
   "pygments_lexer": "ipython3",
   "version": "3.9.5"
  }
 },
 "nbformat": 4,
 "nbformat_minor": 5
}
