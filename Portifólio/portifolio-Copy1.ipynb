{
 "cells": [
  {
   "cell_type": "markdown",
   "id": "improving-customer",
   "metadata": {},
   "source": [
    "[Portfólio][1]\n",
    "\n",
    "[1]: <https://medium.com/turing-talks/teoria-moderna-do-portf%C3%B3lio-em-python-e8bad41ebb8b>"
   ]
  },
  {
   "cell_type": "raw",
   "id": "ranking-consumer",
   "metadata": {},
   "source": [
    "!pip install pandas_datareader"
   ]
  },
  {
   "cell_type": "code",
   "execution_count": 1,
   "id": "laughing-guidance",
   "metadata": {},
   "outputs": [],
   "source": [
    "# Importando as bibliotecas \n",
    "import pandas as pd \n",
    "import numpy as np\n",
    "import matplotlib.pyplot as plt\n",
    "from pandas_datareader import data"
   ]
  },
  {
   "cell_type": "code",
   "execution_count": 2,
   "id": "advised-postage",
   "metadata": {},
   "outputs": [
    {
     "data": {
      "text/html": [
       "<div>\n",
       "<style scoped>\n",
       "    .dataframe tbody tr th:only-of-type {\n",
       "        vertical-align: middle;\n",
       "    }\n",
       "\n",
       "    .dataframe tbody tr th {\n",
       "        vertical-align: top;\n",
       "    }\n",
       "\n",
       "    .dataframe thead th {\n",
       "        text-align: right;\n",
       "    }\n",
       "</style>\n",
       "<table border=\"1\" class=\"dataframe\">\n",
       "  <thead>\n",
       "    <tr style=\"text-align: right;\">\n",
       "      <th></th>\n",
       "      <th>AMZN</th>\n",
       "      <th>GOOG</th>\n",
       "      <th>MSFT</th>\n",
       "      <th>NFLX</th>\n",
       "    </tr>\n",
       "    <tr>\n",
       "      <th>Date</th>\n",
       "      <th></th>\n",
       "      <th></th>\n",
       "      <th></th>\n",
       "      <th></th>\n",
       "    </tr>\n",
       "  </thead>\n",
       "  <tbody>\n",
       "    <tr>\n",
       "      <th>2010-01-04</th>\n",
       "      <td>133.899994</td>\n",
       "      <td>312.204773</td>\n",
       "      <td>30.950001</td>\n",
       "      <td>7.640000</td>\n",
       "    </tr>\n",
       "    <tr>\n",
       "      <th>2010-01-05</th>\n",
       "      <td>134.690002</td>\n",
       "      <td>310.829926</td>\n",
       "      <td>30.959999</td>\n",
       "      <td>7.358571</td>\n",
       "    </tr>\n",
       "    <tr>\n",
       "      <th>2010-01-06</th>\n",
       "      <td>132.250000</td>\n",
       "      <td>302.994293</td>\n",
       "      <td>30.770000</td>\n",
       "      <td>7.617143</td>\n",
       "    </tr>\n",
       "    <tr>\n",
       "      <th>2010-01-07</th>\n",
       "      <td>130.000000</td>\n",
       "      <td>295.940735</td>\n",
       "      <td>30.450001</td>\n",
       "      <td>7.485714</td>\n",
       "    </tr>\n",
       "    <tr>\n",
       "      <th>2010-01-08</th>\n",
       "      <td>133.520004</td>\n",
       "      <td>299.885956</td>\n",
       "      <td>30.660000</td>\n",
       "      <td>7.614286</td>\n",
       "    </tr>\n",
       "  </tbody>\n",
       "</table>\n",
       "</div>"
      ],
      "text/plain": [
       "                  AMZN        GOOG       MSFT      NFLX\n",
       "Date                                                   \n",
       "2010-01-04  133.899994  312.204773  30.950001  7.640000\n",
       "2010-01-05  134.690002  310.829926  30.959999  7.358571\n",
       "2010-01-06  132.250000  302.994293  30.770000  7.617143\n",
       "2010-01-07  130.000000  295.940735  30.450001  7.485714\n",
       "2010-01-08  133.520004  299.885956  30.660000  7.614286"
      ]
     },
     "execution_count": 2,
     "metadata": {},
     "output_type": "execute_result"
    }
   ],
   "source": [
    "# Montando o nossa carteira com preços de fechamento da Amazon, Google, Microsoft e Netflix\n",
    "df = pd.DataFrame()\n",
    "df['AMZN'] = data.DataReader('AMZN', data_source='yahoo', start='1-1-2010')['Close']\n",
    "df['GOOG'] = data.DataReader('GOOG', data_source='yahoo', start='1-1-2010')['Close']\n",
    "df['MSFT'] = data.DataReader('MSFT', data_source='yahoo', start='1-1-2010')['Close']\n",
    "df['NFLX'] = data.DataReader('NFLX', data_source='yahoo', start='1-1-2010')['Close']\n",
    "\n",
    "df.head()"
   ]
  },
  {
   "cell_type": "markdown",
   "id": "lonely-runner",
   "metadata": {},
   "source": [
    "### Retorno"
   ]
  },
  {
   "cell_type": "code",
   "execution_count": 3,
   "id": "permanent-jonathan",
   "metadata": {},
   "outputs": [
    {
     "data": {
      "text/html": [
       "<div>\n",
       "<style scoped>\n",
       "    .dataframe tbody tr th:only-of-type {\n",
       "        vertical-align: middle;\n",
       "    }\n",
       "\n",
       "    .dataframe tbody tr th {\n",
       "        vertical-align: top;\n",
       "    }\n",
       "\n",
       "    .dataframe thead th {\n",
       "        text-align: right;\n",
       "    }\n",
       "</style>\n",
       "<table border=\"1\" class=\"dataframe\">\n",
       "  <thead>\n",
       "    <tr style=\"text-align: right;\">\n",
       "      <th></th>\n",
       "      <th>AMZN</th>\n",
       "      <th>GOOG</th>\n",
       "      <th>MSFT</th>\n",
       "      <th>NFLX</th>\n",
       "    </tr>\n",
       "    <tr>\n",
       "      <th>Date</th>\n",
       "      <th></th>\n",
       "      <th></th>\n",
       "      <th></th>\n",
       "      <th></th>\n",
       "    </tr>\n",
       "  </thead>\n",
       "  <tbody>\n",
       "    <tr>\n",
       "      <th>2010-01-04</th>\n",
       "      <td>NaN</td>\n",
       "      <td>NaN</td>\n",
       "      <td>NaN</td>\n",
       "      <td>NaN</td>\n",
       "    </tr>\n",
       "    <tr>\n",
       "      <th>2010-01-05</th>\n",
       "      <td>0.005900</td>\n",
       "      <td>-0.004404</td>\n",
       "      <td>0.000323</td>\n",
       "      <td>-0.036836</td>\n",
       "    </tr>\n",
       "    <tr>\n",
       "      <th>2010-01-06</th>\n",
       "      <td>-0.018116</td>\n",
       "      <td>-0.025209</td>\n",
       "      <td>-0.006137</td>\n",
       "      <td>0.035139</td>\n",
       "    </tr>\n",
       "    <tr>\n",
       "      <th>2010-01-07</th>\n",
       "      <td>-0.017013</td>\n",
       "      <td>-0.023280</td>\n",
       "      <td>-0.010400</td>\n",
       "      <td>-0.017254</td>\n",
       "    </tr>\n",
       "    <tr>\n",
       "      <th>2010-01-08</th>\n",
       "      <td>0.027077</td>\n",
       "      <td>0.013331</td>\n",
       "      <td>0.006897</td>\n",
       "      <td>0.017176</td>\n",
       "    </tr>\n",
       "  </tbody>\n",
       "</table>\n",
       "</div>"
      ],
      "text/plain": [
       "                AMZN      GOOG      MSFT      NFLX\n",
       "Date                                              \n",
       "2010-01-04       NaN       NaN       NaN       NaN\n",
       "2010-01-05  0.005900 -0.004404  0.000323 -0.036836\n",
       "2010-01-06 -0.018116 -0.025209 -0.006137  0.035139\n",
       "2010-01-07 -0.017013 -0.023280 -0.010400 -0.017254\n",
       "2010-01-08  0.027077  0.013331  0.006897  0.017176"
      ]
     },
     "execution_count": 3,
     "metadata": {},
     "output_type": "execute_result"
    }
   ],
   "source": [
    "# Retorno simples dos ativos\n",
    "df.pct_change().head()"
   ]
  },
  {
   "cell_type": "code",
   "execution_count": 4,
   "id": "primary-equation",
   "metadata": {},
   "outputs": [],
   "source": [
    "r = df.pct_change() #retornos do ativo\n",
    "w = [0.3, 0.3, 0.2, 0.2] #pesos\n",
    "R = np.dot(r, w) #retorno do portfólio"
   ]
  },
  {
   "cell_type": "markdown",
   "id": "disciplinary-abuse",
   "metadata": {},
   "source": [
    "### Risco"
   ]
  },
  {
   "cell_type": "code",
   "execution_count": 5,
   "id": "approved-hurricane",
   "metadata": {},
   "outputs": [],
   "source": [
    "vol = df.std()"
   ]
  },
  {
   "cell_type": "code",
   "execution_count": 6,
   "id": "religious-medium",
   "metadata": {},
   "outputs": [],
   "source": [
    "\n",
    "# retorno simples \n",
    "r = df.pct_change()\n",
    "\n",
    "# média dos retornos anualizados \n",
    "mean_returns = r.mean() * 252\n",
    "\n",
    "# matriz de covariância \n",
    "covariance = np.cov(r[1:].T)"
   ]
  },
  {
   "cell_type": "code",
   "execution_count": 7,
   "id": "banner-space",
   "metadata": {},
   "outputs": [],
   "source": [
    "w = pd.DataFrame(w)"
   ]
  },
  {
   "cell_type": "code",
   "execution_count": 8,
   "id": "excessive-library",
   "metadata": {},
   "outputs": [],
   "source": [
    "# Risco do portfólio anualizado\n",
    "vol = np.sqrt(np.dot(w.T, np.dot(covariance, w))) * np.sqrt(252)"
   ]
  },
  {
   "cell_type": "markdown",
   "id": "confident-colors",
   "metadata": {},
   "source": [
    "### Simulando Portfólios"
   ]
  },
  {
   "cell_type": "code",
   "execution_count": 9,
   "id": "based-garage",
   "metadata": {},
   "outputs": [],
   "source": [
    "def generate_wallets(df_close, num_portfolios = 10000, risk_free = 0):\n",
    "    # vetores de dados\n",
    "    portfolio_weights = []\n",
    "    portfolio_exp_returns = []\n",
    "    portfolio_vol = []\n",
    "    portfolio_sharpe = []\n",
    "\n",
    "    # retorno simples \n",
    "    r = df.pct_change()\n",
    "    mean_returns = r.mean() * 252\n",
    "\n",
    "    # matriz de covariância \n",
    "    covariance = np.cov(r[1:].T)\n",
    "\n",
    "    for i in range(num_portfolios):\n",
    "        # gerando pesos aleatórios\n",
    "        k = np.random.rand(len(df.columns))\n",
    "        w = k / sum (k)\n",
    "\n",
    "        # retorno\n",
    "        R = np.dot(mean_returns, w)\n",
    "\n",
    "        # risco\n",
    "        vol = np.sqrt(np.dot(w.T, np.dot(covariance, w))) * np.sqrt(252)\n",
    "\n",
    "        # sharpe ratio\n",
    "        sharpe = (R - risk_free)/vol\n",
    "\n",
    "        portfolio_weights.append(w)\n",
    "        portfolio_exp_returns.append(R)\n",
    "        portfolio_vol.append(vol)\n",
    "        portfolio_sharpe.append(sharpe)\n",
    "\n",
    "    wallets = {'weights': portfolio_weights,\n",
    "              'returns': portfolio_exp_returns,\n",
    "              'vol':portfolio_vol,\n",
    "              'sharpe': portfolio_sharpe}\n",
    "\n",
    "    return wallets"
   ]
  },
  {
   "cell_type": "code",
   "execution_count": 10,
   "id": "written-coupon",
   "metadata": {},
   "outputs": [],
   "source": [
    "def best_portfolio(wallets):\n",
    "    sharpe = wallets['sharpe']\n",
    "    weights = wallets['weights']\n",
    "    \n",
    "    indice = np.array(sharpe).argmax()\n",
    "        \n",
    "    return weights[indice]"
   ]
  },
  {
   "cell_type": "code",
   "execution_count": 11,
   "id": "incredible-threat",
   "metadata": {},
   "outputs": [],
   "source": [
    "wallets = generate_wallets(df)"
   ]
  },
  {
   "cell_type": "code",
   "execution_count": 12,
   "id": "united-aggregate",
   "metadata": {},
   "outputs": [
    {
     "data": {
      "text/plain": [
       "array([0.42455949, 0.04125791, 0.27934787, 0.25483474])"
      ]
     },
     "execution_count": 12,
     "metadata": {},
     "output_type": "execute_result"
    }
   ],
   "source": [
    "best_portfolio(wallets)"
   ]
  },
  {
   "cell_type": "markdown",
   "id": "deadly-obligation",
   "metadata": {},
   "source": [
    "### A Fronteira Eficiente"
   ]
  },
  {
   "cell_type": "code",
   "execution_count": 13,
   "id": "noted-outdoors",
   "metadata": {},
   "outputs": [],
   "source": [
    "def plot_efficient_frontier(wallets):\n",
    "    vol = wallets['vol']\n",
    "    returns = wallets['returns']\n",
    "    sharpe = wallets['sharpe']\n",
    "\n",
    "    indice = np.array(sharpe).argmax()\n",
    "    y_axis = returns[indice]\n",
    "    X_axis = vol[indice]\n",
    "\n",
    "    plt.scatter(vol, returns, c = sharpe, cmap = 'viridis')\n",
    "    plt.scatter(X_axis, y_axis, c = 'red', s = 50)\n",
    "    plt.title(\"Efficient Frontier\")\n",
    "    plt.xlabel(\"Volatility\")\n",
    "    plt.ylabel(\"Expected return\")\n",
    "    plt.show()"
   ]
  },
  {
   "cell_type": "markdown",
   "id": "suited-mercy",
   "metadata": {},
   "source": [
    "### A Fronteira Eficiente"
   ]
  },
  {
   "cell_type": "code",
   "execution_count": 14,
   "id": "generous-boxing",
   "metadata": {},
   "outputs": [
    {
     "data": {
      "image/png": "[encoded data removed]",
      "text/plain": [
       "<Figure size 432x288 with 1 Axes>"
      ]
     },
     "metadata": {
      "needs_background": "light"
     },
     "output_type": "display_data"
    }
   ],
   "source": [
    "plot_efficient_frontier(wallets)"
   ]
  },
  {
   "cell_type": "markdown",
   "id": "measured-liver",
   "metadata": {},
   "source": [
    "### O que é um bom portfólio?"
   ]
  },
  {
   "cell_type": "code",
   "execution_count": 15,
   "id": "unauthorized-guidance",
   "metadata": {},
   "outputs": [],
   "source": [
    "def best_portfolio(wallets, method = 'sharpe_ratio'):\n",
    "    vol = wallets['vol']\n",
    "    sharpe = wallets['sharpe']\n",
    "    weights = wallets['weights']\n",
    "    returns = wallets['returns']\n",
    "    \n",
    "    if method == 'sharpe_ratio':\n",
    "\n",
    "        indice = np.array(sharpe).argmax()\n",
    "\n",
    "    elif method == 'volatility':\n",
    "\n",
    "        indice = np.array(vol).argmin()\n",
    "\n",
    "    elif method == 'return':\n",
    "\n",
    "        indice = np.array(returns).argmax()\n",
    "\n",
    "    return weights[indice]"
   ]
  },
  {
   "cell_type": "code",
   "execution_count": null,
   "id": "capable-fireplace",
   "metadata": {},
   "outputs": [],
   "source": []
  },
  {
   "cell_type": "code",
   "execution_count": 16,
   "id": "extra-combining",
   "metadata": {},
   "outputs": [],
   "source": [
    "def plot_efficient_frontier(wallets, method = 'sharpe_ratio'):\n",
    "    vol = wallets['vol']\n",
    "    returns = wallets['returns']\n",
    "    sharpe = wallets['sharpe']\n",
    "\n",
    "    if method == 'sharpe_ratio':\n",
    "\n",
    "        indice = np.array(sharpe).argmax()\n",
    "        y_axis = returns[indice]\n",
    "        X_axis = vol[indice]\n",
    "\n",
    "    elif method == 'volatility':\n",
    "\n",
    "        indice = np.array(vol).argmin()\n",
    "        y_axis = returns[indice]\n",
    "        X_axis = vol[indice]\n",
    "\n",
    "    elif method == 'return': \n",
    "\n",
    "        indice = np.array(returns).argmax()\n",
    "        y_axis = returns[indice]\n",
    "        X_axis = vol[indice]\n",
    "\n",
    "    plt.scatter(vol, returns, c = sharpe, cmap = 'viridis')\n",
    "    plt.scatter(X_axis, y_axis, c = 'red', s = 50)\n",
    "    plt.title(\"Efficient Frontier\")\n",
    "    plt.xlabel(\"Volatility\")\n",
    "    plt.ylabel(\"Expected return\")\n",
    "    plt.show()"
   ]
  },
  {
   "cell_type": "code",
   "execution_count": 17,
   "id": "vulnerable-south",
   "metadata": {},
   "outputs": [],
   "source": [
    "wallets = generate_wallets(df)"
   ]
  },
  {
   "cell_type": "code",
   "execution_count": 18,
   "id": "liberal-combination",
   "metadata": {},
   "outputs": [
    {
     "data": {
      "text/plain": [
       "array([0.12488252, 0.36564123, 0.47212326, 0.03735299])"
      ]
     },
     "execution_count": 18,
     "metadata": {},
     "output_type": "execute_result"
    }
   ],
   "source": [
    "best_portfolio(wallets, method = 'volatility')"
   ]
  },
  {
   "cell_type": "code",
   "execution_count": 19,
   "id": "initial-puzzle",
   "metadata": {},
   "outputs": [
    {
     "data": {
      "image/png": "[encoded data removed]",
      "text/plain": [
       "<Figure size 432x288 with 1 Axes>"
      ]
     },
     "metadata": {
      "needs_background": "light"
     },
     "output_type": "display_data"
    }
   ],
   "source": [
    "plot_efficient_frontier(wallets, method = 'volatility')"
   ]
  },
  {
   "cell_type": "code",
   "execution_count": 20,
   "id": "urban-bottle",
   "metadata": {},
   "outputs": [
    {
     "data": {
      "text/plain": [
       "array([0.07968332, 0.00676974, 0.00587828, 0.90766866])"
      ]
     },
     "execution_count": 20,
     "metadata": {},
     "output_type": "execute_result"
    }
   ],
   "source": [
    "best_portfolio(wallets, method = 'return')"
   ]
  },
  {
   "cell_type": "code",
   "execution_count": 21,
   "id": "accompanied-aruba",
   "metadata": {},
   "outputs": [
    {
     "data": {
      "image/png": "[encoded data removed]",
      "text/plain": [
       "<Figure size 432x288 with 1 Axes>"
      ]
     },
     "metadata": {
      "needs_background": "light"
     },
     "output_type": "display_data"
    }
   ],
   "source": [
    "plot_efficient_frontier(wallets, method = 'return')"
   ]
  }
 ],
 "metadata": {
  "kernelspec": {
   "display_name": "Python 3",
   "language": "python",
   "name": "python3"
  },
  "language_info": {
   "codemirror_mode": {
    "name": "ipython",
    "version": 3
   },
   "file_extension": ".py",
   "mimetype": "text/x-python",
   "name": "python",
   "nbconvert_exporter": "python",
   "pygments_lexer": "ipython3",
   "version": "3.8.8"
  }
 },
 "nbformat": 4,
 "nbformat_minor": 5
}
