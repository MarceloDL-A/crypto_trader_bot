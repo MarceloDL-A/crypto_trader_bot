{
 "cells": [
  {
   "cell_type": "code",
   "execution_count": 1,
   "metadata": {},
   "outputs": [],
   "source": [
    "import pandas as pd\n",
    "import numpy as np\n",
    "\n",
    "# Data Wrangling Imports\n",
    "from datetime import datetime\n",
    "\n",
    "# Data Analysis Imports\n",
    "import statistics\n",
    "import seaborn as sns\n",
    "from scipy import linalg\n",
    "from matplotlib import style\n",
    "from matplotlib import ticker\n",
    "from scipy import stats\n",
    "from statsmodels.graphics.tsaplots import plot_acf, plot_pacf\n",
    "from statsmodels.tsa.statespace.sarimax import SARIMAX\n",
    "from statsmodels.tsa.stattools import adfuller\n",
    "\n",
    "# Data Visualization Imports\n",
    "#import cufflinks as cf\n",
    "#import chart_studio.plotly as py\n",
    "#import plotly.graph_objects as go\n",
    "import matplotlib.pyplot as plt\n",
    "import matplotlib.patches as mpatches\n",
    "import matplotlib.lines as mlines\n",
    "from matplotlib.gridspec import GridSpec\n",
    "\n",
    "# Econometry Imports\n",
    "import pandas_ta as ta\n",
    "\n",
    "# Other Imports\n",
    "import os\n",
    "from itertools import product\n",
    "import warnings\n",
    "import talib\n",
    "warnings.filterwarnings('ignore')\n",
    "pd.options.display.float_format = \"{:.10f}\".format"
   ]
  },
  {
   "cell_type": "markdown",
   "metadata": {},
   "source": [
    "### 2- Depois de cadastrar uma conta na [Binance](https://www.binance.com/pt-BR) é necessário inserir os parâmetros key e secret da API"
   ]
  },
  {
   "cell_type": "code",
   "execution_count": null,
   "metadata": {},
   "outputs": [],
   "source": [
    "from binance.client import Client\n",
    "%run chaves02.ipynb\n",
    "client = Client(key,secret)"
   ]
  },
  {
   "cell_type": "code",
   "execution_count": null,
   "metadata": {
    "scrolled": true
   },
   "outputs": [],
   "source": [
    "# Escolhe o par\n",
    "TRADING_PAIR = 'BTCBRL'\n",
    "# Data de Inicio da Captura dos Dados\n",
    "STARTING_DATE = \"5 Mar, 2021\"\n",
    "# Data Final da Captura dos Dados\n",
    "END_DATE = \"12 Mar, 2021\""
   ]
  },
  {
   "cell_type": "code",
   "execution_count": null,
   "metadata": {},
   "outputs": [],
   "source": [
    "def process_message(msg):\n",
    "    if msg['e'] == 'error':\n",
    "        bm.stop_socket(conn_key)\n",
    "        bm.close()\n",
    "    else:\n",
    "        pass"
   ]
  },
  {
   "cell_type": "code",
   "execution_count": null,
   "metadata": {},
   "outputs": [],
   "source": [
    "time_res = client.get_server_time()\n",
    "time_res"
   ]
  },
  {
   "cell_type": "markdown",
   "metadata": {},
   "source": [
    "### 3- Obtenção de informações via API da Binance e construção do dataframe __data__"
   ]
  },
  {
   "cell_type": "markdown",
   "metadata": {},
   "source": [
    "### [Binance Websockets API](https://python-binance.readthedocs.io/en/latest/websockets.html)"
   ]
  },
  {
   "cell_type": "code",
   "execution_count": null,
   "metadata": {},
   "outputs": [],
   "source": [
    "# Importing Binance Websockets API\n",
    "from binance.client import *\n",
    "from binance.websockets import BinanceSocketManager\n",
    "from twisted.internet import reactor\n",
    "\n",
    "# Initialize Binance Socket Manager\n",
    "bm = BinanceSocketManager(client, user_timeout=60)\n",
    "list_messages = []\n",
    "conn_key = bm.start_trade_socket(TRADING_PAIR, process_message)\n",
    "bm.start\n"
   ]
  },
  {
   "cell_type": "code",
   "execution_count": null,
   "metadata": {},
   "outputs": [],
   "source": [
    "candles = client.get_klines(symbol=TRADING_PAIR, interval=Client.KLINE_INTERVAL_1MINUTE)"
   ]
  },
  {
   "cell_type": "code",
   "execution_count": null,
   "metadata": {},
   "outputs": [],
   "source": [
    "# Old Get klines from Binance Python API\n",
    "#klines = client.get_historical_klines(\"ONEBNB\", Client.KLINE_INTERVAL_1MINUTE, STARTING_DATE, END_DATE)"
   ]
  },
  {
   "cell_type": "code",
   "execution_count": null,
   "metadata": {},
   "outputs": [],
   "source": [
    "indexes = ['Open Time', 'Open', 'High','Low', 'Close', 'Volume', 'Close Time', 'QAV', 'No. Trades', 'Taker BBAV', 'Taker BQAV', 'Ignore']\n",
    "data = pd.DataFrame(columns=indexes,data=candles)"
   ]
  },
  {
   "cell_type": "code",
   "execution_count": null,
   "metadata": {},
   "outputs": [],
   "source": [
    "len(data)"
   ]
  },
  {
   "cell_type": "code",
   "execution_count": null,
   "metadata": {},
   "outputs": [],
   "source": [
    "data.to_csv(\"CryptoBot_202103006Mv001.csv\", index = False)"
   ]
  },
  {
   "cell_type": "code",
   "execution_count": 2,
   "metadata": {},
   "outputs": [],
   "source": [
    "data = pd.read_csv(\"CryptoBot_202103006Mv001.csv\")"
   ]
  },
  {
   "cell_type": "code",
   "execution_count": 3,
   "metadata": {},
   "outputs": [],
   "source": [
    "data.dtypes\n",
    "data['Open Time'] = data['Open Time'].apply(lambda x: datetime.fromtimestamp(int(x)/1000))\n",
    "data.set_index(['Open Time'], inplace=True)\n",
    "# data['Open'] = data['Open'].astype(float)\n",
    "# data['High'] = data['High'].astype(float)\n",
    "# data['Low'] = data['Low'].astype(float)\n",
    "data['Close'] = data['Close'].astype(float)\n",
    "data['Volume'] = data['Volume'].astype(float)\n",
    "# data['QAV'] = data['QAV'].astype(float)\n",
    "# data['Taker BBAV'] = data['Taker BBAV'].astype(float)\n",
    "# data['Taker BQAV'] = data['Taker BQAV'].astype(float)"
   ]
  },
  {
   "cell_type": "markdown",
   "metadata": {},
   "source": [
    "#### Multiplicação pelo fator 10**10 para evitar os problemas com float"
   ]
  },
  {
   "cell_type": "code",
   "execution_count": 4,
   "metadata": {},
   "outputs": [
    {
     "data": {
      "text/html": [
       "<div>\n",
       "<style scoped>\n",
       "    .dataframe tbody tr th:only-of-type {\n",
       "        vertical-align: middle;\n",
       "    }\n",
       "\n",
       "    .dataframe tbody tr th {\n",
       "        vertical-align: top;\n",
       "    }\n",
       "\n",
       "    .dataframe thead th {\n",
       "        text-align: right;\n",
       "    }\n",
       "</style>\n",
       "<table border=\"1\" class=\"dataframe\">\n",
       "  <thead>\n",
       "    <tr style=\"text-align: right;\">\n",
       "      <th></th>\n",
       "      <th>Open</th>\n",
       "      <th>High</th>\n",
       "      <th>Low</th>\n",
       "      <th>Close</th>\n",
       "      <th>Volume</th>\n",
       "      <th>Close Time</th>\n",
       "      <th>QAV</th>\n",
       "      <th>No. Trades</th>\n",
       "      <th>Taker BBAV</th>\n",
       "      <th>Taker BQAV</th>\n",
       "      <th>Ignore</th>\n",
       "    </tr>\n",
       "    <tr>\n",
       "      <th>Open Time</th>\n",
       "      <th></th>\n",
       "      <th></th>\n",
       "      <th></th>\n",
       "      <th></th>\n",
       "      <th></th>\n",
       "      <th></th>\n",
       "      <th></th>\n",
       "      <th></th>\n",
       "      <th></th>\n",
       "      <th></th>\n",
       "      <th></th>\n",
       "    </tr>\n",
       "  </thead>\n",
       "  <tbody>\n",
       "    <tr>\n",
       "      <th>2021-03-19 08:09:00</th>\n",
       "      <td>42560000.0000000000</td>\n",
       "      <td>42590000.0000000000</td>\n",
       "      <td>42560000.0000000000</td>\n",
       "      <td>42580000.0000000000</td>\n",
       "      <td>4430000000000.0000000000</td>\n",
       "      <td>2174191420432784384</td>\n",
       "      <td>18861070000.0000000000</td>\n",
       "      <td>60000000000</td>\n",
       "      <td>3500000000000.0000000000</td>\n",
       "      <td>14901130000.0000000000</td>\n",
       "      <td>0</td>\n",
       "    </tr>\n",
       "    <tr>\n",
       "      <th>2021-03-19 08:10:00</th>\n",
       "      <td>42580000.0000000000</td>\n",
       "      <td>42580000.0000000000</td>\n",
       "      <td>42580000.0000000000</td>\n",
       "      <td>42580000.0000000000</td>\n",
       "      <td>0.0000000000</td>\n",
       "      <td>2174791420432784384</td>\n",
       "      <td>0.0000000000</td>\n",
       "      <td>0</td>\n",
       "      <td>0.0000000000</td>\n",
       "      <td>0.0000000000</td>\n",
       "      <td>0</td>\n",
       "    </tr>\n",
       "    <tr>\n",
       "      <th>2021-03-19 08:11:00</th>\n",
       "      <td>42490000.0000000000</td>\n",
       "      <td>42620000.0000000000</td>\n",
       "      <td>42400000.0000000000</td>\n",
       "      <td>42400000.0000000000</td>\n",
       "      <td>25700000000000.0000000000</td>\n",
       "      <td>2175391420432784384</td>\n",
       "      <td>109069260000.0000000000</td>\n",
       "      <td>430000000000</td>\n",
       "      <td>1120000000000.0000000000</td>\n",
       "      <td>4772550000.0000000000</td>\n",
       "      <td>0</td>\n",
       "    </tr>\n",
       "    <tr>\n",
       "      <th>2021-03-19 08:12:00</th>\n",
       "      <td>42379999.9999999925</td>\n",
       "      <td>42390000.0000000000</td>\n",
       "      <td>42330000.0000000000</td>\n",
       "      <td>42390000.0000000000</td>\n",
       "      <td>11420000000000.0000000000</td>\n",
       "      <td>2175991420432784384</td>\n",
       "      <td>48363270000.0000000000</td>\n",
       "      <td>230000000000</td>\n",
       "      <td>0.0000000000</td>\n",
       "      <td>0.0000000000</td>\n",
       "      <td>0</td>\n",
       "    </tr>\n",
       "    <tr>\n",
       "      <th>2021-03-19 08:13:00</th>\n",
       "      <td>42400000.0000000000</td>\n",
       "      <td>42400000.0000000000</td>\n",
       "      <td>42390000.0000000000</td>\n",
       "      <td>42390000.0000000000</td>\n",
       "      <td>10960000000000.0000000000</td>\n",
       "      <td>2176591420432784384</td>\n",
       "      <td>46459720000.0000076294</td>\n",
       "      <td>30000000000</td>\n",
       "      <td>0.0000000000</td>\n",
       "      <td>0.0000000000</td>\n",
       "      <td>0</td>\n",
       "    </tr>\n",
       "    <tr>\n",
       "      <th>...</th>\n",
       "      <td>...</td>\n",
       "      <td>...</td>\n",
       "      <td>...</td>\n",
       "      <td>...</td>\n",
       "      <td>...</td>\n",
       "      <td>...</td>\n",
       "      <td>...</td>\n",
       "      <td>...</td>\n",
       "      <td>...</td>\n",
       "      <td>...</td>\n",
       "      <td>...</td>\n",
       "    </tr>\n",
       "    <tr>\n",
       "      <th>2021-03-19 16:24:00</th>\n",
       "      <td>42210000.0000000000</td>\n",
       "      <td>42210000.0000000000</td>\n",
       "      <td>42210000.0000000000</td>\n",
       "      <td>42210000.0000000000</td>\n",
       "      <td>150000000000.0000000000</td>\n",
       "      <td>2471191420432784384</td>\n",
       "      <td>633150000.0000000000</td>\n",
       "      <td>10000000000</td>\n",
       "      <td>0.0000000000</td>\n",
       "      <td>0.0000000000</td>\n",
       "      <td>0</td>\n",
       "    </tr>\n",
       "    <tr>\n",
       "      <th>2021-03-19 16:25:00</th>\n",
       "      <td>42210000.0000000000</td>\n",
       "      <td>42210000.0000000000</td>\n",
       "      <td>42210000.0000000000</td>\n",
       "      <td>42210000.0000000000</td>\n",
       "      <td>540000000000.0000000000</td>\n",
       "      <td>2471791420432784384</td>\n",
       "      <td>2279340000.0000000000</td>\n",
       "      <td>20000000000</td>\n",
       "      <td>0.0000000000</td>\n",
       "      <td>0.0000000000</td>\n",
       "      <td>0</td>\n",
       "    </tr>\n",
       "    <tr>\n",
       "      <th>2021-03-19 16:26:00</th>\n",
       "      <td>42200000.0000000000</td>\n",
       "      <td>42360000.0000000000</td>\n",
       "      <td>42200000.0000000000</td>\n",
       "      <td>42230000.0000000000</td>\n",
       "      <td>22680000000000.0000000000</td>\n",
       "      <td>2472391420432784384</td>\n",
       "      <td>96007820000.0000000000</td>\n",
       "      <td>180000000000</td>\n",
       "      <td>4180000000000.0000000000</td>\n",
       "      <td>17673000000.0000000000</td>\n",
       "      <td>0</td>\n",
       "    </tr>\n",
       "    <tr>\n",
       "      <th>2021-03-19 16:27:00</th>\n",
       "      <td>42220000.0000000000</td>\n",
       "      <td>42220000.0000000000</td>\n",
       "      <td>42210000.0000000000</td>\n",
       "      <td>42210000.0000000000</td>\n",
       "      <td>1520000000000.0000000000</td>\n",
       "      <td>2472991420432784384</td>\n",
       "      <td>6416460000.0000009537</td>\n",
       "      <td>30000000000</td>\n",
       "      <td>980000000000.0000000000</td>\n",
       "      <td>4136580000.0000004768</td>\n",
       "      <td>0</td>\n",
       "    </tr>\n",
       "    <tr>\n",
       "      <th>2021-03-19 16:28:00</th>\n",
       "      <td>42200000.0000000000</td>\n",
       "      <td>42200000.0000000000</td>\n",
       "      <td>42190000.0000000000</td>\n",
       "      <td>42190000.0000000000</td>\n",
       "      <td>370000000000.0000000000</td>\n",
       "      <td>2473591420432784384</td>\n",
       "      <td>1561230000.0000000000</td>\n",
       "      <td>30000000000</td>\n",
       "      <td>0.0000000000</td>\n",
       "      <td>0.0000000000</td>\n",
       "      <td>0</td>\n",
       "    </tr>\n",
       "  </tbody>\n",
       "</table>\n",
       "<p>500 rows × 11 columns</p>\n",
       "</div>"
      ],
      "text/plain": [
       "                                   Open                High  \\\n",
       "Open Time                                                     \n",
       "2021-03-19 08:09:00 42560000.0000000000 42590000.0000000000   \n",
       "2021-03-19 08:10:00 42580000.0000000000 42580000.0000000000   \n",
       "2021-03-19 08:11:00 42490000.0000000000 42620000.0000000000   \n",
       "2021-03-19 08:12:00 42379999.9999999925 42390000.0000000000   \n",
       "2021-03-19 08:13:00 42400000.0000000000 42400000.0000000000   \n",
       "...                                 ...                 ...   \n",
       "2021-03-19 16:24:00 42210000.0000000000 42210000.0000000000   \n",
       "2021-03-19 16:25:00 42210000.0000000000 42210000.0000000000   \n",
       "2021-03-19 16:26:00 42200000.0000000000 42360000.0000000000   \n",
       "2021-03-19 16:27:00 42220000.0000000000 42220000.0000000000   \n",
       "2021-03-19 16:28:00 42200000.0000000000 42200000.0000000000   \n",
       "\n",
       "                                    Low               Close  \\\n",
       "Open Time                                                     \n",
       "2021-03-19 08:09:00 42560000.0000000000 42580000.0000000000   \n",
       "2021-03-19 08:10:00 42580000.0000000000 42580000.0000000000   \n",
       "2021-03-19 08:11:00 42400000.0000000000 42400000.0000000000   \n",
       "2021-03-19 08:12:00 42330000.0000000000 42390000.0000000000   \n",
       "2021-03-19 08:13:00 42390000.0000000000 42390000.0000000000   \n",
       "...                                 ...                 ...   \n",
       "2021-03-19 16:24:00 42210000.0000000000 42210000.0000000000   \n",
       "2021-03-19 16:25:00 42210000.0000000000 42210000.0000000000   \n",
       "2021-03-19 16:26:00 42200000.0000000000 42230000.0000000000   \n",
       "2021-03-19 16:27:00 42210000.0000000000 42210000.0000000000   \n",
       "2021-03-19 16:28:00 42190000.0000000000 42190000.0000000000   \n",
       "\n",
       "                                       Volume           Close Time  \\\n",
       "Open Time                                                            \n",
       "2021-03-19 08:09:00  4430000000000.0000000000  2174191420432784384   \n",
       "2021-03-19 08:10:00              0.0000000000  2174791420432784384   \n",
       "2021-03-19 08:11:00 25700000000000.0000000000  2175391420432784384   \n",
       "2021-03-19 08:12:00 11420000000000.0000000000  2175991420432784384   \n",
       "2021-03-19 08:13:00 10960000000000.0000000000  2176591420432784384   \n",
       "...                                       ...                  ...   \n",
       "2021-03-19 16:24:00   150000000000.0000000000  2471191420432784384   \n",
       "2021-03-19 16:25:00   540000000000.0000000000  2471791420432784384   \n",
       "2021-03-19 16:26:00 22680000000000.0000000000  2472391420432784384   \n",
       "2021-03-19 16:27:00  1520000000000.0000000000  2472991420432784384   \n",
       "2021-03-19 16:28:00   370000000000.0000000000  2473591420432784384   \n",
       "\n",
       "                                        QAV    No. Trades  \\\n",
       "Open Time                                                   \n",
       "2021-03-19 08:09:00  18861070000.0000000000   60000000000   \n",
       "2021-03-19 08:10:00            0.0000000000             0   \n",
       "2021-03-19 08:11:00 109069260000.0000000000  430000000000   \n",
       "2021-03-19 08:12:00  48363270000.0000000000  230000000000   \n",
       "2021-03-19 08:13:00  46459720000.0000076294   30000000000   \n",
       "...                                     ...           ...   \n",
       "2021-03-19 16:24:00    633150000.0000000000   10000000000   \n",
       "2021-03-19 16:25:00   2279340000.0000000000   20000000000   \n",
       "2021-03-19 16:26:00  96007820000.0000000000  180000000000   \n",
       "2021-03-19 16:27:00   6416460000.0000009537   30000000000   \n",
       "2021-03-19 16:28:00   1561230000.0000000000   30000000000   \n",
       "\n",
       "                                  Taker BBAV             Taker BQAV  Ignore  \n",
       "Open Time                                                                    \n",
       "2021-03-19 08:09:00 3500000000000.0000000000 14901130000.0000000000       0  \n",
       "2021-03-19 08:10:00             0.0000000000           0.0000000000       0  \n",
       "2021-03-19 08:11:00 1120000000000.0000000000  4772550000.0000000000       0  \n",
       "2021-03-19 08:12:00             0.0000000000           0.0000000000       0  \n",
       "2021-03-19 08:13:00             0.0000000000           0.0000000000       0  \n",
       "...                                      ...                    ...     ...  \n",
       "2021-03-19 16:24:00             0.0000000000           0.0000000000       0  \n",
       "2021-03-19 16:25:00             0.0000000000           0.0000000000       0  \n",
       "2021-03-19 16:26:00 4180000000000.0000000000 17673000000.0000000000       0  \n",
       "2021-03-19 16:27:00  980000000000.0000000000  4136580000.0000004768       0  \n",
       "2021-03-19 16:28:00             0.0000000000           0.0000000000       0  \n",
       "\n",
       "[500 rows x 11 columns]"
      ]
     },
     "execution_count": 4,
     "metadata": {},
     "output_type": "execute_result"
    }
   ],
   "source": [
    "data = data*10**10\n",
    "data"
   ]
  },
  {
   "cell_type": "markdown",
   "metadata": {},
   "source": [
    "### 4- Gráficos da informação obtida pela API da Binance e armazenada em __data__\n",
    "\n",
    "#### [Introduction to Econometrics - G. S. Madalla](https://www.amazon.com.br/Introduction-Econometrics-G-S-Maddala/dp/0471497282) "
   ]
  },
  {
   "cell_type": "markdown",
   "metadata": {},
   "source": [
    "### Análise das informações obitidas pela API da Binance e armazenadas no dataframe __data__"
   ]
  },
  {
   "cell_type": "markdown",
   "metadata": {},
   "source": [
    "#### 4.1. Gráficos com legenda automática do dataframe __data__"
   ]
  },
  {
   "cell_type": "markdown",
   "metadata": {},
   "source": [
    "#### 4.1.1. Gráficos 'Open', 'High', 'Low', 'Close'"
   ]
  },
  {
   "cell_type": "code",
   "execution_count": 5,
   "metadata": {},
   "outputs": [
    {
     "data": {
      "text/plain": [
       "<matplotlib.legend.Legend at 0x1724834e160>"
      ]
     },
     "execution_count": 5,
     "metadata": {},
     "output_type": "execute_result"
    },
    {
     "data": {
      "image/png": "[encoded data removed]",
      "text/plain": [
       "<Figure size 1200x500 with 1 Axes>"
      ]
     },
     "metadata": {
      "needs_background": "light"
     },
     "output_type": "display_data"
    }
   ],
   "source": [
    "from matplotlib.pyplot import legend\n",
    "from matplotlib import pylab\n",
    "data_0 = data[['Open', 'High', 'Low', 'Close']]\n",
    "plt.figure(figsize=(12,5), dpi=100)\n",
    "line = plt.plot(data.index, data_0)\n",
    "plt.legend(line, data_0.columns)"
   ]
  },
  {
   "cell_type": "code",
   "execution_count": 6,
   "metadata": {},
   "outputs": [],
   "source": [
    "close = np.array(data['Close'])\n",
    "high = np.array(data['High'])\n",
    "low = np.array(data['Low'])"
   ]
  },
  {
   "cell_type": "markdown",
   "metadata": {},
   "source": [
    "##### 5.1.1. BBANDS - Bollinger Bands\n",
    "Learn more about the Bollinger Bands at tadoc.org."
   ]
  },
  {
   "cell_type": "raw",
   "metadata": {},
   "source": [
    "Observação:\n",
    "Os valores das linhas de Boillinger estão coincidindo "
   ]
  },
  {
   "cell_type": "raw",
   "metadata": {},
   "source": [
    "upperband, middleband, lowerband = talib.BBANDS(close, timeperiod=5, nbdevup=1.7, nbdevdn=1.7, matype=0)"
   ]
  },
  {
   "cell_type": "code",
   "execution_count": 7,
   "metadata": {},
   "outputs": [],
   "source": [
    "upperband, middleband, lowerband = talib.BBANDS(np.array(data['Close']), timeperiod=21, nbdevup=1.7, nbdevdn=1.7, matype=0)"
   ]
  },
  {
   "cell_type": "code",
   "execution_count": 8,
   "metadata": {},
   "outputs": [
    {
     "data": {
      "text/plain": [
       "array([42610476.19047619, 42618571.42857143, 42631428.57142857,\n",
       "       42646666.66666666, 42654761.9047619 , 42655714.28571428,\n",
       "       42658095.23809524, 42659523.80952381, 42659047.61904762,\n",
       "       42655238.0952381 ])"
      ]
     },
     "execution_count": 8,
     "metadata": {},
     "output_type": "execute_result"
    }
   ],
   "source": [
    "middleband[30:40]"
   ]
  },
  {
   "cell_type": "code",
   "execution_count": 9,
   "metadata": {},
   "outputs": [
    {
     "data": {
      "text/plain": [
       "array([42787959.55496658, 42786640.73724318, 42790408.82519485,\n",
       "       42785206.44377755, 42776066.28570083, 42775068.95640584,\n",
       "       42770813.97983316, 42769880.64160253, 42770450.5668543 ,\n",
       "       42777671.71369644])"
      ]
     },
     "execution_count": 9,
     "metadata": {},
     "output_type": "execute_result"
    }
   ],
   "source": [
    "upperband[30:40]"
   ]
  },
  {
   "cell_type": "code",
   "execution_count": 10,
   "metadata": {},
   "outputs": [
    {
     "data": {
      "text/plain": [
       "nan"
      ]
     },
     "execution_count": 10,
     "metadata": {},
     "output_type": "execute_result"
    }
   ],
   "source": [
    "upperband[0]"
   ]
  },
  {
   "cell_type": "code",
   "execution_count": 12,
   "metadata": {},
   "outputs": [
    {
     "data": {
      "image/png": "[encoded data removed]",
      "text/plain": [
       "<Figure size 1200x500 with 1 Axes>"
      ]
     },
     "metadata": {
      "needs_background": "light"
     },
     "output_type": "display_data"
    }
   ],
   "source": [
    "#Bordas de Boillinger\n",
    "data_Boillinger = pd.DataFrame({\"Upperband\": upperband/(10**10), \"Middleband\":middleband/(10**10), \"Lowerband\":lowerband/(10**10)})\n",
    "\n",
    "data_0 = data_Boillinger[[\"Upperband\", \"Middleband\", \"Lowerband\"]]\n",
    "plt.figure(figsize=(12,5), dpi=100)\n",
    "line = plt.plot(data.index, data_0)\n",
    "\n",
    "\n",
    "#Preço\n",
    "data_p = pd.DataFrame()\n",
    "data_p['Close'] = data['Close']/(10**10)\n",
    "\n",
    "line_p = plt.plot(data_p.index, data_p)\n",
    "\n",
    "\n",
    "plt.legend(line, data_0.columns)\n",
    "plt.legend(line_p, data_p.columns)\n",
    "plt.show()"
   ]
  },
  {
   "cell_type": "code",
   "execution_count": 13,
   "metadata": {},
   "outputs": [],
   "source": [
    "df_BBANDS_score = pd.DataFrame()\n",
    "for i in range(len(data)):\n",
    "    df_BBANDS_score = df_BBANDS_score.append({\"Close\": data['Close'][i], \"Upperband\":upperband[i], \"Middleband\":middleband[i], \"Lowerband\":lowerband[i]}, ignore_index = True)"
   ]
  },
  {
   "cell_type": "code",
   "execution_count": 14,
   "metadata": {},
   "outputs": [
    {
     "data": {
      "text/plain": [
       "range(0, 500)"
      ]
     },
     "execution_count": 14,
     "metadata": {},
     "output_type": "execute_result"
    }
   ],
   "source": [
    "range(len(data))"
   ]
  },
  {
   "cell_type": "code",
   "execution_count": 15,
   "metadata": {},
   "outputs": [],
   "source": [
    "data_BBANDS = data_p.dropna().reset_index(drop = True)"
   ]
  },
  {
   "cell_type": "code",
   "execution_count": 16,
   "metadata": {},
   "outputs": [
    {
     "data": {
      "text/html": [
       "<div>\n",
       "<style scoped>\n",
       "    .dataframe tbody tr th:only-of-type {\n",
       "        vertical-align: middle;\n",
       "    }\n",
       "\n",
       "    .dataframe tbody tr th {\n",
       "        vertical-align: top;\n",
       "    }\n",
       "\n",
       "    .dataframe thead th {\n",
       "        text-align: right;\n",
       "    }\n",
       "</style>\n",
       "<table border=\"1\" class=\"dataframe\">\n",
       "  <thead>\n",
       "    <tr style=\"text-align: right;\">\n",
       "      <th></th>\n",
       "      <th>Close</th>\n",
       "    </tr>\n",
       "  </thead>\n",
       "  <tbody>\n",
       "    <tr>\n",
       "      <th>0</th>\n",
       "      <td>0.0042580000</td>\n",
       "    </tr>\n",
       "    <tr>\n",
       "      <th>1</th>\n",
       "      <td>0.0042580000</td>\n",
       "    </tr>\n",
       "    <tr>\n",
       "      <th>2</th>\n",
       "      <td>0.0042400000</td>\n",
       "    </tr>\n",
       "    <tr>\n",
       "      <th>3</th>\n",
       "      <td>0.0042390000</td>\n",
       "    </tr>\n",
       "    <tr>\n",
       "      <th>4</th>\n",
       "      <td>0.0042390000</td>\n",
       "    </tr>\n",
       "    <tr>\n",
       "      <th>...</th>\n",
       "      <td>...</td>\n",
       "    </tr>\n",
       "    <tr>\n",
       "      <th>495</th>\n",
       "      <td>0.0042210000</td>\n",
       "    </tr>\n",
       "    <tr>\n",
       "      <th>496</th>\n",
       "      <td>0.0042210000</td>\n",
       "    </tr>\n",
       "    <tr>\n",
       "      <th>497</th>\n",
       "      <td>0.0042230000</td>\n",
       "    </tr>\n",
       "    <tr>\n",
       "      <th>498</th>\n",
       "      <td>0.0042210000</td>\n",
       "    </tr>\n",
       "    <tr>\n",
       "      <th>499</th>\n",
       "      <td>0.0042190000</td>\n",
       "    </tr>\n",
       "  </tbody>\n",
       "</table>\n",
       "<p>500 rows × 1 columns</p>\n",
       "</div>"
      ],
      "text/plain": [
       "           Close\n",
       "0   0.0042580000\n",
       "1   0.0042580000\n",
       "2   0.0042400000\n",
       "3   0.0042390000\n",
       "4   0.0042390000\n",
       "..           ...\n",
       "495 0.0042210000\n",
       "496 0.0042210000\n",
       "497 0.0042230000\n",
       "498 0.0042210000\n",
       "499 0.0042190000\n",
       "\n",
       "[500 rows x 1 columns]"
      ]
     },
     "execution_count": 16,
     "metadata": {},
     "output_type": "execute_result"
    }
   ],
   "source": [
    "data_BBANDS"
   ]
  },
  {
   "cell_type": "code",
   "execution_count": null,
   "metadata": {},
   "outputs": [],
   "source": []
  },
  {
   "cell_type": "code",
   "execution_count": 17,
   "metadata": {},
   "outputs": [],
   "source": [
    "df_BBANDS_score[\"Close\"] = data_BBANDS"
   ]
  },
  {
   "cell_type": "code",
   "execution_count": 18,
   "metadata": {},
   "outputs": [
    {
     "data": {
      "text/html": [
       "<div>\n",
       "<style scoped>\n",
       "    .dataframe tbody tr th:only-of-type {\n",
       "        vertical-align: middle;\n",
       "    }\n",
       "\n",
       "    .dataframe tbody tr th {\n",
       "        vertical-align: top;\n",
       "    }\n",
       "\n",
       "    .dataframe thead th {\n",
       "        text-align: right;\n",
       "    }\n",
       "</style>\n",
       "<table border=\"1\" class=\"dataframe\">\n",
       "  <thead>\n",
       "    <tr style=\"text-align: right;\">\n",
       "      <th></th>\n",
       "      <th>Close</th>\n",
       "      <th>Lowerband</th>\n",
       "      <th>Middleband</th>\n",
       "      <th>Upperband</th>\n",
       "    </tr>\n",
       "  </thead>\n",
       "  <tbody>\n",
       "    <tr>\n",
       "      <th>0</th>\n",
       "      <td>0.0042580000</td>\n",
       "      <td>NaN</td>\n",
       "      <td>NaN</td>\n",
       "      <td>NaN</td>\n",
       "    </tr>\n",
       "    <tr>\n",
       "      <th>1</th>\n",
       "      <td>0.0042580000</td>\n",
       "      <td>NaN</td>\n",
       "      <td>NaN</td>\n",
       "      <td>NaN</td>\n",
       "    </tr>\n",
       "    <tr>\n",
       "      <th>2</th>\n",
       "      <td>0.0042400000</td>\n",
       "      <td>NaN</td>\n",
       "      <td>NaN</td>\n",
       "      <td>NaN</td>\n",
       "    </tr>\n",
       "    <tr>\n",
       "      <th>3</th>\n",
       "      <td>0.0042390000</td>\n",
       "      <td>NaN</td>\n",
       "      <td>NaN</td>\n",
       "      <td>NaN</td>\n",
       "    </tr>\n",
       "    <tr>\n",
       "      <th>4</th>\n",
       "      <td>0.0042390000</td>\n",
       "      <td>NaN</td>\n",
       "      <td>NaN</td>\n",
       "      <td>NaN</td>\n",
       "    </tr>\n",
       "    <tr>\n",
       "      <th>...</th>\n",
       "      <td>...</td>\n",
       "      <td>...</td>\n",
       "      <td>...</td>\n",
       "      <td>...</td>\n",
       "    </tr>\n",
       "    <tr>\n",
       "      <th>495</th>\n",
       "      <td>0.0042210000</td>\n",
       "      <td>42236872.0891308784</td>\n",
       "      <td>42316666.6666666642</td>\n",
       "      <td>42396461.2442024499</td>\n",
       "    </tr>\n",
       "    <tr>\n",
       "      <th>496</th>\n",
       "      <td>0.0042210000</td>\n",
       "      <td>42222526.4665897414</td>\n",
       "      <td>42310000.0000000000</td>\n",
       "      <td>42397473.5334102586</td>\n",
       "    </tr>\n",
       "    <tr>\n",
       "      <th>497</th>\n",
       "      <td>0.0042230000</td>\n",
       "      <td>42213633.5045573935</td>\n",
       "      <td>42304285.7142857164</td>\n",
       "      <td>42394937.9240140393</td>\n",
       "    </tr>\n",
       "    <tr>\n",
       "      <th>498</th>\n",
       "      <td>0.0042210000</td>\n",
       "      <td>42202618.0570499748</td>\n",
       "      <td>42297619.0476190448</td>\n",
       "      <td>42392620.0381881148</td>\n",
       "    </tr>\n",
       "    <tr>\n",
       "      <th>499</th>\n",
       "      <td>0.0042190000</td>\n",
       "      <td>42189632.1053034514</td>\n",
       "      <td>42290000.0000000000</td>\n",
       "      <td>42390367.8946965486</td>\n",
       "    </tr>\n",
       "  </tbody>\n",
       "</table>\n",
       "<p>500 rows × 4 columns</p>\n",
       "</div>"
      ],
      "text/plain": [
       "           Close           Lowerband          Middleband           Upperband\n",
       "0   0.0042580000                 NaN                 NaN                 NaN\n",
       "1   0.0042580000                 NaN                 NaN                 NaN\n",
       "2   0.0042400000                 NaN                 NaN                 NaN\n",
       "3   0.0042390000                 NaN                 NaN                 NaN\n",
       "4   0.0042390000                 NaN                 NaN                 NaN\n",
       "..           ...                 ...                 ...                 ...\n",
       "495 0.0042210000 42236872.0891308784 42316666.6666666642 42396461.2442024499\n",
       "496 0.0042210000 42222526.4665897414 42310000.0000000000 42397473.5334102586\n",
       "497 0.0042230000 42213633.5045573935 42304285.7142857164 42394937.9240140393\n",
       "498 0.0042210000 42202618.0570499748 42297619.0476190448 42392620.0381881148\n",
       "499 0.0042190000 42189632.1053034514 42290000.0000000000 42390367.8946965486\n",
       "\n",
       "[500 rows x 4 columns]"
      ]
     },
     "execution_count": 18,
     "metadata": {},
     "output_type": "execute_result"
    }
   ],
   "source": [
    "df_BBANDS_score"
   ]
  },
  {
   "cell_type": "code",
   "execution_count": 19,
   "metadata": {},
   "outputs": [],
   "source": [
    "df_BBANDS_score = df_BBANDS_score.dropna().reset_index(drop = True)"
   ]
  },
  {
   "cell_type": "code",
   "execution_count": 20,
   "metadata": {},
   "outputs": [
    {
     "data": {
      "text/plain": [
       "0.004266"
      ]
     },
     "execution_count": 20,
     "metadata": {},
     "output_type": "execute_result"
    }
   ],
   "source": [
    "df_BBANDS_score[\"Close\"][0]"
   ]
  },
  {
   "cell_type": "markdown",
   "metadata": {},
   "source": [
    "## Loop com o de compra com Bordar de Boillinger"
   ]
  },
  {
   "cell_type": "code",
   "execution_count": 21,
   "metadata": {},
   "outputs": [],
   "source": [
    "# Todos os valores estão em reais\n",
    "M_0 = 100.0\n",
    "\n",
    "Montante_reais = M_0/2 # Fração do montante na primeira moeda do par\n",
    "Montante_crypto = M_0/2/df_BBANDS_score[\"Close\"][0] # Fração da criptomoeda correspondente ao complemento do investimento inicial.\n",
    "                                                    # É o valor em reais dividido pelo valor de fechamento da criptomoeda no momento da compra.\n",
    "Montante_total = M_0\n",
    "df_BBANDS_score[\"Upper Touch\"] = 0.0\n",
    "df_BBANDS_score[\"Down Touch\"] = 0.0\n",
    "df_BBANDS_score[\"Ganho [%]\"] = 0.0\n",
    "df_BBANDS_score[\"Montante_total\"] = Montante_total\n",
    "change = \"\"\n",
    "last_change = \"\" # Toque inicial na linha de Boilliger é vazio\n",
    "band_count = 0\n",
    "for i in range(len(df_BBANDS_score)):\n",
    "    \n",
    "    last_change = change\n",
    "    Montante_total = Montante_reais + Montante_crypto*df_BBANDS_score['Close'][i]\n",
    "    df_BBANDS_score[\"Montante_total\"][i] = Montante_total\n",
    "    df_BBANDS_score[\"Ganho [%]\"][i] = (Montante_total - M_0)/M_0*100\n",
    "    if (df_BBANDS_score['Close'][i] - df_BBANDS_score['Upperband'][i])>0.0:\n",
    "        df_BBANDS_score[\"Upper Touch\"][i] = 1\n",
    "        change = \"UP\"\n",
    "        \n",
    "    if ((df_BBANDS_score['Close'][i] - df_BBANDS_score['Lowerband'][i])<0.0):\n",
    "        df_BBANDS_score[\"Down Touch\"][i] = 1\n",
    "        change = \"DOWN\"\n",
    "    \n",
    "    if (last_change != change):\n",
    "        if (last_change == \"UP\"):\n",
    "            venda_cripto = 0.03*Montante_crypto*df_BBANDS_score['Close'][i] # Venda das criptos em reais\n",
    "            Montante_crypto -= 0.03*Montante_crypto # Diminui o montante de crypto moedas\n",
    "            Montante_reais += venda_cripto # Aumenta o montante de reais\n",
    "        if (last_change == \"DOWN\"):\n",
    "            compra_cripto = 0.03*Montante_reais\n",
    "            Montante_reais -= compra_cripto\n",
    "            Montante_crypto += compra_cripto/df_BBANDS_score['Close'][i]\n",
    "        #Conta o número de mudanças entre compra e venda de acordo com os toques alternados nas Bordas de Boillinger\n",
    "        band_count += 1 \n",
    "\n"
   ]
  },
  {
   "cell_type": "code",
   "execution_count": 22,
   "metadata": {},
   "outputs": [
    {
     "data": {
      "text/plain": [
       "1"
      ]
     },
     "execution_count": 22,
     "metadata": {},
     "output_type": "execute_result"
    }
   ],
   "source": [
    "band_count"
   ]
  },
  {
   "cell_type": "code",
   "execution_count": 23,
   "metadata": {},
   "outputs": [
    {
     "data": {
      "text/plain": [
       "True"
      ]
     },
     "execution_count": 23,
     "metadata": {},
     "output_type": "execute_result"
    }
   ],
   "source": [
    "\"\" != \"UP\""
   ]
  },
  {
   "cell_type": "code",
   "execution_count": 24,
   "metadata": {},
   "outputs": [
    {
     "data": {
      "text/plain": [
       "99.44913267698078"
      ]
     },
     "execution_count": 24,
     "metadata": {},
     "output_type": "execute_result"
    }
   ],
   "source": [
    "Montante_total"
   ]
  },
  {
   "cell_type": "code",
   "execution_count": 25,
   "metadata": {},
   "outputs": [
    {
     "data": {
      "text/html": [
       "<div>\n",
       "<style scoped>\n",
       "    .dataframe tbody tr th:only-of-type {\n",
       "        vertical-align: middle;\n",
       "    }\n",
       "\n",
       "    .dataframe tbody tr th {\n",
       "        vertical-align: top;\n",
       "    }\n",
       "\n",
       "    .dataframe thead th {\n",
       "        text-align: right;\n",
       "    }\n",
       "</style>\n",
       "<table border=\"1\" class=\"dataframe\">\n",
       "  <thead>\n",
       "    <tr style=\"text-align: right;\">\n",
       "      <th></th>\n",
       "      <th>Close</th>\n",
       "      <th>Lowerband</th>\n",
       "      <th>Middleband</th>\n",
       "      <th>Upperband</th>\n",
       "      <th>Upper Touch</th>\n",
       "      <th>Down Touch</th>\n",
       "      <th>Ganho [%]</th>\n",
       "      <th>Montante_total</th>\n",
       "    </tr>\n",
       "  </thead>\n",
       "  <tbody>\n",
       "    <tr>\n",
       "      <th>0</th>\n",
       "      <td>0.0042660000</td>\n",
       "      <td>42345860.2705142498</td>\n",
       "      <td>42489047.6190476194</td>\n",
       "      <td>42632234.9675809890</td>\n",
       "      <td>0.0000000000</td>\n",
       "      <td>1.0000000000</td>\n",
       "      <td>0.0000000000</td>\n",
       "      <td>100.0000000000</td>\n",
       "    </tr>\n",
       "    <tr>\n",
       "      <th>1</th>\n",
       "      <td>0.0042660000</td>\n",
       "      <td>42340069.3081017360</td>\n",
       "      <td>42492857.1428571418</td>\n",
       "      <td>42645644.9776125476</td>\n",
       "      <td>0.0000000000</td>\n",
       "      <td>1.0000000000</td>\n",
       "      <td>0.0000000000</td>\n",
       "      <td>100.0000000000</td>\n",
       "    </tr>\n",
       "    <tr>\n",
       "      <th>2</th>\n",
       "      <td>0.0042700000</td>\n",
       "      <td>42330912.0313694626</td>\n",
       "      <td>42498571.4285714254</td>\n",
       "      <td>42666230.8257733881</td>\n",
       "      <td>0.0000000000</td>\n",
       "      <td>1.0000000000</td>\n",
       "      <td>0.0468823254</td>\n",
       "      <td>100.0468823254</td>\n",
       "    </tr>\n",
       "    <tr>\n",
       "      <th>3</th>\n",
       "      <td>0.0042700000</td>\n",
       "      <td>42334625.8095752895</td>\n",
       "      <td>42512857.1428571418</td>\n",
       "      <td>42691088.4761389941</td>\n",
       "      <td>0.0000000000</td>\n",
       "      <td>1.0000000000</td>\n",
       "      <td>0.0468823254</td>\n",
       "      <td>100.0468823254</td>\n",
       "    </tr>\n",
       "    <tr>\n",
       "      <th>4</th>\n",
       "      <td>0.0042700000</td>\n",
       "      <td>42343556.0469668061</td>\n",
       "      <td>42527619.0476190448</td>\n",
       "      <td>42711682.0482712835</td>\n",
       "      <td>0.0000000000</td>\n",
       "      <td>1.0000000000</td>\n",
       "      <td>0.0468823254</td>\n",
       "      <td>100.0468823254</td>\n",
       "    </tr>\n",
       "    <tr>\n",
       "      <th>...</th>\n",
       "      <td>...</td>\n",
       "      <td>...</td>\n",
       "      <td>...</td>\n",
       "      <td>...</td>\n",
       "      <td>...</td>\n",
       "      <td>...</td>\n",
       "      <td>...</td>\n",
       "      <td>...</td>\n",
       "    </tr>\n",
       "    <tr>\n",
       "      <th>475</th>\n",
       "      <td>0.0042210000</td>\n",
       "      <td>42236872.0891308784</td>\n",
       "      <td>42316666.6666666642</td>\n",
       "      <td>42396461.2442024499</td>\n",
       "      <td>0.0000000000</td>\n",
       "      <td>1.0000000000</td>\n",
       "      <td>-0.5274261603</td>\n",
       "      <td>99.4725738397</td>\n",
       "    </tr>\n",
       "    <tr>\n",
       "      <th>476</th>\n",
       "      <td>0.0042210000</td>\n",
       "      <td>42222526.4665897414</td>\n",
       "      <td>42310000.0000000000</td>\n",
       "      <td>42397473.5334102586</td>\n",
       "      <td>0.0000000000</td>\n",
       "      <td>1.0000000000</td>\n",
       "      <td>-0.5274261603</td>\n",
       "      <td>99.4725738397</td>\n",
       "    </tr>\n",
       "    <tr>\n",
       "      <th>477</th>\n",
       "      <td>0.0042230000</td>\n",
       "      <td>42213633.5045573935</td>\n",
       "      <td>42304285.7142857164</td>\n",
       "      <td>42394937.9240140393</td>\n",
       "      <td>0.0000000000</td>\n",
       "      <td>1.0000000000</td>\n",
       "      <td>-0.5039849977</td>\n",
       "      <td>99.4960150023</td>\n",
       "    </tr>\n",
       "    <tr>\n",
       "      <th>478</th>\n",
       "      <td>0.0042210000</td>\n",
       "      <td>42202618.0570499748</td>\n",
       "      <td>42297619.0476190448</td>\n",
       "      <td>42392620.0381881148</td>\n",
       "      <td>0.0000000000</td>\n",
       "      <td>1.0000000000</td>\n",
       "      <td>-0.5274261603</td>\n",
       "      <td>99.4725738397</td>\n",
       "    </tr>\n",
       "    <tr>\n",
       "      <th>479</th>\n",
       "      <td>0.0042190000</td>\n",
       "      <td>42189632.1053034514</td>\n",
       "      <td>42290000.0000000000</td>\n",
       "      <td>42390367.8946965486</td>\n",
       "      <td>0.0000000000</td>\n",
       "      <td>1.0000000000</td>\n",
       "      <td>-0.5508673230</td>\n",
       "      <td>99.4491326770</td>\n",
       "    </tr>\n",
       "  </tbody>\n",
       "</table>\n",
       "<p>480 rows × 8 columns</p>\n",
       "</div>"
      ],
      "text/plain": [
       "           Close           Lowerband          Middleband           Upperband  \\\n",
       "0   0.0042660000 42345860.2705142498 42489047.6190476194 42632234.9675809890   \n",
       "1   0.0042660000 42340069.3081017360 42492857.1428571418 42645644.9776125476   \n",
       "2   0.0042700000 42330912.0313694626 42498571.4285714254 42666230.8257733881   \n",
       "3   0.0042700000 42334625.8095752895 42512857.1428571418 42691088.4761389941   \n",
       "4   0.0042700000 42343556.0469668061 42527619.0476190448 42711682.0482712835   \n",
       "..           ...                 ...                 ...                 ...   \n",
       "475 0.0042210000 42236872.0891308784 42316666.6666666642 42396461.2442024499   \n",
       "476 0.0042210000 42222526.4665897414 42310000.0000000000 42397473.5334102586   \n",
       "477 0.0042230000 42213633.5045573935 42304285.7142857164 42394937.9240140393   \n",
       "478 0.0042210000 42202618.0570499748 42297619.0476190448 42392620.0381881148   \n",
       "479 0.0042190000 42189632.1053034514 42290000.0000000000 42390367.8946965486   \n",
       "\n",
       "     Upper Touch   Down Touch     Ganho [%]  Montante_total  \n",
       "0   0.0000000000 1.0000000000  0.0000000000  100.0000000000  \n",
       "1   0.0000000000 1.0000000000  0.0000000000  100.0000000000  \n",
       "2   0.0000000000 1.0000000000  0.0468823254  100.0468823254  \n",
       "3   0.0000000000 1.0000000000  0.0468823254  100.0468823254  \n",
       "4   0.0000000000 1.0000000000  0.0468823254  100.0468823254  \n",
       "..           ...          ...           ...             ...  \n",
       "475 0.0000000000 1.0000000000 -0.5274261603   99.4725738397  \n",
       "476 0.0000000000 1.0000000000 -0.5274261603   99.4725738397  \n",
       "477 0.0000000000 1.0000000000 -0.5039849977   99.4960150023  \n",
       "478 0.0000000000 1.0000000000 -0.5274261603   99.4725738397  \n",
       "479 0.0000000000 1.0000000000 -0.5508673230   99.4491326770  \n",
       "\n",
       "[480 rows x 8 columns]"
      ]
     },
     "execution_count": 25,
     "metadata": {},
     "output_type": "execute_result"
    }
   ],
   "source": [
    "df_BBANDS_score"
   ]
  },
  {
   "cell_type": "code",
   "execution_count": 26,
   "metadata": {},
   "outputs": [
    {
     "data": {
      "image/png": "[encoded data removed]",
      "text/plain": [
       "<Figure size 1200x500 with 1 Axes>"
      ]
     },
     "metadata": {
      "needs_background": "light"
     },
     "output_type": "display_data"
    }
   ],
   "source": [
    "data_0 = df_BBANDS_score[[\"Montante_total\"]]\n",
    "plt.figure(figsize=(12,5), dpi=100)\n",
    "line = plt.plot(df_BBANDS_score.index, data_0)\n",
    "\n",
    "\n",
    "#Preço\n",
    "# data_p = pd.DataFrame()\n",
    "# data_p['Close'] = data['Close']\n",
    "\n",
    "# line_p = plt.plot(data_p.index, data_p)\n",
    "\n",
    "\n",
    "plt.legend(line, df_BBANDS_score.columns)\n",
    "# plt.legend(line_p, data_p.columns)\n",
    "plt.show()"
   ]
  },
  {
   "cell_type": "code",
   "execution_count": 27,
   "metadata": {},
   "outputs": [
    {
     "data": {
      "text/plain": [
       "Close                      1.9647750000\n",
       "Lowerband        19555403857.7516059875\n",
       "Middleband       19651959047.6190490723\n",
       "Upperband        19748514237.4864883423\n",
       "Upper Touch                0.0000000000\n",
       "Down Touch               467.0000000000\n",
       "Ganho [%]               -321.6947960619\n",
       "Montante_total         46378.3052039381\n",
       "dtype: float64"
      ]
     },
     "execution_count": 27,
     "metadata": {},
     "output_type": "execute_result"
    }
   ],
   "source": [
    "df_BBANDS_score[df_BBANDS_score[\"Ganho [%]\"]<0.0].sum()"
   ]
  },
  {
   "cell_type": "code",
   "execution_count": 28,
   "metadata": {},
   "outputs": [
    {
     "data": {
      "text/plain": [
       "Close                    0.0469840000\n",
       "Lowerband        466359795.7543522716\n",
       "Middleband       468286666.6666666865\n",
       "Upperband        470213537.5789809823\n",
       "Upper Touch              0.0000000000\n",
       "Down Touch              11.0000000000\n",
       "Ganho [%]                0.6797937178\n",
       "Montante_total        1100.6797937178\n",
       "dtype: float64"
      ]
     },
     "execution_count": 28,
     "metadata": {},
     "output_type": "execute_result"
    }
   ],
   "source": [
    "df_BBANDS_score[df_BBANDS_score[\"Ganho [%]\"]>0.0].sum()"
   ]
  },
  {
   "cell_type": "code",
   "execution_count": 29,
   "metadata": {},
   "outputs": [
    {
     "data": {
      "text/html": [
       "<div>\n",
       "<style scoped>\n",
       "    .dataframe tbody tr th:only-of-type {\n",
       "        vertical-align: middle;\n",
       "    }\n",
       "\n",
       "    .dataframe tbody tr th {\n",
       "        vertical-align: top;\n",
       "    }\n",
       "\n",
       "    .dataframe thead th {\n",
       "        text-align: right;\n",
       "    }\n",
       "</style>\n",
       "<table border=\"1\" class=\"dataframe\">\n",
       "  <thead>\n",
       "    <tr style=\"text-align: right;\">\n",
       "      <th></th>\n",
       "      <th>Close</th>\n",
       "      <th>Lowerband</th>\n",
       "      <th>Middleband</th>\n",
       "      <th>Upperband</th>\n",
       "      <th>Upper Touch</th>\n",
       "      <th>Down Touch</th>\n",
       "      <th>Ganho [%]</th>\n",
       "      <th>Montante_total</th>\n",
       "    </tr>\n",
       "  </thead>\n",
       "  <tbody>\n",
       "    <tr>\n",
       "      <th>475</th>\n",
       "      <td>0.0042210000</td>\n",
       "      <td>42236872.0891308784</td>\n",
       "      <td>42316666.6666666642</td>\n",
       "      <td>42396461.2442024499</td>\n",
       "      <td>0.0000000000</td>\n",
       "      <td>1.0000000000</td>\n",
       "      <td>-0.5274261603</td>\n",
       "      <td>99.4725738397</td>\n",
       "    </tr>\n",
       "    <tr>\n",
       "      <th>476</th>\n",
       "      <td>0.0042210000</td>\n",
       "      <td>42222526.4665897414</td>\n",
       "      <td>42310000.0000000000</td>\n",
       "      <td>42397473.5334102586</td>\n",
       "      <td>0.0000000000</td>\n",
       "      <td>1.0000000000</td>\n",
       "      <td>-0.5274261603</td>\n",
       "      <td>99.4725738397</td>\n",
       "    </tr>\n",
       "    <tr>\n",
       "      <th>477</th>\n",
       "      <td>0.0042230000</td>\n",
       "      <td>42213633.5045573935</td>\n",
       "      <td>42304285.7142857164</td>\n",
       "      <td>42394937.9240140393</td>\n",
       "      <td>0.0000000000</td>\n",
       "      <td>1.0000000000</td>\n",
       "      <td>-0.5039849977</td>\n",
       "      <td>99.4960150023</td>\n",
       "    </tr>\n",
       "    <tr>\n",
       "      <th>478</th>\n",
       "      <td>0.0042210000</td>\n",
       "      <td>42202618.0570499748</td>\n",
       "      <td>42297619.0476190448</td>\n",
       "      <td>42392620.0381881148</td>\n",
       "      <td>0.0000000000</td>\n",
       "      <td>1.0000000000</td>\n",
       "      <td>-0.5274261603</td>\n",
       "      <td>99.4725738397</td>\n",
       "    </tr>\n",
       "    <tr>\n",
       "      <th>479</th>\n",
       "      <td>0.0042190000</td>\n",
       "      <td>42189632.1053034514</td>\n",
       "      <td>42290000.0000000000</td>\n",
       "      <td>42390367.8946965486</td>\n",
       "      <td>0.0000000000</td>\n",
       "      <td>1.0000000000</td>\n",
       "      <td>-0.5508673230</td>\n",
       "      <td>99.4491326770</td>\n",
       "    </tr>\n",
       "  </tbody>\n",
       "</table>\n",
       "</div>"
      ],
      "text/plain": [
       "           Close           Lowerband          Middleband           Upperband  \\\n",
       "475 0.0042210000 42236872.0891308784 42316666.6666666642 42396461.2442024499   \n",
       "476 0.0042210000 42222526.4665897414 42310000.0000000000 42397473.5334102586   \n",
       "477 0.0042230000 42213633.5045573935 42304285.7142857164 42394937.9240140393   \n",
       "478 0.0042210000 42202618.0570499748 42297619.0476190448 42392620.0381881148   \n",
       "479 0.0042190000 42189632.1053034514 42290000.0000000000 42390367.8946965486   \n",
       "\n",
       "     Upper Touch   Down Touch     Ganho [%]  Montante_total  \n",
       "475 0.0000000000 1.0000000000 -0.5274261603   99.4725738397  \n",
       "476 0.0000000000 1.0000000000 -0.5274261603   99.4725738397  \n",
       "477 0.0000000000 1.0000000000 -0.5039849977   99.4960150023  \n",
       "478 0.0000000000 1.0000000000 -0.5274261603   99.4725738397  \n",
       "479 0.0000000000 1.0000000000 -0.5508673230   99.4491326770  "
      ]
     },
     "execution_count": 29,
     "metadata": {},
     "output_type": "execute_result"
    }
   ],
   "source": [
    "df_BBANDS_score.tail()"
   ]
  }
 ],
 "metadata": {
  "kernelspec": {
   "display_name": "Python 3",
   "language": "python",
   "name": "python3"
  },
  "language_info": {
   "codemirror_mode": {
    "name": "ipython",
    "version": 3
   },
   "file_extension": ".py",
   "mimetype": "text/x-python",
   "name": "python",
   "nbconvert_exporter": "python",
   "pygments_lexer": "ipython3",
   "version": "3.8.8"
  }
 },
 "nbformat": 4,
 "nbformat_minor": 4
}
